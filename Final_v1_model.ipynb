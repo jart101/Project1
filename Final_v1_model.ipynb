{
  "nbformat": 4,
  "nbformat_minor": 0,
  "metadata": {
    "colab": {
      "name": "Final_v1_model.ipynb",
      "provenance": [],
      "collapsed_sections": [
        "WX0orsI4ASyD",
        "ypKL-0adLIYx",
        "LU8Sg1UtcA_X",
        "z6HFK2B2byso",
        "NOqCnTTfdEXb",
        "EyDHejOTIEi4",
        "aEFrNYAVIJMR",
        "a1NN_fN4NcLQ",
        "-zaQcn9pQItf"
      ]
    },
    "kernelspec": {
      "name": "python3",
      "display_name": "Python 3"
    },
    "language_info": {
      "name": "python"
    },
    "widgets": {
      "application/vnd.jupyter.widget-state+json": {
        "b9bbfc1c321442d29171acbd5e222b29": {
          "model_module": "@jupyter-widgets/controls",
          "model_name": "HBoxModel",
          "state": {
            "_view_name": "HBoxView",
            "_dom_classes": [],
            "_model_name": "HBoxModel",
            "_view_module": "@jupyter-widgets/controls",
            "_model_module_version": "1.5.0",
            "_view_count": null,
            "_view_module_version": "1.5.0",
            "box_style": "",
            "layout": "IPY_MODEL_ba972c079ee74017a20ab78da150588a",
            "_model_module": "@jupyter-widgets/controls",
            "children": [
              "IPY_MODEL_12499a96243748f786fe85bc0f9061fc",
              "IPY_MODEL_c21fb929d18a4a01bb6d240fd6bf8c8e"
            ]
          }
        },
        "ba972c079ee74017a20ab78da150588a": {
          "model_module": "@jupyter-widgets/base",
          "model_name": "LayoutModel",
          "state": {
            "_view_name": "LayoutView",
            "grid_template_rows": null,
            "right": null,
            "justify_content": null,
            "_view_module": "@jupyter-widgets/base",
            "overflow": null,
            "_model_module_version": "1.2.0",
            "_view_count": null,
            "flex_flow": null,
            "width": null,
            "min_width": null,
            "border": null,
            "align_items": null,
            "bottom": null,
            "_model_module": "@jupyter-widgets/base",
            "top": null,
            "grid_column": null,
            "overflow_y": null,
            "overflow_x": null,
            "grid_auto_flow": null,
            "grid_area": null,
            "grid_template_columns": null,
            "flex": null,
            "_model_name": "LayoutModel",
            "justify_items": null,
            "grid_row": null,
            "max_height": null,
            "align_content": null,
            "visibility": null,
            "align_self": null,
            "height": null,
            "min_height": null,
            "padding": null,
            "grid_auto_rows": null,
            "grid_gap": null,
            "max_width": null,
            "order": null,
            "_view_module_version": "1.2.0",
            "grid_template_areas": null,
            "object_position": null,
            "object_fit": null,
            "grid_auto_columns": null,
            "margin": null,
            "display": null,
            "left": null
          }
        },
        "12499a96243748f786fe85bc0f9061fc": {
          "model_module": "@jupyter-widgets/controls",
          "model_name": "FloatProgressModel",
          "state": {
            "_view_name": "ProgressView",
            "style": "IPY_MODEL_a010530dd2a44cb98eadf73574c89e8f",
            "_dom_classes": [],
            "description": "Downloading: 100%",
            "_model_name": "FloatProgressModel",
            "bar_style": "success",
            "max": 231508,
            "_view_module": "@jupyter-widgets/controls",
            "_model_module_version": "1.5.0",
            "value": 231508,
            "_view_count": null,
            "_view_module_version": "1.5.0",
            "orientation": "horizontal",
            "min": 0,
            "description_tooltip": null,
            "_model_module": "@jupyter-widgets/controls",
            "layout": "IPY_MODEL_db7e544e8a3f44ceaf24a10a75025660"
          }
        },
        "c21fb929d18a4a01bb6d240fd6bf8c8e": {
          "model_module": "@jupyter-widgets/controls",
          "model_name": "HTMLModel",
          "state": {
            "_view_name": "HTMLView",
            "style": "IPY_MODEL_fbd5fb522f304f46a43e2c4278cbb36f",
            "_dom_classes": [],
            "description": "",
            "_model_name": "HTMLModel",
            "placeholder": "​",
            "_view_module": "@jupyter-widgets/controls",
            "_model_module_version": "1.5.0",
            "value": " 232k/232k [00:00&lt;00:00, 335kB/s]",
            "_view_count": null,
            "_view_module_version": "1.5.0",
            "description_tooltip": null,
            "_model_module": "@jupyter-widgets/controls",
            "layout": "IPY_MODEL_50a90d5ef7aa42cc95ee48da43d426bd"
          }
        },
        "a010530dd2a44cb98eadf73574c89e8f": {
          "model_module": "@jupyter-widgets/controls",
          "model_name": "ProgressStyleModel",
          "state": {
            "_view_name": "StyleView",
            "_model_name": "ProgressStyleModel",
            "description_width": "initial",
            "_view_module": "@jupyter-widgets/base",
            "_model_module_version": "1.5.0",
            "_view_count": null,
            "_view_module_version": "1.2.0",
            "bar_color": null,
            "_model_module": "@jupyter-widgets/controls"
          }
        },
        "db7e544e8a3f44ceaf24a10a75025660": {
          "model_module": "@jupyter-widgets/base",
          "model_name": "LayoutModel",
          "state": {
            "_view_name": "LayoutView",
            "grid_template_rows": null,
            "right": null,
            "justify_content": null,
            "_view_module": "@jupyter-widgets/base",
            "overflow": null,
            "_model_module_version": "1.2.0",
            "_view_count": null,
            "flex_flow": null,
            "width": null,
            "min_width": null,
            "border": null,
            "align_items": null,
            "bottom": null,
            "_model_module": "@jupyter-widgets/base",
            "top": null,
            "grid_column": null,
            "overflow_y": null,
            "overflow_x": null,
            "grid_auto_flow": null,
            "grid_area": null,
            "grid_template_columns": null,
            "flex": null,
            "_model_name": "LayoutModel",
            "justify_items": null,
            "grid_row": null,
            "max_height": null,
            "align_content": null,
            "visibility": null,
            "align_self": null,
            "height": null,
            "min_height": null,
            "padding": null,
            "grid_auto_rows": null,
            "grid_gap": null,
            "max_width": null,
            "order": null,
            "_view_module_version": "1.2.0",
            "grid_template_areas": null,
            "object_position": null,
            "object_fit": null,
            "grid_auto_columns": null,
            "margin": null,
            "display": null,
            "left": null
          }
        },
        "fbd5fb522f304f46a43e2c4278cbb36f": {
          "model_module": "@jupyter-widgets/controls",
          "model_name": "DescriptionStyleModel",
          "state": {
            "_view_name": "StyleView",
            "_model_name": "DescriptionStyleModel",
            "description_width": "",
            "_view_module": "@jupyter-widgets/base",
            "_model_module_version": "1.5.0",
            "_view_count": null,
            "_view_module_version": "1.2.0",
            "_model_module": "@jupyter-widgets/controls"
          }
        },
        "50a90d5ef7aa42cc95ee48da43d426bd": {
          "model_module": "@jupyter-widgets/base",
          "model_name": "LayoutModel",
          "state": {
            "_view_name": "LayoutView",
            "grid_template_rows": null,
            "right": null,
            "justify_content": null,
            "_view_module": "@jupyter-widgets/base",
            "overflow": null,
            "_model_module_version": "1.2.0",
            "_view_count": null,
            "flex_flow": null,
            "width": null,
            "min_width": null,
            "border": null,
            "align_items": null,
            "bottom": null,
            "_model_module": "@jupyter-widgets/base",
            "top": null,
            "grid_column": null,
            "overflow_y": null,
            "overflow_x": null,
            "grid_auto_flow": null,
            "grid_area": null,
            "grid_template_columns": null,
            "flex": null,
            "_model_name": "LayoutModel",
            "justify_items": null,
            "grid_row": null,
            "max_height": null,
            "align_content": null,
            "visibility": null,
            "align_self": null,
            "height": null,
            "min_height": null,
            "padding": null,
            "grid_auto_rows": null,
            "grid_gap": null,
            "max_width": null,
            "order": null,
            "_view_module_version": "1.2.0",
            "grid_template_areas": null,
            "object_position": null,
            "object_fit": null,
            "grid_auto_columns": null,
            "margin": null,
            "display": null,
            "left": null
          }
        },
        "c7db2a79fc1d4747a49afed70647766e": {
          "model_module": "@jupyter-widgets/controls",
          "model_name": "HBoxModel",
          "state": {
            "_view_name": "HBoxView",
            "_dom_classes": [],
            "_model_name": "HBoxModel",
            "_view_module": "@jupyter-widgets/controls",
            "_model_module_version": "1.5.0",
            "_view_count": null,
            "_view_module_version": "1.5.0",
            "box_style": "",
            "layout": "IPY_MODEL_c2619c63ea694a3abeb1defe2d484765",
            "_model_module": "@jupyter-widgets/controls",
            "children": [
              "IPY_MODEL_7b898cd6abc444faaa8c6f728f2efc8c",
              "IPY_MODEL_ae109f8b10614d96b4a71d96a922a618"
            ]
          }
        },
        "c2619c63ea694a3abeb1defe2d484765": {
          "model_module": "@jupyter-widgets/base",
          "model_name": "LayoutModel",
          "state": {
            "_view_name": "LayoutView",
            "grid_template_rows": null,
            "right": null,
            "justify_content": null,
            "_view_module": "@jupyter-widgets/base",
            "overflow": null,
            "_model_module_version": "1.2.0",
            "_view_count": null,
            "flex_flow": null,
            "width": null,
            "min_width": null,
            "border": null,
            "align_items": null,
            "bottom": null,
            "_model_module": "@jupyter-widgets/base",
            "top": null,
            "grid_column": null,
            "overflow_y": null,
            "overflow_x": null,
            "grid_auto_flow": null,
            "grid_area": null,
            "grid_template_columns": null,
            "flex": null,
            "_model_name": "LayoutModel",
            "justify_items": null,
            "grid_row": null,
            "max_height": null,
            "align_content": null,
            "visibility": null,
            "align_self": null,
            "height": null,
            "min_height": null,
            "padding": null,
            "grid_auto_rows": null,
            "grid_gap": null,
            "max_width": null,
            "order": null,
            "_view_module_version": "1.2.0",
            "grid_template_areas": null,
            "object_position": null,
            "object_fit": null,
            "grid_auto_columns": null,
            "margin": null,
            "display": null,
            "left": null
          }
        },
        "7b898cd6abc444faaa8c6f728f2efc8c": {
          "model_module": "@jupyter-widgets/controls",
          "model_name": "FloatProgressModel",
          "state": {
            "_view_name": "ProgressView",
            "style": "IPY_MODEL_dc8fdd4dca124a8f8a2d29641699685d",
            "_dom_classes": [],
            "description": "Downloading: 100%",
            "_model_name": "FloatProgressModel",
            "bar_style": "success",
            "max": 466062,
            "_view_module": "@jupyter-widgets/controls",
            "_model_module_version": "1.5.0",
            "value": 466062,
            "_view_count": null,
            "_view_module_version": "1.5.0",
            "orientation": "horizontal",
            "min": 0,
            "description_tooltip": null,
            "_model_module": "@jupyter-widgets/controls",
            "layout": "IPY_MODEL_7c3638c5021d416e8ceb70e45a4291fa"
          }
        },
        "ae109f8b10614d96b4a71d96a922a618": {
          "model_module": "@jupyter-widgets/controls",
          "model_name": "HTMLModel",
          "state": {
            "_view_name": "HTMLView",
            "style": "IPY_MODEL_d12b4616abb14e39b95fce4878b11bb3",
            "_dom_classes": [],
            "description": "",
            "_model_name": "HTMLModel",
            "placeholder": "​",
            "_view_module": "@jupyter-widgets/controls",
            "_model_module_version": "1.5.0",
            "value": " 466k/466k [02:04&lt;00:00, 3.75kB/s]",
            "_view_count": null,
            "_view_module_version": "1.5.0",
            "description_tooltip": null,
            "_model_module": "@jupyter-widgets/controls",
            "layout": "IPY_MODEL_6827c943008c49828c802eaa27378521"
          }
        },
        "dc8fdd4dca124a8f8a2d29641699685d": {
          "model_module": "@jupyter-widgets/controls",
          "model_name": "ProgressStyleModel",
          "state": {
            "_view_name": "StyleView",
            "_model_name": "ProgressStyleModel",
            "description_width": "initial",
            "_view_module": "@jupyter-widgets/base",
            "_model_module_version": "1.5.0",
            "_view_count": null,
            "_view_module_version": "1.2.0",
            "bar_color": null,
            "_model_module": "@jupyter-widgets/controls"
          }
        },
        "7c3638c5021d416e8ceb70e45a4291fa": {
          "model_module": "@jupyter-widgets/base",
          "model_name": "LayoutModel",
          "state": {
            "_view_name": "LayoutView",
            "grid_template_rows": null,
            "right": null,
            "justify_content": null,
            "_view_module": "@jupyter-widgets/base",
            "overflow": null,
            "_model_module_version": "1.2.0",
            "_view_count": null,
            "flex_flow": null,
            "width": null,
            "min_width": null,
            "border": null,
            "align_items": null,
            "bottom": null,
            "_model_module": "@jupyter-widgets/base",
            "top": null,
            "grid_column": null,
            "overflow_y": null,
            "overflow_x": null,
            "grid_auto_flow": null,
            "grid_area": null,
            "grid_template_columns": null,
            "flex": null,
            "_model_name": "LayoutModel",
            "justify_items": null,
            "grid_row": null,
            "max_height": null,
            "align_content": null,
            "visibility": null,
            "align_self": null,
            "height": null,
            "min_height": null,
            "padding": null,
            "grid_auto_rows": null,
            "grid_gap": null,
            "max_width": null,
            "order": null,
            "_view_module_version": "1.2.0",
            "grid_template_areas": null,
            "object_position": null,
            "object_fit": null,
            "grid_auto_columns": null,
            "margin": null,
            "display": null,
            "left": null
          }
        },
        "d12b4616abb14e39b95fce4878b11bb3": {
          "model_module": "@jupyter-widgets/controls",
          "model_name": "DescriptionStyleModel",
          "state": {
            "_view_name": "StyleView",
            "_model_name": "DescriptionStyleModel",
            "description_width": "",
            "_view_module": "@jupyter-widgets/base",
            "_model_module_version": "1.5.0",
            "_view_count": null,
            "_view_module_version": "1.2.0",
            "_model_module": "@jupyter-widgets/controls"
          }
        },
        "6827c943008c49828c802eaa27378521": {
          "model_module": "@jupyter-widgets/base",
          "model_name": "LayoutModel",
          "state": {
            "_view_name": "LayoutView",
            "grid_template_rows": null,
            "right": null,
            "justify_content": null,
            "_view_module": "@jupyter-widgets/base",
            "overflow": null,
            "_model_module_version": "1.2.0",
            "_view_count": null,
            "flex_flow": null,
            "width": null,
            "min_width": null,
            "border": null,
            "align_items": null,
            "bottom": null,
            "_model_module": "@jupyter-widgets/base",
            "top": null,
            "grid_column": null,
            "overflow_y": null,
            "overflow_x": null,
            "grid_auto_flow": null,
            "grid_area": null,
            "grid_template_columns": null,
            "flex": null,
            "_model_name": "LayoutModel",
            "justify_items": null,
            "grid_row": null,
            "max_height": null,
            "align_content": null,
            "visibility": null,
            "align_self": null,
            "height": null,
            "min_height": null,
            "padding": null,
            "grid_auto_rows": null,
            "grid_gap": null,
            "max_width": null,
            "order": null,
            "_view_module_version": "1.2.0",
            "grid_template_areas": null,
            "object_position": null,
            "object_fit": null,
            "grid_auto_columns": null,
            "margin": null,
            "display": null,
            "left": null
          }
        },
        "25c57a29328d4fb89d424d2c3e9e0f5d": {
          "model_module": "@jupyter-widgets/controls",
          "model_name": "HBoxModel",
          "state": {
            "_view_name": "HBoxView",
            "_dom_classes": [],
            "_model_name": "HBoxModel",
            "_view_module": "@jupyter-widgets/controls",
            "_model_module_version": "1.5.0",
            "_view_count": null,
            "_view_module_version": "1.5.0",
            "box_style": "",
            "layout": "IPY_MODEL_c4019a0aca9b4dc7a5a8c2a5210f4571",
            "_model_module": "@jupyter-widgets/controls",
            "children": [
              "IPY_MODEL_2c1a507cfd684caca195ac264ac3d5eb",
              "IPY_MODEL_c0d9abf1c087492bb5530d17de7d0ec6"
            ]
          }
        },
        "c4019a0aca9b4dc7a5a8c2a5210f4571": {
          "model_module": "@jupyter-widgets/base",
          "model_name": "LayoutModel",
          "state": {
            "_view_name": "LayoutView",
            "grid_template_rows": null,
            "right": null,
            "justify_content": null,
            "_view_module": "@jupyter-widgets/base",
            "overflow": null,
            "_model_module_version": "1.2.0",
            "_view_count": null,
            "flex_flow": null,
            "width": null,
            "min_width": null,
            "border": null,
            "align_items": null,
            "bottom": null,
            "_model_module": "@jupyter-widgets/base",
            "top": null,
            "grid_column": null,
            "overflow_y": null,
            "overflow_x": null,
            "grid_auto_flow": null,
            "grid_area": null,
            "grid_template_columns": null,
            "flex": null,
            "_model_name": "LayoutModel",
            "justify_items": null,
            "grid_row": null,
            "max_height": null,
            "align_content": null,
            "visibility": null,
            "align_self": null,
            "height": null,
            "min_height": null,
            "padding": null,
            "grid_auto_rows": null,
            "grid_gap": null,
            "max_width": null,
            "order": null,
            "_view_module_version": "1.2.0",
            "grid_template_areas": null,
            "object_position": null,
            "object_fit": null,
            "grid_auto_columns": null,
            "margin": null,
            "display": null,
            "left": null
          }
        },
        "2c1a507cfd684caca195ac264ac3d5eb": {
          "model_module": "@jupyter-widgets/controls",
          "model_name": "FloatProgressModel",
          "state": {
            "_view_name": "ProgressView",
            "style": "IPY_MODEL_763d3c26533d4cc0a481a228132cffb1",
            "_dom_classes": [],
            "description": "Downloading: 100%",
            "_model_name": "FloatProgressModel",
            "bar_style": "success",
            "max": 28,
            "_view_module": "@jupyter-widgets/controls",
            "_model_module_version": "1.5.0",
            "value": 28,
            "_view_count": null,
            "_view_module_version": "1.5.0",
            "orientation": "horizontal",
            "min": 0,
            "description_tooltip": null,
            "_model_module": "@jupyter-widgets/controls",
            "layout": "IPY_MODEL_55651cf3c23641549f402231dcc7b7ee"
          }
        },
        "c0d9abf1c087492bb5530d17de7d0ec6": {
          "model_module": "@jupyter-widgets/controls",
          "model_name": "HTMLModel",
          "state": {
            "_view_name": "HTMLView",
            "style": "IPY_MODEL_e2ecea482f9b4847848d184f20ab0465",
            "_dom_classes": [],
            "description": "",
            "_model_name": "HTMLModel",
            "placeholder": "​",
            "_view_module": "@jupyter-widgets/controls",
            "_model_module_version": "1.5.0",
            "value": " 28.0/28.0 [00:00&lt;00:00, 51.4B/s]",
            "_view_count": null,
            "_view_module_version": "1.5.0",
            "description_tooltip": null,
            "_model_module": "@jupyter-widgets/controls",
            "layout": "IPY_MODEL_83a7493ca43c44dcac854186c81b78a1"
          }
        },
        "763d3c26533d4cc0a481a228132cffb1": {
          "model_module": "@jupyter-widgets/controls",
          "model_name": "ProgressStyleModel",
          "state": {
            "_view_name": "StyleView",
            "_model_name": "ProgressStyleModel",
            "description_width": "initial",
            "_view_module": "@jupyter-widgets/base",
            "_model_module_version": "1.5.0",
            "_view_count": null,
            "_view_module_version": "1.2.0",
            "bar_color": null,
            "_model_module": "@jupyter-widgets/controls"
          }
        },
        "55651cf3c23641549f402231dcc7b7ee": {
          "model_module": "@jupyter-widgets/base",
          "model_name": "LayoutModel",
          "state": {
            "_view_name": "LayoutView",
            "grid_template_rows": null,
            "right": null,
            "justify_content": null,
            "_view_module": "@jupyter-widgets/base",
            "overflow": null,
            "_model_module_version": "1.2.0",
            "_view_count": null,
            "flex_flow": null,
            "width": null,
            "min_width": null,
            "border": null,
            "align_items": null,
            "bottom": null,
            "_model_module": "@jupyter-widgets/base",
            "top": null,
            "grid_column": null,
            "overflow_y": null,
            "overflow_x": null,
            "grid_auto_flow": null,
            "grid_area": null,
            "grid_template_columns": null,
            "flex": null,
            "_model_name": "LayoutModel",
            "justify_items": null,
            "grid_row": null,
            "max_height": null,
            "align_content": null,
            "visibility": null,
            "align_self": null,
            "height": null,
            "min_height": null,
            "padding": null,
            "grid_auto_rows": null,
            "grid_gap": null,
            "max_width": null,
            "order": null,
            "_view_module_version": "1.2.0",
            "grid_template_areas": null,
            "object_position": null,
            "object_fit": null,
            "grid_auto_columns": null,
            "margin": null,
            "display": null,
            "left": null
          }
        },
        "e2ecea482f9b4847848d184f20ab0465": {
          "model_module": "@jupyter-widgets/controls",
          "model_name": "DescriptionStyleModel",
          "state": {
            "_view_name": "StyleView",
            "_model_name": "DescriptionStyleModel",
            "description_width": "",
            "_view_module": "@jupyter-widgets/base",
            "_model_module_version": "1.5.0",
            "_view_count": null,
            "_view_module_version": "1.2.0",
            "_model_module": "@jupyter-widgets/controls"
          }
        },
        "83a7493ca43c44dcac854186c81b78a1": {
          "model_module": "@jupyter-widgets/base",
          "model_name": "LayoutModel",
          "state": {
            "_view_name": "LayoutView",
            "grid_template_rows": null,
            "right": null,
            "justify_content": null,
            "_view_module": "@jupyter-widgets/base",
            "overflow": null,
            "_model_module_version": "1.2.0",
            "_view_count": null,
            "flex_flow": null,
            "width": null,
            "min_width": null,
            "border": null,
            "align_items": null,
            "bottom": null,
            "_model_module": "@jupyter-widgets/base",
            "top": null,
            "grid_column": null,
            "overflow_y": null,
            "overflow_x": null,
            "grid_auto_flow": null,
            "grid_area": null,
            "grid_template_columns": null,
            "flex": null,
            "_model_name": "LayoutModel",
            "justify_items": null,
            "grid_row": null,
            "max_height": null,
            "align_content": null,
            "visibility": null,
            "align_self": null,
            "height": null,
            "min_height": null,
            "padding": null,
            "grid_auto_rows": null,
            "grid_gap": null,
            "max_width": null,
            "order": null,
            "_view_module_version": "1.2.0",
            "grid_template_areas": null,
            "object_position": null,
            "object_fit": null,
            "grid_auto_columns": null,
            "margin": null,
            "display": null,
            "left": null
          }
        }
      }
    }
  },
  "cells": [
    {
      "cell_type": "markdown",
      "metadata": {
        "id": "gil-czgz7E0O"
      },
      "source": [
        "Original tutorial links:\n",
        "https://www.kaggle.com/mishki/twitter-sentiment-analysis-using-nlp-techniques\n",
        "\n",
        "https://www.kaggle.com/bamwani/amazon-fine-food-reviews-analysis-using-knn\n",
        "\n",
        "\n",
        "\n"
      ]
    },
    {
      "cell_type": "markdown",
      "metadata": {
        "id": "eepVWhxGXc9j"
      },
      "source": [
        "CODE is based on the authors above with some minor tweaks"
      ]
    },
    {
      "cell_type": "markdown",
      "metadata": {
        "id": "jPQbClQV8uzn"
      },
      "source": [
        "# Configuring enivronment and confirming environment"
      ]
    },
    {
      "cell_type": "code",
      "metadata": {
        "colab": {
          "base_uri": "https://localhost:8080/"
        },
        "id": "jq16gzR4yMMY",
        "outputId": "17b59e96-c815-4196-96a7-e169f7533225"
      },
      "source": [
        "from google.colab import drive\n",
        "drive.mount('/content/drive')"
      ],
      "execution_count": null,
      "outputs": [
        {
          "output_type": "stream",
          "text": [
            "Drive already mounted at /content/drive; to attempt to forcibly remount, call drive.mount(\"/content/drive\", force_remount=True).\n"
          ],
          "name": "stdout"
        }
      ]
    },
    {
      "cell_type": "code",
      "metadata": {
        "colab": {
          "base_uri": "https://localhost:8080/"
        },
        "id": "R5laeEdc877o",
        "outputId": "48166554-d73b-4d0a-a6d1-43cbd5dfb35f"
      },
      "source": [
        "import sys\n",
        "print(sys.executable)\n",
        "\n",
        "import sys\n",
        "!{sys.executable} -m pip --version"
      ],
      "execution_count": null,
      "outputs": [
        {
          "output_type": "stream",
          "text": [
            "/usr/bin/python3\n",
            "pip 19.3.1 from /usr/local/lib/python3.7/dist-packages/pip (python 3.7)\n"
          ],
          "name": "stdout"
        }
      ]
    },
    {
      "cell_type": "markdown",
      "metadata": {
        "id": "WX0orsI4ASyD"
      },
      "source": [
        "# Importing libraries "
      ]
    },
    {
      "cell_type": "code",
      "metadata": {
        "colab": {
          "base_uri": "https://localhost:8080/"
        },
        "id": "2fZ9PSGp2En5",
        "outputId": "e394c97b-c74e-4908-8660-f131d940233a"
      },
      "source": [
        "# Importing for numerical computation (numpy) and data processing & manipulation (panadas)\n",
        "import numpy as np\n",
        "import pandas as pd\n",
        "\n",
        "# Importing for data visualization\n",
        "import matplotlib.pyplot as plt # basic data visualization\n",
        "import seaborn as sns # nicer data visualization\n",
        "\n",
        "# for timing code execution\n",
        "import time\n",
        "\n",
        "import nltk  \n",
        "from nltk.tokenize import word_tokenize #tokenizer - \n",
        "from nltk.stem import PorterStemmer # to stem words - e.g. transforms the word: abatement to: abat\n",
        "from nltk.corpus import stopwords #stopwords such as \" \"\n",
        "from nltk.sentiment.vader import SentimentIntensityAnalyzer #pre-trained sentiment analyzer \n",
        "from nltk.stem import WordNetLemmatizer \n",
        "from nltk.corpus import wordnet\n",
        "\n",
        "\n",
        "\n",
        "nltk.download('averaged_perceptron_tagger')\n",
        "nltk.download('vader_lexicon')\n",
        "nltk.download('stopwords')\n",
        "nltk.download('wordnet')\n",
        "\n",
        "import re # REGEX (regular expressions)\n",
        "\n",
        "!pip install gensim\n",
        "import gensim\n",
        "from gensim.parsing.preprocessing import remove_stopwords # we also use gensim for stopwords removal\n",
        "\n",
        "from textblob import TextBlob #pre-trained sentiment analyzer\n",
        "\n",
        "!pip install flair\n",
        "from flair.models import TextClassifier #pre-trained sentiment analyzer\n",
        "from flair.data import Sentence\n",
        "from segtok.segmenter import split_single"
      ],
      "execution_count": null,
      "outputs": [
        {
          "output_type": "stream",
          "text": [
            "/usr/local/lib/python3.7/dist-packages/nltk/twitter/__init__.py:20: UserWarning: The twython library has not been installed. Some functionality from the twitter package will not be available.\n",
            "  warnings.warn(\"The twython library has not been installed. \"\n"
          ],
          "name": "stderr"
        },
        {
          "output_type": "stream",
          "text": [
            "[nltk_data] Downloading package averaged_perceptron_tagger to\n",
            "[nltk_data]     /root/nltk_data...\n",
            "[nltk_data]   Package averaged_perceptron_tagger is already up-to-\n",
            "[nltk_data]       date!\n",
            "[nltk_data] Downloading package vader_lexicon to /root/nltk_data...\n",
            "[nltk_data]   Package vader_lexicon is already up-to-date!\n",
            "[nltk_data] Downloading package stopwords to /root/nltk_data...\n",
            "[nltk_data]   Package stopwords is already up-to-date!\n",
            "[nltk_data] Downloading package wordnet to /root/nltk_data...\n",
            "[nltk_data]   Package wordnet is already up-to-date!\n",
            "Requirement already satisfied: gensim in /usr/local/lib/python3.7/dist-packages (3.6.0)\n",
            "Requirement already satisfied: numpy>=1.11.3 in /usr/local/lib/python3.7/dist-packages (from gensim) (1.19.5)\n",
            "Requirement already satisfied: smart-open>=1.2.1 in /usr/local/lib/python3.7/dist-packages (from gensim) (5.0.0)\n",
            "Requirement already satisfied: scipy>=0.18.1 in /usr/local/lib/python3.7/dist-packages (from gensim) (1.4.1)\n",
            "Requirement already satisfied: six>=1.5.0 in /usr/local/lib/python3.7/dist-packages (from gensim) (1.15.0)\n",
            "Requirement already satisfied: flair in /usr/local/lib/python3.7/dist-packages (0.8.0.post1)\n",
            "Requirement already satisfied: janome in /usr/local/lib/python3.7/dist-packages (from flair) (0.4.1)\n",
            "Requirement already satisfied: python-dateutil>=2.6.1 in /usr/local/lib/python3.7/dist-packages (from flair) (2.8.1)\n",
            "Requirement already satisfied: sentencepiece==0.1.95 in /usr/local/lib/python3.7/dist-packages (from flair) (0.1.95)\n",
            "Requirement already satisfied: regex in /usr/local/lib/python3.7/dist-packages (from flair) (2019.12.20)\n",
            "Requirement already satisfied: gdown==3.12.2 in /usr/local/lib/python3.7/dist-packages (from flair) (3.12.2)\n",
            "Requirement already satisfied: sqlitedict>=1.6.0 in /usr/local/lib/python3.7/dist-packages (from flair) (1.7.0)\n",
            "Requirement already satisfied: lxml in /usr/local/lib/python3.7/dist-packages (from flair) (4.2.6)\n",
            "Requirement already satisfied: torch<=1.7.1,>=1.5.0 in /usr/local/lib/python3.7/dist-packages (from flair) (1.7.1)\n",
            "Requirement already satisfied: konoha<5.0.0,>=4.0.0 in /usr/local/lib/python3.7/dist-packages (from flair) (4.6.4)\n",
            "Requirement already satisfied: bpemb>=0.3.2 in /usr/local/lib/python3.7/dist-packages (from flair) (0.3.3)\n",
            "Requirement already satisfied: scikit-learn>=0.21.3 in /usr/local/lib/python3.7/dist-packages (from flair) (0.22.2.post1)\n",
            "Requirement already satisfied: segtok>=1.5.7 in /usr/local/lib/python3.7/dist-packages (from flair) (1.5.10)\n",
            "Requirement already satisfied: tabulate in /usr/local/lib/python3.7/dist-packages (from flair) (0.8.9)\n",
            "Requirement already satisfied: numpy<1.20.0 in /usr/local/lib/python3.7/dist-packages (from flair) (1.19.5)\n",
            "Requirement already satisfied: ftfy in /usr/local/lib/python3.7/dist-packages (from flair) (6.0.1)\n",
            "Requirement already satisfied: mpld3==0.3 in /usr/local/lib/python3.7/dist-packages (from flair) (0.3)\n",
            "Requirement already satisfied: tqdm>=4.26.0 in /usr/local/lib/python3.7/dist-packages (from flair) (4.41.1)\n",
            "Requirement already satisfied: matplotlib>=2.2.3 in /usr/local/lib/python3.7/dist-packages (from flair) (3.2.2)\n",
            "Requirement already satisfied: langdetect in /usr/local/lib/python3.7/dist-packages (from flair) (1.0.8)\n",
            "Requirement already satisfied: hyperopt>=0.1.1 in /usr/local/lib/python3.7/dist-packages (from flair) (0.1.2)\n",
            "Requirement already satisfied: huggingface-hub in /usr/local/lib/python3.7/dist-packages (from flair) (0.0.8)\n",
            "Requirement already satisfied: deprecated>=1.2.4 in /usr/local/lib/python3.7/dist-packages (from flair) (1.2.12)\n",
            "Requirement already satisfied: gensim<=3.8.3,>=3.4.0 in /usr/local/lib/python3.7/dist-packages (from flair) (3.6.0)\n",
            "Requirement already satisfied: transformers>=4.0.0 in /usr/local/lib/python3.7/dist-packages (from flair) (4.5.1)\n",
            "Requirement already satisfied: six>=1.5 in /usr/local/lib/python3.7/dist-packages (from python-dateutil>=2.6.1->flair) (1.15.0)\n",
            "Requirement already satisfied: filelock in /usr/local/lib/python3.7/dist-packages (from gdown==3.12.2->flair) (3.0.12)\n",
            "Requirement already satisfied: requests[socks] in /usr/local/lib/python3.7/dist-packages (from gdown==3.12.2->flair) (2.23.0)\n",
            "Requirement already satisfied: typing-extensions in /usr/local/lib/python3.7/dist-packages (from torch<=1.7.1,>=1.5.0->flair) (3.7.4.3)\n",
            "Requirement already satisfied: overrides<4.0.0,>=3.0.0 in /usr/local/lib/python3.7/dist-packages (from konoha<5.0.0,>=4.0.0->flair) (3.1.0)\n",
            "Requirement already satisfied: importlib-metadata<4.0.0,>=3.7.0 in /usr/local/lib/python3.7/dist-packages (from konoha<5.0.0,>=4.0.0->flair) (3.10.1)\n",
            "Requirement already satisfied: scipy>=0.17.0 in /usr/local/lib/python3.7/dist-packages (from scikit-learn>=0.21.3->flair) (1.4.1)\n",
            "Requirement already satisfied: joblib>=0.11 in /usr/local/lib/python3.7/dist-packages (from scikit-learn>=0.21.3->flair) (1.0.1)\n",
            "Requirement already satisfied: wcwidth in /usr/local/lib/python3.7/dist-packages (from ftfy->flair) (0.2.5)\n",
            "Requirement already satisfied: cycler>=0.10 in /usr/local/lib/python3.7/dist-packages (from matplotlib>=2.2.3->flair) (0.10.0)\n",
            "Requirement already satisfied: pyparsing!=2.0.4,!=2.1.2,!=2.1.6,>=2.0.1 in /usr/local/lib/python3.7/dist-packages (from matplotlib>=2.2.3->flair) (2.4.7)\n",
            "Requirement already satisfied: kiwisolver>=1.0.1 in /usr/local/lib/python3.7/dist-packages (from matplotlib>=2.2.3->flair) (1.3.1)\n",
            "Requirement already satisfied: future in /usr/local/lib/python3.7/dist-packages (from hyperopt>=0.1.1->flair) (0.16.0)\n",
            "Requirement already satisfied: networkx in /usr/local/lib/python3.7/dist-packages (from hyperopt>=0.1.1->flair) (2.5.1)\n",
            "Requirement already satisfied: pymongo in /usr/local/lib/python3.7/dist-packages (from hyperopt>=0.1.1->flair) (3.11.3)\n",
            "Requirement already satisfied: wrapt<2,>=1.10 in /usr/local/lib/python3.7/dist-packages (from deprecated>=1.2.4->flair) (1.12.1)\n",
            "Requirement already satisfied: smart-open>=1.2.1 in /usr/local/lib/python3.7/dist-packages (from gensim<=3.8.3,>=3.4.0->flair) (5.0.0)\n",
            "Requirement already satisfied: tokenizers<0.11,>=0.10.1 in /usr/local/lib/python3.7/dist-packages (from transformers>=4.0.0->flair) (0.10.2)\n",
            "Requirement already satisfied: sacremoses in /usr/local/lib/python3.7/dist-packages (from transformers>=4.0.0->flair) (0.0.45)\n",
            "Requirement already satisfied: packaging in /usr/local/lib/python3.7/dist-packages (from transformers>=4.0.0->flair) (20.9)\n",
            "Requirement already satisfied: idna<3,>=2.5 in /usr/local/lib/python3.7/dist-packages (from requests[socks]->gdown==3.12.2->flair) (2.10)\n",
            "Requirement already satisfied: urllib3!=1.25.0,!=1.25.1,<1.26,>=1.21.1 in /usr/local/lib/python3.7/dist-packages (from requests[socks]->gdown==3.12.2->flair) (1.24.3)\n",
            "Requirement already satisfied: chardet<4,>=3.0.2 in /usr/local/lib/python3.7/dist-packages (from requests[socks]->gdown==3.12.2->flair) (3.0.4)\n",
            "Requirement already satisfied: certifi>=2017.4.17 in /usr/local/lib/python3.7/dist-packages (from requests[socks]->gdown==3.12.2->flair) (2020.12.5)\n",
            "Requirement already satisfied: PySocks!=1.5.7,>=1.5.6; extra == \"socks\" in /usr/local/lib/python3.7/dist-packages (from requests[socks]->gdown==3.12.2->flair) (1.7.1)\n",
            "Requirement already satisfied: zipp>=0.5 in /usr/local/lib/python3.7/dist-packages (from importlib-metadata<4.0.0,>=3.7.0->konoha<5.0.0,>=4.0.0->flair) (3.4.1)\n",
            "Requirement already satisfied: decorator<5,>=4.3 in /usr/local/lib/python3.7/dist-packages (from networkx->hyperopt>=0.1.1->flair) (4.4.2)\n",
            "Requirement already satisfied: click in /usr/local/lib/python3.7/dist-packages (from sacremoses->transformers>=4.0.0->flair) (7.1.2)\n"
          ],
          "name": "stdout"
        }
      ]
    },
    {
      "cell_type": "markdown",
      "metadata": {
        "id": "Gdy5dTYeAm9F"
      },
      "source": [
        "# Import and column dropping"
      ]
    },
    {
      "cell_type": "code",
      "metadata": {
        "id": "3qAKyIt17FDE"
      },
      "source": [
        "# Loading both twitter datasets\n",
        "df_don_trump = pd.read_csv('/content/drive/MyDrive/CIND_820/Data/hashtag_donaldtrump.csv', lineterminator='\\n')\n",
        "df_joe_biden = pd.read_csv('/content/drive/MyDrive/CIND_820/Data/hashtag_joebiden.csv', lineterminator='\\n')"
      ],
      "execution_count": null,
      "outputs": []
    },
    {
      "cell_type": "code",
      "metadata": {
        "colab": {
          "base_uri": "https://localhost:8080/"
        },
        "id": "lphDvJay7FjM",
        "outputId": "51f5b392-2d6d-4b69-88b7-f374bb3a05ed"
      },
      "source": [
        "print('Total number of records in Trump dataset: ', df_don_trump.shape)\n",
        "print('Total number of records in Biden dataset: ', df_joe_biden.shape)\n",
        "\n",
        "trump_initial_count = df_don_trump.shape[0]\n",
        "biden_initial_count = df_joe_biden.shape[0]"
      ],
      "execution_count": null,
      "outputs": [
        {
          "output_type": "stream",
          "text": [
            "Total number of records in Trump dataset:  (970919, 21)\n",
            "Total number of records in Biden dataset:  (776886, 21)\n"
          ],
          "name": "stdout"
        }
      ]
    },
    {
      "cell_type": "code",
      "metadata": {
        "colab": {
          "base_uri": "https://localhost:8080/"
        },
        "id": "01bHnBUMW3H8",
        "outputId": "4d551651-9398-43b2-e9f6-61a291d4dd52"
      },
      "source": [
        "df_don_trump.dtypes"
      ],
      "execution_count": null,
      "outputs": [
        {
          "output_type": "execute_result",
          "data": {
            "text/plain": [
              "created_at               object\n",
              "tweet_id                float64\n",
              "tweet                    object\n",
              "likes                   float64\n",
              "retweet_count           float64\n",
              "source                   object\n",
              "user_id                 float64\n",
              "user_name                object\n",
              "user_screen_name         object\n",
              "user_description         object\n",
              "user_join_date           object\n",
              "user_followers_count    float64\n",
              "user_location            object\n",
              "lat                     float64\n",
              "long                    float64\n",
              "city                     object\n",
              "country                  object\n",
              "continent                object\n",
              "state                    object\n",
              "state_code               object\n",
              "collected_at             object\n",
              "dtype: object"
            ]
          },
          "metadata": {
            "tags": []
          },
          "execution_count": 58
        }
      ]
    },
    {
      "cell_type": "code",
      "metadata": {
        "colab": {
          "base_uri": "https://localhost:8080/"
        },
        "id": "jTJv0p1LBTQl",
        "outputId": "fc4f4e2a-3269-490e-98ce-7effe3c3e64d"
      },
      "source": [
        "df_joe_biden.dtypes"
      ],
      "execution_count": null,
      "outputs": [
        {
          "output_type": "execute_result",
          "data": {
            "text/plain": [
              "created_at               object\n",
              "tweet_id                float64\n",
              "tweet                    object\n",
              "likes                   float64\n",
              "retweet_count           float64\n",
              "source                   object\n",
              "user_id                 float64\n",
              "user_name                object\n",
              "user_screen_name         object\n",
              "user_description         object\n",
              "user_join_date           object\n",
              "user_followers_count    float64\n",
              "user_location            object\n",
              "lat                     float64\n",
              "long                    float64\n",
              "city                     object\n",
              "country                  object\n",
              "continent                object\n",
              "state                    object\n",
              "state_code               object\n",
              "collected_at             object\n",
              "dtype: object"
            ]
          },
          "metadata": {
            "tags": []
          },
          "execution_count": 59
        }
      ]
    },
    {
      "cell_type": "code",
      "metadata": {
        "id": "t_y3ntPNW7LY"
      },
      "source": [
        "# Remove unneeded columns\n",
        "irrelevant_columns = ['source','user_name','user_screen_name','user_description','user_join_date','collected_at']\n",
        "\n",
        "# Drop null rows\n",
        "df_don_trump = df_don_trump.dropna()\n",
        "df_joe_biden = df_joe_biden.dropna()"
      ],
      "execution_count": null,
      "outputs": []
    },
    {
      "cell_type": "markdown",
      "metadata": {
        "id": "EFHeCESfJt1E"
      },
      "source": [
        "# Dealing with country origin and duplicate tweets"
      ]
    },
    {
      "cell_type": "code",
      "metadata": {
        "colab": {
          "base_uri": "https://localhost:8080/"
        },
        "id": "ux-G372qKRd0",
        "outputId": "1e2ee197-5830-440f-d9ad-a07bb8681dfe"
      },
      "source": [
        "df_don_trump.country.unique()"
      ],
      "execution_count": null,
      "outputs": [
        {
          "output_type": "execute_result",
          "data": {
            "text/plain": [
              "array(['United States of America', 'United Kingdom', 'The Netherlands',\n",
              "       'Canada', 'France', 'Australia', 'India', 'Germany', 'Switzerland',\n",
              "       'Mexico', 'Ireland', 'Ecuador', 'Italy', 'Spain', 'Colombia',\n",
              "       'Pakistan', 'Peru', 'United Arab Emirates', 'Bangladesh',\n",
              "       'South Africa', 'Brazil', 'Uruguay', 'Nigeria', 'Belgium',\n",
              "       'Lebanon', 'Argentina', 'New Zealand', 'Honduras', 'El Salvador',\n",
              "       'Venezuela', 'Bolivia', 'Philippines', 'Trinidad and Tobago',\n",
              "       'Papua New Guinea', 'Poland', 'Lithuania', 'Laos', 'Burkina Faso',\n",
              "       'Sudan', \"Côte d'Ivoire\", 'Kuwait', 'Syria', 'Oman', 'Slovakia',\n",
              "       'Suriname', 'Somalia', 'Guyana', 'Cameroon', 'Guatemala', 'Libya',\n",
              "       'South Sudan'], dtype=object)"
            ]
          },
          "metadata": {
            "tags": []
          },
          "execution_count": 61
        }
      ]
    },
    {
      "cell_type": "code",
      "metadata": {
        "colab": {
          "base_uri": "https://localhost:8080/"
        },
        "id": "XMYhR2DIW_4o",
        "outputId": "0e44c1ee-2a22-447f-9e1c-4a1c28926b1a"
      },
      "source": [
        "df_joe_biden.country.unique()"
      ],
      "execution_count": null,
      "outputs": [
        {
          "output_type": "execute_result",
          "data": {
            "text/plain": [
              "array(['United States of America', 'United Kingdom', 'Poland', 'Canada',\n",
              "       'Germany', 'The Netherlands', 'Switzerland', 'Australia', 'Brazil',\n",
              "       'India', 'Venezuela', 'United Arab Emirates', 'Ecuador', 'Spain',\n",
              "       'France', 'Peru', 'Bangladesh', 'Italy', 'Nigeria', 'Argentina',\n",
              "       'South Africa', 'Belgium', 'New Zealand', 'Mexico', 'Pakistan',\n",
              "       'Ireland', 'El Salvador', 'Colombia', 'Sudan', 'Bolivia',\n",
              "       'Lebanon', 'Honduras', 'Uruguay', 'Burkina Faso', 'Philippines',\n",
              "       'Slovakia', 'Trinidad and Tobago', 'Suriname', 'Laos', 'Lithuania',\n",
              "       'Libya', 'Syria', 'Guyana', \"Côte d'Ivoire\", 'Oman', 'Somalia',\n",
              "       'Guatemala', 'Papua New Guinea', 'Kuwait', 'South Sudan'],\n",
              "      dtype=object)"
            ]
          },
          "metadata": {
            "tags": []
          },
          "execution_count": 62
        }
      ]
    },
    {
      "cell_type": "code",
      "metadata": {
        "id": "C470Gt3jXCbQ"
      },
      "source": [
        "#Remove other countries to capture only tweets originating from the US\n",
        "\n",
        "df_don_trump_usa = df_don_trump[df_don_trump.country == \"United States of America\"]\n",
        "df_joe_biden_usa = df_joe_biden[df_joe_biden.country == \"United States of America\"]\n",
        "\n",
        "del df_don_trump\n",
        "del df_joe_biden"
      ],
      "execution_count": null,
      "outputs": []
    },
    {
      "cell_type": "code",
      "metadata": {
        "colab": {
          "base_uri": "https://localhost:8080/"
        },
        "id": "lR7u_NHuXE0M",
        "outputId": "ba0dea6e-257e-4fc3-b8a2-9437f86bb603"
      },
      "source": [
        "print('Total number of records in Trump USA dataset: ', df_don_trump_usa.shape)\n",
        "print('Total number of records in Biden USA dataset: ', df_joe_biden_usa.shape)"
      ],
      "execution_count": null,
      "outputs": [
        {
          "output_type": "stream",
          "text": [
            "Total number of records in Trump USA dataset:  (101967, 15)\n",
            "Total number of records in Biden USA dataset:  (90642, 15)\n"
          ],
          "name": "stdout"
        }
      ]
    },
    {
      "cell_type": "code",
      "metadata": {
        "colab": {
          "base_uri": "https://localhost:8080/"
        },
        "id": "-o5-y-PwXH6f",
        "outputId": "4a8bce2a-66f0-45fa-c3e2-74487a862de1"
      },
      "source": [
        "#\n",
        "tids = df_don_trump_usa.tweet_id\n",
        "bids = df_joe_biden_usa.tweet_id\n",
        "\n",
        "ids_tweets_in_common = set(df_don_trump_usa.tweet_id).intersection(set(df_joe_biden_usa.tweet_id))\n",
        "len(ids_tweets_in_common)"
      ],
      "execution_count": null,
      "outputs": [
        {
          "output_type": "execute_result",
          "data": {
            "text/plain": [
              "19883"
            ]
          },
          "metadata": {
            "tags": []
          },
          "execution_count": 65
        }
      ]
    },
    {
      "cell_type": "code",
      "metadata": {
        "colab": {
          "base_uri": "https://localhost:8080/"
        },
        "id": "IBVNCJctXKsO",
        "outputId": "7e3d36ca-1286-4b80-c834-c688effc72fd"
      },
      "source": [
        "pd.options.display.max_colwidth = 500 #by default, Python will likely display only the first 50 characters from a long text, increase the column size to solve this\n",
        "\n",
        "df_joe_biden_usa.tweet.loc[df_joe_biden_usa.tweet_id.isin(list(ids_tweets_in_common))].head(5)"
      ],
      "execution_count": null,
      "outputs": [
        {
          "output_type": "execute_result",
          "data": {
            "text/plain": [
              "6      In 2020, #NYPost is being #censorship #CENSORED by Twitter to manipulate a US election in favor of #JoeBiden and against #Trump.\\n\\nbut CCP from #China or porn on Twitter? \\n\\nThat’s always been fine for @jack @vijaya @dickc @KatieS.\\n\\n@marciadorsey is @jack sick?\n",
              "17                               Comments on this? \"Do Democrats Understand how Ruthless China is?\" https://t.co/QevK00yhs3 #China #HunterBiden #JoeBiden #BidenHarris #BidenHarris2020 #TrumpPence2020 #Trump #realDonaldTrump #WTO #coronavirus #trade https://t.co/Wjm1hyTFNZ\n",
              "36                                                                                                                                                                               A simple question. Who are you voting for? #2020Election #DonaldTrump #JoeBiden #uspoli #mapoli\n",
              "131                                     @stephbarlow2 @JoshSchwerin @soledadobrien Disclaimer, totally support dems this #Election2020 but will watch #Trump #FlameShow to nurture the paranoia #Confidence in #JoeBiden lets me do this - it’s not all media numbers, it’s real\n",
              "275                                                                                                                                             #twitter #censors #trump campaign to silence her re #joebiden son #hunterbiden n his #ukraine #crimes\\n\\nhttps://t.co/JamuhKPz7g\n",
              "Name: tweet, dtype: object"
            ]
          },
          "metadata": {
            "tags": []
          },
          "execution_count": 66
        }
      ]
    },
    {
      "cell_type": "code",
      "metadata": {
        "id": "wcCB2SP7XN4q"
      },
      "source": [
        "df_don_trump_usa_unique = df_don_trump_usa[~df_don_trump_usa['tweet_id'].isin(ids_tweets_in_common)]\n",
        "df_joe_biden_usa_unique = df_joe_biden_usa[~df_joe_biden_usa['tweet_id'].isin(ids_tweets_in_common)]"
      ],
      "execution_count": null,
      "outputs": []
    },
    {
      "cell_type": "code",
      "metadata": {
        "colab": {
          "base_uri": "https://localhost:8080/"
        },
        "id": "1J4m6mMLXP0N",
        "outputId": "c4767143-1a6e-41c2-88c5-3a0898e3c298"
      },
      "source": [
        "print('Total number of unique records in Trump USA dataset: ', df_don_trump_usa_unique.shape)\n",
        "print('Total number of unique records in Biden USA dataset: ', df_joe_biden_usa_unique.shape)"
      ],
      "execution_count": null,
      "outputs": [
        {
          "output_type": "stream",
          "text": [
            "Total number of unique records in Trump USA dataset:  (82063, 15)\n",
            "Total number of unique records in Biden USA dataset:  (70728, 15)\n"
          ],
          "name": "stdout"
        }
      ]
    },
    {
      "cell_type": "code",
      "metadata": {
        "id": "kUkFgjAvXSNH"
      },
      "source": [
        "del df_don_trump_usa\n",
        "del df_joe_biden_usa"
      ],
      "execution_count": null,
      "outputs": []
    },
    {
      "cell_type": "markdown",
      "metadata": {
        "id": "ypKL-0adLIYx"
      },
      "source": [
        "# Languages"
      ]
    },
    {
      "cell_type": "code",
      "metadata": {
        "id": "lNvRAuKDXmWB"
      },
      "source": [
        "example_tweet = 'El Departamento de Comercio anunció que el formulario Censo 2020 no tendrá la pregunta de ciudadanía de Trump.'"
      ],
      "execution_count": null,
      "outputs": []
    },
    {
      "cell_type": "code",
      "metadata": {
        "colab": {
          "base_uri": "https://localhost:8080/"
        },
        "id": "cSLM-9sKXuJs",
        "outputId": "588a1050-9680-424f-a798-c12380ea7fb4"
      },
      "source": [
        "#try out TextBlob on a sample tweet\n",
        "from textblob import TextBlob\n",
        "b = TextBlob(example_tweet)\n",
        "print(f'Language of text: \\n{example_tweet}\\nis: {b.detect_language()}')"
      ],
      "execution_count": null,
      "outputs": [
        {
          "output_type": "stream",
          "text": [
            "Language of text: \n",
            "#Wisconsin podría ser el punto de inflexión en la carrera entre #Trump y #Biden https://t.co/WFf8A1hAn7\n",
            "is: es\n"
          ],
          "name": "stdout"
        }
      ]
    },
    {
      "cell_type": "code",
      "metadata": {
        "id": "qMN57StdXwg8"
      },
      "source": [
        ""
      ],
      "execution_count": null,
      "outputs": []
    },
    {
      "cell_type": "code",
      "metadata": {
        "colab": {
          "base_uri": "https://localhost:8080/",
          "height": 35
        },
        "id": "hSrBgOuqXyX-",
        "outputId": "7793a266-d096-44fa-be70-ea354bbd821e"
      },
      "source": [
        "from langdetect import detect, DetectorFactory\n",
        "DetectorFactory.seed = 0\n",
        "detect('El Departamento de Comercio anunció que el formulario Censo 2020 no tendrá la pregunta de ciudadanía de Trump.')"
      ],
      "execution_count": null,
      "outputs": [
        {
          "output_type": "execute_result",
          "data": {
            "application/vnd.google.colaboratory.intrinsic+json": {
              "type": "string"
            },
            "text/plain": [
              "'es'"
            ]
          },
          "metadata": {
            "tags": []
          },
          "execution_count": 72
        }
      ]
    },
    {
      "cell_type": "code",
      "metadata": {
        "id": "mNEFmI1WX6iw"
      },
      "source": [
        "from langdetect import detect, DetectorFactory\n",
        "DetectorFactory.seed = 0\n",
        "\n",
        "def get_language(tweet):\n",
        "    try:                                                          \n",
        "        lang=detect(tweet)                                      \n",
        "    except:                                                       \n",
        "        lang='no'\n",
        "        \n",
        "    return lang"
      ],
      "execution_count": null,
      "outputs": []
    },
    {
      "cell_type": "code",
      "metadata": {
        "id": "J-v8pj4CX8jk",
        "colab": {
          "base_uri": "https://localhost:8080/"
        },
        "outputId": "d091c42f-cdc2-4a45-f0b4-2cacb99e76f0"
      },
      "source": [
        "#testing a smaller sample to give a time approximation\n",
        "start_time = time.time()\n",
        "\n",
        "test_df = df_don_trump_usa_unique.iloc[:1000].copy()\n",
        "test_df['lang'] = test_df.tweet.apply(lambda x: get_language(x))\n",
        "\n",
        "stop_time = time.time()\n",
        "print(f'It took {np.around((time.time() - start_time),decimals=1)} seconds')"
      ],
      "execution_count": null,
      "outputs": [
        {
          "output_type": "stream",
          "text": [
            "It took 7.8 seconds\n"
          ],
          "name": "stdout"
        }
      ]
    },
    {
      "cell_type": "code",
      "metadata": {
        "id": "GCeyAXGUX-xD",
        "colab": {
          "base_uri": "https://localhost:8080/"
        },
        "outputId": "e00ef3cb-0621-4b51-986a-cfd9cb3e3063"
      },
      "source": [
        "# uncomment to run again \n",
        "# start_time = time.time()\n",
        "\n",
        "# df_don_trump_usa_unique['lang'] = df_don_trump_usa_unique.tweet.apply(lambda x: get_language(x))\n",
        "\n",
        "# stop_time = time.time()\n",
        "# print(f'It took {np.around((time.time() - start_time), decimals=1)} seconds')"
      ],
      "execution_count": null,
      "outputs": [
        {
          "output_type": "stream",
          "text": [
            "This tweet throws an error: ⁣\n",
            "⁣\n",
            "𝘋𝘰 𝘯𝘰𝘵 𝘷𝘰𝘵𝘦 𝘧𝘰𝘳 #𝘊𝘰𝘷𝘪𝘥𝘪𝘰𝘵𝘐𝘯𝘊𝘩𝘪𝘦𝘧 𝘰𝘳 𝘵𝘩𝘦 #𝘔𝘢𝘴𝘬𝘭𝘦𝘴𝘴𝘋𝘶𝘮𝘣𝘈𝘴𝘴⁣\n",
            "⁣\n",
            "𝘕𝘰 𝘮𝘰𝘳𝘦 #𝘛𝘙𝘜𝘔𝘗\n",
            "This tweet throws an error: I😂😂😂😂😂😂 🤮🤮🤮🤮🤮🤮😂😂😂😂😂🤢🤢🤢🤢🤢🤢🤢🤮🤮🤮🤮🤮🤮🤮🤮🤮🤮😣😣😣😣😣😳😳😳😳😳😳😳😳😳🤮🤮🤮🤮🤮🤮🤮🤮🤢🤢🤢🤢🤢🤢🤒🤒🤒🤒🤒🤒🤒🤒🤒🤒🤒 sums it when I see #trump dancing https://t.co/9BdiBshAVX\n",
            "This tweet throws an error: @Trailblaze2top #trump ‼‼‼‼‼‼‼‼‼‼‼‼‼‼‼‼‼‼‼‼‼‼‼‼‼‼‼‼‼‼‼‼‼‼‼‼‼‼‼‼‼‼‼‼‼‼‼‼‼‼‼‼‼‼‼‼‼‼‼‼‼‼‼‼‼‼‼‼‼‼‼‼‼‼‼‼‼‼‼‼‼‼‼‼‼‼‼‼‼‼‼‼‼‼‼‼‼‼‼‼‼‼‼‼‼‼‼‼‼‼‼‼‼‼‼‼‼‼‼‼‼‼‼‼‼‼‼‼‼‼‼‼‼‼‼‼\n",
            "This tweet throws an error: 🆃🆁🆄🅼🅿 2020\n",
            "🆃🆁🆄🅼🅿 2020\n",
            "🆃🆁🆄🅼🅿 2020\n",
            "🆃🆁🆄🅼🅿 2020\n",
            "🆃🆁🆄🅼🅿 2020\n",
            "🆃🆁🆄🅼🅿 2020\n",
            "🆃🆁🆄🅼🅿 2020\n",
            "🆃🆁🆄🅼🅿 2020\n",
            "🆃🆁🆄🅼🅿 2020\n",
            "🆃🆁🆄🅼🅿 2020\n",
            "\n",
            "RT #ElectionDay #Trump\n",
            "This tweet throws an error: #Trump 2️⃣0️⃣2️⃣0️⃣🇺🇸🇺🇸🇺🇸❤️🤍💙 https://t.co/57yUuOuiqB\n",
            "This tweet throws an error: Pennsylvania 👀👀👀👀👀👀👀👀👀👀👀👀👀👀👀👀👀👀👀👀👀👀👀👀👀👀👀👀👀👀👀👀👀👀👀👀👀👀👀👀👀👀👀👀👀👀👀👀👀👀👀👀👀👀👀👀👀👀👀👀👀👀👀👀👀👀👀👀👀👀👀👀👀👀👀👀👀👀👀👀👀👀👀👀👀👀👀👀👀👀👀👀👀👀👀👀👀👀👀👀👀👀👀👀👀#BattlegroundState  #Trump #TrumpPence2020 #Vote #PA\n",
            "This tweet throws an error: 🇺🇸🇺🇸🇺🇸🇺🇸🇺🇸\n",
            "          🇺🇸\n",
            "          🇺🇸\n",
            "          🇺🇸\n",
            "          🇺🇸\n",
            "\n",
            "🇺🇸🇺🇸🇺🇸🇺🇸\n",
            "🇺🇸            🇺🇸\n",
            "🇺🇸    🇺🇸🇺🇸\n",
            "🇺🇸       🇺🇸\n",
            "🇺🇸         🇺🇸\n",
            "\n",
            "🇺🇸          🇺🇸\n",
            "🇺🇸          🇺🇸\n",
            "🇺🇸          🇺🇸\n",
            "🇺🇸🇺🇸🇺🇸🇺🇸\n",
            "\n",
            "🇺🇸          🇺🇸\n",
            "🇺🇸🇺🇸🇺🇸🇺🇸\n",
            "🇺🇸   🇺🇸  🇺🇸\n",
            "🇺🇸          🇺🇸\n",
            "\n",
            "🇺🇸🇺🇸🇺🇸🇺🇸\n",
            "🇺🇸          🇺🇸\n",
            "🇺🇸🇺🇸🇺🇸🇺🇸\n",
            "🇺🇸\n",
            "🇺🇸 #Trump\n",
            "This tweet throws an error: ┏━━┓┏━━┓┏━━┓┏━━┓ ┗━┓┃┃┏┓┃┗━┓┃┃┏┓┃ ┏━┛┃┃┃┃┃┏━┛┃┃┃┃┃\n",
            "❤️🤍💙🇺🇲 🆃🆁🆄🅼🅿︎🇺🇲❤️🤍💙 ┃┗━┓┃┗┛┃┃┗━┓┃┗┛┃ ┗━━┛┗━━┛┗━━┛┗━━┛\n",
            "#Trump #Trump2020 #USAElections2020\n",
            "This tweet throws an error: ┏━━┓┏━━┓┏━━┓┏━━┓ ┗━┓┃┃┏┓┃┗━┓┃┃┏┓┃ ┏━┛┃┃┃┃┃┏━┛┃┃┃┃┃\n",
            "❤️💙🇺🇲 🆃🆁🆄🅼🅿︎🇺🇲❤️💙 ┃┗━┓┃┗┛┃┃┗━┓┃┗┛┃ ┗━━┛┗━━┛┗━━┛┗━━┛\n",
            "#Trump #Trump2020 #USAElections2020 #TrumpvsBiden https://t.co/ZiHz6jAh2L\n",
            "This tweet throws an error: 🇺🇸🇺🇸🇺🇸🇺🇸🇺🇸🇺🇸🇺🇸🇺🇸🇺🇸🇺🇸🇺🇸🇺🇸🇺🇸🇺🇸🇺🇸🇺🇸🇺🇸🇺🇸🇺🇸🇺🇸🇺🇸🇺🇸🇺🇸🇺🇸🇺🇸🇺🇸🇺🇸🇺🇸🇺🇸🇺🇸🇺🇸🇺🇸🇺🇸🇺🇸🇺🇸🇺🇸🇺🇸🇺🇸🇺🇸🇺🇸🇺🇸🇺🇸🇺🇸🇺🇸🇺🇸🇺🇸🇺🇸🇺🇸#Maga #Trump https://t.co/O7XDpg9anh\n",
            "This tweet throws an error: #DonaldTrump🇺🇸🇺🇸🇺🇸🇺🇸🇺🇸🇺🇸🇺🇸🇺🇸🇻🇨🇻🇨🇻🇨🇻🇨🇻🇨🇻🇨🇻🇨\n",
            "It took 666.1 seconds\n"
          ],
          "name": "stdout"
        },
        {
          "output_type": "stream",
          "text": [
            "/usr/local/lib/python3.7/dist-packages/ipykernel_launcher.py:3: SettingWithCopyWarning: \n",
            "A value is trying to be set on a copy of a slice from a DataFrame.\n",
            "Try using .loc[row_indexer,col_indexer] = value instead\n",
            "\n",
            "See the caveats in the documentation: https://pandas.pydata.org/pandas-docs/stable/user_guide/indexing.html#returning-a-view-versus-a-copy\n",
            "  This is separate from the ipykernel package so we can avoid doing imports until\n"
          ],
          "name": "stderr"
        }
      ]
    },
    {
      "cell_type": "code",
      "metadata": {
        "id": "ZBIbgOXWYAW4",
        "colab": {
          "base_uri": "https://localhost:8080/"
        },
        "outputId": "79866bb7-a7d1-4ad9-ac07-389dd60a460b"
      },
      "source": [
        "# uncomment to run again\n",
        "\n",
        "# start_time = time.time()\n",
        "\n",
        "# df_joe_biden_usa_unique['lang'] = df_joe_biden_usa_unique.tweet.apply(lambda x: get_language(x))\n",
        "\n",
        "# stop_time = time.time()\n",
        "# print(f'It took {np.around((time.time() - start_time), decimals=1)} seconds')"
      ],
      "execution_count": null,
      "outputs": [
        {
          "output_type": "stream",
          "text": [
            "This tweet throws an error: 👏🏻👏🏻👏🏻👏🏻👏🏻👏🏻👏🏻👏🏻👏🏻👏🏻👏🏻👏🏻👏🏻👏🏻👏🏻👏🏻👏🏻👏🏻👏🏻👏🏻👏🏻👏🏻👏🏻👏🏻👏🏻👏🏻👏🏻👏🏻👏🏻👏🏻👏🏻👏🏻#JoeBiden https://t.co/9lnd35iOfq\n",
            "This tweet throws an error: ❤️❤️❤️❤️❤️❤️❤️❤️❤️❤️❤️❤️#Biden https://t.co/9CvcaErqN6\n",
            "This tweet throws an error: ❤️❤️❤️❤️❤️❤️❤️❤️❤️❤️❤️#joebiden https://t.co/hPFsbGIGQB\n",
            "This tweet throws an error: 🇺🇸🇺🇸🇺🇸🇺🇸🇺🇸🇺🇸🇺🇸🇺🇸#BIDEN https://t.co/njfvCATvn6\n",
            "This tweet throws an error: 𝗟𝗜𝗦𝗧𝗘𝗡𝗜𝗡𝗚 𝗧𝗢 𝗧𝗛𝗘 𝗦𝗖𝗜𝗘𝗡𝗧𝗜𝗦𝗧 .... \n",
            "𝗜 𝘄𝗼𝗻𝗱𝗲𝗿 𝘄𝗵𝗶𝗰𝗵 𝗦𝗰𝗶𝗲𝗻𝘁𝗶𝘀𝘁 #𝗕𝗶𝗱𝗲𝗻 𝘄𝗼𝘂𝗹𝗱𝗻'𝘁 𝗼𝗳 𝗹𝗶𝘀𝘁𝗲𝗻 𝘁𝗼 ..... 𝗛𝗺𝗺𝗺𝗺𝗺 ?????   🤔\n",
            "https://t.co/xU894RTSaN via @YouTube\n",
            "This tweet throws an error: 🇺🇸🇺🇸💫💫🇺🇸🇺🇸💫🇺🇸🇺🇸🇺🇸💫💫🇺🇸🇺🇸💫💫🇺🇸💫💫💫🇺🇸💫💫💫💫💫#JoeBiden💫🇺🇸🇺🇸🇺🇸🇺🇸🇺🇸🇺🇸🇺🇸🇺🇸🇺🇸🇺🇸💫💫💫 https://t.co/nX0zcgeB6e\n",
            "This tweet throws an error: ┏━━┓┏━━┓┏━━┓┏━━┓ ┗━┓┃┃┏┓┃┗━┓┃┃┏┓┃ ┏━┛┃┃┃┃┃┏━┛┃┃┃┃┃ ❤️🤍💙🇺🇲 🅱🅸🅳🅴🅽 🇺🇲❤️🤍💙 ┃┗━┓┃┗┛┃┃┗━┓┃┗┛┃ ┗━━┛┗━━┛┗━━┛┗━━┛\n",
            "#JoeBiden #VOTE #VoteBlue\n",
            "This tweet throws an error: ┏━━┓┏━━┓┏━━┓┏━━┓\n",
            "┗━┓┃┃┏┓┃┗━┓┃┃┏┓┃\n",
            "❤️🤍💙 🇺🇲 B I D E N 🇺🇲 ❤️🤍💙\n",
            "┃┗━┓┃┗┛┃┃┗━┓┃┗┛┃\n",
            "┗━━┛┗━━┛┗━━┛┗━━┛ #Election2020 @TeamJoe #JoeBiden @JoeBiden 🙏🏾🙏🏾🙏🏾\n",
            "This tweet throws an error: Let’s go #Biden lesss goooooo 💙💙💙💙💙💙💙💙💙💙💙💙💙💙💙💙💙💙💙💙💙💙💙💙💙💙💙💙💙💙💙💙💙💙💙💙💙💙💙💙💙💙💙💙💙💙💙💙💙💙💙💙💙💙💙💙💙💙💙💙💙💙💙💙💙💙💙💙💙💙💙💙💙💙💙💙💙💙💙💙💙💙💙💙💙💙💙💙💙💙💙💙💙💙💙💙💙💙💙💙💙💙💙💙💙💙💙💙💙💙💙💙💙💙💙💙💙💙💙💙💙💙💙💙💙\n",
            "This tweet throws an error: 𝕡𝕝𝕖𝕒𝕤𝕖 𝕘𝕠 𝕧𝕠𝕥𝕖. 𝕚𝕗 𝕪𝕠𝕦 𝕔𝕒𝕟'𝕥 𝕧𝕠𝕥𝕖, 𝕥𝕙𝕖𝕟 𝕔𝕒𝕝𝕝 𝕗𝕠𝕣 𝕙𝕖𝕝𝕡.\n",
            "\n",
            "- 𝚝𝚛𝚞𝚖𝚙 𝚒𝚜𝚗'𝚝 𝚘𝚞𝚛 𝚜𝚊𝚟𝚒𝚘𝚛\n",
            "- 𝚝𝚛𝚞𝚖𝚙 𝚒𝚜𝚗'𝚝 𝚘𝚞𝚛 𝚜𝚊𝚟𝚒𝚘𝚛\n",
            "- 𝚝𝚛𝚞𝚖𝚙 𝚒𝚜𝚗'𝚝 𝚘𝚞𝚛 𝚜𝚊𝚟𝚒𝚘𝚛\n",
            "\n",
            "#Biden #harris \n",
            "\n",
            "i need to talk to someone about this.\n",
            "This tweet throws an error: ┏━━┓┏━━┓┏━━┓┏━━┓ ┗━┓┃┃┏┓┃┗━┓┃┃┏┓┃\n",
            "❤️🤍💙🅱︎🅸🅳🅴🅽 ❤️🤍💙 ┃┗━┓┃┗┛┃┃┗━┓┃┗┛┃ ┗━━┛┗━━┛┗━━┛┗━━┛\n",
            "\n",
            "#Biden\n",
            "This tweet throws an error: 🕯️🕯️🕯️🕯️🕯️🕯️🕯️#Biden🕯️🕯️🕯️🕯️🕯️🕯️🕯️#Georgia🕯️🕯️🕯️🕯️🕯️🕯️🕯️#Biden🕯️🕯️🕯️🕯️🕯️🕯️🕯️#Georgia🕯️🕯️🕯️🕯️🕯️🕯️🕯️#Biden🕯️🕯️🕯️🕯️🕯️🕯️🕯️#Georgia🕯️🕯️🕯️🕯️🕯️🕯️🕯️#Biden🕯️🕯️🕯️🕯️🕯️🕯️🕯️#Georgia\n",
            "This tweet throws an error: #46!! #JoeBiden #KamalaHarris 🇺🇸🇺🇸🇺🇸🇺🇸🇺🇸🇺🇸🇺🇸🇺🇸🇺🇸🇺🇸🇺🇸🇺🇸🇺🇸🇺🇸🇺🇸🇺🇸🇺🇸🇺🇸🇺🇸🇺🇸🇺🇸🇺🇸🇺🇸🇺🇸🇺🇸🇺🇸🇺🇸 https://t.co/HiDvsv7EzO\n",
            "This tweet throws an error: #JoeBiden 🇺🇸🇺🇸🇺🇸🇺🇸🇺🇸❤️❤️❤️❤️ https://t.co/kDvypysPV6\n",
            "This tweet throws an error: ❤️❤️❤️❤️❤️❤️ #biden https://t.co/UijY4gIx1L https://t.co/OrTtH5BqLz\n",
            "This tweet throws an error: UHUULL #BIDEN 👏🏿👏🏿🙏🏿🙏🏿💃🏿💃🏿🌻🌻🙏🏽🙏🏽💋💋❤❤🥰🥰😘😘🇺🇸🇺🇸🇺🇸🇺🇸\n",
            "It took 772.6 seconds\n"
          ],
          "name": "stdout"
        },
        {
          "output_type": "stream",
          "text": [
            "/usr/local/lib/python3.7/dist-packages/ipykernel_launcher.py:3: SettingWithCopyWarning: \n",
            "A value is trying to be set on a copy of a slice from a DataFrame.\n",
            "Try using .loc[row_indexer,col_indexer] = value instead\n",
            "\n",
            "See the caveats in the documentation: https://pandas.pydata.org/pandas-docs/stable/user_guide/indexing.html#returning-a-view-versus-a-copy\n",
            "  This is separate from the ipykernel package so we can avoid doing imports until\n"
          ],
          "name": "stderr"
        }
      ]
    },
    {
      "cell_type": "code",
      "metadata": {
        "id": "OX4AuFq8CPt1"
      },
      "source": [
        "df_don_trump_usa_unique.to_csv('/content/drive/MyDrive/CIND_820/Data/temp_data/df_don_trump_usa_unique.csv',index=False)\n",
        "df_joe_biden_usa_unique.to_csv('/content/drive/MyDrive/CIND_820/Data/temp_data/df_joe_biden_usa_unique.csv', index=False)"
      ],
      "execution_count": null,
      "outputs": []
    },
    {
      "cell_type": "code",
      "metadata": {
        "id": "IXhKSLQmDsFR"
      },
      "source": [
        "df_don_trump_usa_unique = pd.read_csv('/content/drive/MyDrive/CIND_820/Data/temp_data/df_don_trump_usa_unique.csv')\n",
        "df_joe_biden_usa_unique = pd.read_csv('/content/drive/MyDrive/CIND_820/Data/temp_data/df_joe_biden_usa_unique.csv')"
      ],
      "execution_count": null,
      "outputs": []
    },
    {
      "cell_type": "code",
      "metadata": {
        "id": "CpGs8z5SYLYo",
        "colab": {
          "base_uri": "https://localhost:8080/"
        },
        "outputId": "0e79a3db-3d35-4588-efcb-0ffa7fec344d"
      },
      "source": [
        "df_joe_biden_usa_unique.dtypes"
      ],
      "execution_count": null,
      "outputs": [
        {
          "output_type": "execute_result",
          "data": {
            "text/plain": [
              "created_at               object\n",
              "tweet_id                float64\n",
              "tweet                    object\n",
              "likes                   float64\n",
              "retweet_count           float64\n",
              "user_id                 float64\n",
              "user_followers_count    float64\n",
              "user_location            object\n",
              "lat                     float64\n",
              "long                    float64\n",
              "city                     object\n",
              "country                  object\n",
              "continent                object\n",
              "state                    object\n",
              "state_code               object\n",
              "lang                     object\n",
              "dtype: object"
            ]
          },
          "metadata": {
            "tags": []
          },
          "execution_count": 76
        }
      ]
    },
    {
      "cell_type": "code",
      "metadata": {
        "colab": {
          "base_uri": "https://localhost:8080/"
        },
        "id": "HFfj0GPpLcfE",
        "outputId": "88f1760b-b0b1-42db-9026-a1a26ba9e4a7"
      },
      "source": [
        "df_don_trump_usa_unique.dtypes"
      ],
      "execution_count": null,
      "outputs": [
        {
          "output_type": "execute_result",
          "data": {
            "text/plain": [
              "created_at               object\n",
              "tweet_id                float64\n",
              "tweet                    object\n",
              "likes                   float64\n",
              "retweet_count           float64\n",
              "user_id                 float64\n",
              "user_followers_count    float64\n",
              "user_location            object\n",
              "lat                     float64\n",
              "long                    float64\n",
              "city                     object\n",
              "country                  object\n",
              "continent                object\n",
              "state                    object\n",
              "state_code               object\n",
              "lang                     object\n",
              "dtype: object"
            ]
          },
          "metadata": {
            "tags": []
          },
          "execution_count": 77
        }
      ]
    },
    {
      "cell_type": "code",
      "metadata": {
        "id": "QVJgBTd_YMVW",
        "colab": {
          "base_uri": "https://localhost:8080/",
          "height": 669
        },
        "outputId": "820f90d9-8ed6-450f-a17b-5d07f3866558"
      },
      "source": [
        "plt.figure(figsize=(20,5))\n",
        "ax = df_joe_biden_usa_unique.lang.value_counts().plot.bar(rot=0)\n",
        "plt.setp(ax.get_xticklabels(), fontsize=16)\n",
        "plt.title('Frequency of languages in Biden tweets', fontsize=16)\n",
        "plt.show()\n",
        "\n",
        "plt.figure(figsize=(20,5))\n",
        "ax = df_don_trump_usa_unique.lang.value_counts().plot.bar(rot=0)\n",
        "plt.setp(ax.get_xticklabels(), fontsize=16)\n",
        "plt.title('Frequency of languages in Trump tweets',fontsize=16)\n",
        "\n",
        "plt.show()"
      ],
      "execution_count": null,
      "outputs": [
        {
          "output_type": "display_data",
          "data": {
            "image/png": "[encoded data removed]",
            "text/plain": [
              "<Figure size 1440x360 with 1 Axes>"
            ]
          },
          "metadata": {
            "tags": [],
            "needs_background": "light"
          }
        },
        {
          "output_type": "display_data",
          "data": {
            "image/png": "[encoded data removed]",
            "text/plain": [
              "<Figure size 1440x360 with 1 Axes>"
            ]
          },
          "metadata": {
            "tags": [],
            "needs_background": "light"
          }
        }
      ]
    },
    {
      "cell_type": "code",
      "metadata": {
        "id": "amSjgI71YWBq"
      },
      "source": [
        "#shortening length of name to make it easier to type\n",
        "df_trump = df_don_trump_usa_unique.copy()\n",
        "# del df_don_trump_usa_unique\n",
        "\n",
        "df_biden = df_joe_biden_usa_unique.copy()\n",
        "# del df_joe_biden_usa_unique"
      ],
      "execution_count": null,
      "outputs": []
    },
    {
      "cell_type": "code",
      "metadata": {
        "id": "aRoQSn-gYYYF"
      },
      "source": [
        "df_trump = df_trump[df_trump.lang == 'en']\n",
        "df_biden = df_biden[df_biden.lang == 'en']\n"
      ],
      "execution_count": null,
      "outputs": []
    },
    {
      "cell_type": "code",
      "metadata": {
        "id": "tyDl8sdqYa5r",
        "colab": {
          "base_uri": "https://localhost:8080/"
        },
        "outputId": "6074546f-7073-4c1c-dac1-64e6d54b2044"
      },
      "source": [
        "print('Total number of records in Trump dataset: ', df_trump.shape)\n",
        "print('Total number of records in Biden dataset: ', df_biden.shape)"
      ],
      "execution_count": null,
      "outputs": [
        {
          "output_type": "stream",
          "text": [
            "Total number of records in Trump dataset:  (75148, 16)\n",
            "Total number of records in Biden dataset:  (58876, 16)\n"
          ],
          "name": "stdout"
        }
      ]
    },
    {
      "cell_type": "code",
      "metadata": {
        "id": "7E5gEitZYgAx",
        "colab": {
          "base_uri": "https://localhost:8080/"
        },
        "outputId": "2a966a4b-76b1-4477-9b22-059ae4a15c78"
      },
      "source": [
        "print(f'Retained {np.around(df_trump.shape[0]*100/trump_initial_count, decimals=1)}% of dat from the initial Trump dataset')\n",
        "print(f'Reatined {np.around(df_biden.shape[0]*100/biden_initial_count, decimals=1)}% of data from the initial Biden dataset')"
      ],
      "execution_count": null,
      "outputs": [
        {
          "output_type": "stream",
          "text": [
            "Retained 7.7% of dat from the initial Trump dataset\n",
            "Reatined 7.6% of data from the initial Biden dataset\n"
          ],
          "name": "stdout"
        }
      ]
    },
    {
      "cell_type": "markdown",
      "metadata": {
        "id": "LU8Sg1UtcA_X"
      },
      "source": [
        "# Summary stats"
      ]
    },
    {
      "cell_type": "code",
      "metadata": {
        "id": "F0bZEMTxYmii"
      },
      "source": [
        "#create a column for filter\n",
        "\n",
        "df_trump['ds'] = 'trump'\n",
        "df_biden['ds'] = 'biden'\n",
        "\n",
        "# Combine the filtered Trump and Biden Datasets \n",
        "df_concat_tweets = pd.concat([df_biden, df_trump],ignore_index=True)\n",
        "\n",
        "# Covnert the created at colum to datetime\n",
        "df_concat_tweets['created_at'] =  pd.to_datetime(df_concat_tweets['created_at'])"
      ],
      "execution_count": null,
      "outputs": []
    },
    {
      "cell_type": "code",
      "metadata": {
        "colab": {
          "base_uri": "https://localhost:8080/",
          "height": 384
        },
        "id": "0_jeFSHFYntY",
        "outputId": "e21809c7-45ef-4cbf-c762-f63e325b1d3f"
      },
      "source": [
        "plt.figure(figsize=(15,5))\n",
        "\n",
        "df_concat_tweets.created_at.dt.date.value_counts().sort_index().plot.bar(rot=90, alpha=0.3,color='m')\n",
        "\n",
        "plt.setp(ax.get_xticklabels(), fontsize=16)\n",
        "plt.title('Frequency of tweets per day')\n",
        "plt.show()"
      ],
      "execution_count": null,
      "outputs": [
        {
          "output_type": "display_data",
          "data": {
            "image/png": "[encoded data removed]",
            "text/plain": [
              "<Figure size 1080x360 with 1 Axes>"
            ]
          },
          "metadata": {
            "tags": [],
            "needs_background": "light"
          }
        }
      ]
    },
    {
      "cell_type": "code",
      "metadata": {
        "colab": {
          "base_uri": "https://localhost:8080/"
        },
        "id": "VDG1X7dFYpnG",
        "outputId": "59820e16-c47e-4762-ec48-4ad590fd205b"
      },
      "source": [
        "most_popular_tweet = df_concat_tweets.loc[df_concat_tweets['retweet_count'].idxmax()]\n",
        "print(f\" The tweet:\\n'{most_popular_tweet.tweet}'\\nwas retweeted the most ({most_popular_tweet.retweet_count} times).\")"
      ],
      "execution_count": null,
      "outputs": [
        {
          "output_type": "stream",
          "text": [
            " The tweet:\n",
            "'Tonight a woman in the audience of Trump's town hall began her question by telling him he has a great smile &amp; he's so handsome when he smiles. And when #JoeBiden is President, hopefully that woman will be able to access better vision care, bless her heart.'\n",
            "was retweeted the most (17652.0 times).\n"
          ],
          "name": "stdout"
        }
      ]
    },
    {
      "cell_type": "code",
      "metadata": {
        "colab": {
          "base_uri": "https://localhost:8080/",
          "height": 380
        },
        "id": "BTyb9NSPYxhD",
        "outputId": "077e2c19-5429-445a-bcf8-d7c5f7632b5d"
      },
      "source": [
        "df_concat_tweets[['tweet_id','user_id','created_at', 'likes', 'retweet_count', 'tweet', 'ds']].iloc[df_concat_tweets.retweet_count.sort_values(ascending=False).head(5).index]"
      ],
      "execution_count": null,
      "outputs": [
        {
          "output_type": "execute_result",
          "data": {
            "text/html": [
              "<div>\n",
              "<style scoped>\n",
              "    .dataframe tbody tr th:only-of-type {\n",
              "        vertical-align: middle;\n",
              "    }\n",
              "\n",
              "    .dataframe tbody tr th {\n",
              "        vertical-align: top;\n",
              "    }\n",
              "\n",
              "    .dataframe thead th {\n",
              "        text-align: right;\n",
              "    }\n",
              "</style>\n",
              "<table border=\"1\" class=\"dataframe\">\n",
              "  <thead>\n",
              "    <tr style=\"text-align: right;\">\n",
              "      <th></th>\n",
              "      <th>tweet_id</th>\n",
              "      <th>user_id</th>\n",
              "      <th>created_at</th>\n",
              "      <th>likes</th>\n",
              "      <th>retweet_count</th>\n",
              "      <th>tweet</th>\n",
              "      <th>ds</th>\n",
              "    </tr>\n",
              "  </thead>\n",
              "  <tbody>\n",
              "    <tr>\n",
              "      <th>2388</th>\n",
              "      <td>1.316941e+18</td>\n",
              "      <td>139823781.0</td>\n",
              "      <td>2020-10-16 03:17:29</td>\n",
              "      <td>165702.0</td>\n",
              "      <td>17652.0</td>\n",
              "      <td>Tonight a woman in the audience of Trump's town hall began her question by telling him he has a great smile &amp;amp; he's so handsome when he smiles. And when #JoeBiden is President, hopefully that woman will be able to access better vision care, bless her heart.</td>\n",
              "      <td>biden</td>\n",
              "    </tr>\n",
              "    <tr>\n",
              "      <th>21157</th>\n",
              "      <td>1.320927e+18</td>\n",
              "      <td>139823781.0</td>\n",
              "      <td>2020-10-27 03:16:27</td>\n",
              "      <td>59403.0</td>\n",
              "      <td>7489.0</td>\n",
              "      <td>Are you there, God? It's me, Bette. I'm so scared God.  We have a fascist in the #WhiteHouse, a racist criminal who hates democracy, denies science &amp;amp; kills our citizens! #ElectionDay is next week. What if he wins?  We won't have a country!  Please let #JoeBiden win.  Thank you.</td>\n",
              "      <td>biden</td>\n",
              "    </tr>\n",
              "    <tr>\n",
              "      <th>29398</th>\n",
              "      <td>1.323002e+18</td>\n",
              "      <td>139823781.0</td>\n",
              "      <td>2020-11-01 20:41:36</td>\n",
              "      <td>45540.0</td>\n",
              "      <td>6133.0</td>\n",
              "      <td>Are you there, God? It's me again, Bette. We're scared.  We have a fascist in the #WhiteHouse, a racist criminal who hates democracy, denies science &amp;amp; kills our citizens! #ElectionDay is in two days. What if he wins? We won't have a country! Please let #JoeBiden win.  Thank you.</td>\n",
              "      <td>biden</td>\n",
              "    </tr>\n",
              "    <tr>\n",
              "      <th>1829</th>\n",
              "      <td>1.316908e+18</td>\n",
              "      <td>139823781.0</td>\n",
              "      <td>2020-10-16 01:04:10</td>\n",
              "      <td>43399.0</td>\n",
              "      <td>6038.0</td>\n",
              "      <td>OMG!  #JoeBiden speaks like a human being!  And he’s actually answering the questions!  It’s so exciting!  How we have missed this for 4 years!!</td>\n",
              "      <td>biden</td>\n",
              "    </tr>\n",
              "    <tr>\n",
              "      <th>87374</th>\n",
              "      <td>1.320518e+18</td>\n",
              "      <td>212674482.0</td>\n",
              "      <td>2020-10-26 00:08:24</td>\n",
              "      <td>25987.0</td>\n",
              "      <td>5986.0</td>\n",
              "      <td>The White House still has not released a health care plan. #60Minutes #Trump https://t.co/hvz3VUE1J2</td>\n",
              "      <td>trump</td>\n",
              "    </tr>\n",
              "  </tbody>\n",
              "</table>\n",
              "</div>"
            ],
            "text/plain": [
              "           tweet_id  ...     ds\n",
              "2388   1.316941e+18  ...  biden\n",
              "21157  1.320927e+18  ...  biden\n",
              "29398  1.323002e+18  ...  biden\n",
              "1829   1.316908e+18  ...  biden\n",
              "87374  1.320518e+18  ...  trump\n",
              "\n",
              "[5 rows x 7 columns]"
            ]
          },
          "metadata": {
            "tags": []
          },
          "execution_count": 88
        }
      ]
    },
    {
      "cell_type": "code",
      "metadata": {
        "colab": {
          "base_uri": "https://localhost:8080/"
        },
        "id": "IKY9Yg5_YznQ",
        "outputId": "d8e79477-2577-4c32-8bc1-53994feaad9f"
      },
      "source": [
        "print(f'Our 2nd most popular tweet was retweeted for number of times equal to {np.around(13500*100/df_concat_tweets.shape[0], decimals=1)}% of our dataset size')"
      ],
      "execution_count": null,
      "outputs": [
        {
          "output_type": "stream",
          "text": [
            "Our 2nd most popular tweet was retweeted for number of times equal to 10.1% of our dataset size\n"
          ],
          "name": "stdout"
        }
      ]
    },
    {
      "cell_type": "code",
      "metadata": {
        "colab": {
          "base_uri": "https://localhost:8080/",
          "height": 237
        },
        "id": "w-sQHqkeY1tf",
        "outputId": "47fcae67-4c35-44ab-bf40-8b2d8a51d237"
      },
      "source": [
        "df_concat_tweets[df_concat_tweets.tweet.str.contains('Are you there')][['created_at', 'tweet', 'user_id']]"
      ],
      "execution_count": null,
      "outputs": [
        {
          "output_type": "execute_result",
          "data": {
            "text/html": [
              "<div>\n",
              "<style scoped>\n",
              "    .dataframe tbody tr th:only-of-type {\n",
              "        vertical-align: middle;\n",
              "    }\n",
              "\n",
              "    .dataframe tbody tr th {\n",
              "        vertical-align: top;\n",
              "    }\n",
              "\n",
              "    .dataframe thead th {\n",
              "        text-align: right;\n",
              "    }\n",
              "</style>\n",
              "<table border=\"1\" class=\"dataframe\">\n",
              "  <thead>\n",
              "    <tr style=\"text-align: right;\">\n",
              "      <th></th>\n",
              "      <th>created_at</th>\n",
              "      <th>tweet</th>\n",
              "      <th>user_id</th>\n",
              "    </tr>\n",
              "  </thead>\n",
              "  <tbody>\n",
              "    <tr>\n",
              "      <th>21157</th>\n",
              "      <td>2020-10-27 03:16:27</td>\n",
              "      <td>Are you there, God? It's me, Bette. I'm so scared God.  We have a fascist in the #WhiteHouse, a racist criminal who hates democracy, denies science &amp;amp; kills our citizens! #ElectionDay is next week. What if he wins?  We won't have a country!  Please let #JoeBiden win.  Thank you.</td>\n",
              "      <td>1.398238e+08</td>\n",
              "    </tr>\n",
              "    <tr>\n",
              "      <th>21161</th>\n",
              "      <td>2020-10-27 03:19:27</td>\n",
              "      <td>Are you there, God? We have a fascist in the #WhiteHouse, a racist criminal who hates democracy, denies science &amp;amp; kills our citizens! #ElectionDay is next week. What if he wins? We won't have a country! Please, please let #JoeBiden win.  \\nThank you.\\nI love you @BetteMidler https://t.co/qubp3F7ZA1</td>\n",
              "      <td>2.366092e+09</td>\n",
              "    </tr>\n",
              "    <tr>\n",
              "      <th>29398</th>\n",
              "      <td>2020-11-01 20:41:36</td>\n",
              "      <td>Are you there, God? It's me again, Bette. We're scared.  We have a fascist in the #WhiteHouse, a racist criminal who hates democracy, denies science &amp;amp; kills our citizens! #ElectionDay is in two days. What if he wins? We won't have a country! Please let #JoeBiden win.  Thank you.</td>\n",
              "      <td>1.398238e+08</td>\n",
              "    </tr>\n",
              "  </tbody>\n",
              "</table>\n",
              "</div>"
            ],
            "text/plain": [
              "               created_at  ...       user_id\n",
              "21157 2020-10-27 03:16:27  ...  1.398238e+08\n",
              "21161 2020-10-27 03:19:27  ...  2.366092e+09\n",
              "29398 2020-11-01 20:41:36  ...  1.398238e+08\n",
              "\n",
              "[3 rows x 3 columns]"
            ]
          },
          "metadata": {
            "tags": []
          },
          "execution_count": 90
        }
      ]
    },
    {
      "cell_type": "code",
      "metadata": {
        "colab": {
          "base_uri": "https://localhost:8080/"
        },
        "id": "nZIEj0SQY9L6",
        "outputId": "58851ae2-c9e5-4750-b065-ad1fd76697dc"
      },
      "source": [
        "print(f'There are {df_concat_tweets.retweet_count.nunique()} different amounts of retweets')"
      ],
      "execution_count": null,
      "outputs": [
        {
          "output_type": "stream",
          "text": [
            "There are 519 different amounts of retweets\n"
          ],
          "name": "stdout"
        }
      ]
    },
    {
      "cell_type": "code",
      "metadata": {
        "colab": {
          "base_uri": "https://localhost:8080/",
          "height": 297
        },
        "id": "XB_0IeYNY-Gs",
        "outputId": "5a3dcbeb-5343-4c8b-f4d3-8a6c8071ecee"
      },
      "source": [
        "sns.kdeplot(x='retweet_count', data=df_concat_tweets)"
      ],
      "execution_count": null,
      "outputs": [
        {
          "output_type": "execute_result",
          "data": {
            "text/plain": [
              "<matplotlib.axes._subplots.AxesSubplot at 0x7f4a3a322f50>"
            ]
          },
          "metadata": {
            "tags": []
          },
          "execution_count": 92
        },
        {
          "output_type": "display_data",
          "data": {
            "image/png": "[encoded data removed]",
            "text/plain": [
              "<Figure size 432x288 with 1 Axes>"
            ]
          },
          "metadata": {
            "tags": [],
            "needs_background": "light"
          }
        }
      ]
    },
    {
      "cell_type": "code",
      "metadata": {
        "colab": {
          "base_uri": "https://localhost:8080/",
          "height": 406
        },
        "id": "3c9A8KlyY_iZ",
        "outputId": "d5f5428d-8abb-4ddc-f721-22c1589dba55"
      },
      "source": [
        "fig, ax=plt.subplots(1,1, figsize=(12,6))\n",
        "\n",
        "ax.set_title('Frequency distribution of number of tweets per user', fontsize = 16)\n",
        "sns.kdeplot(df_trump.groupby(['user_id'])['tweet'].count(), shade=True, color='r', label='Trump', ax = ax)\n",
        "sns.kdeplot(df_biden.groupby(['user_id'])['tweet'].count(), shade=True, color='b', label='Biden', ax = ax)\n",
        "labels= [\"Trump\", \"Biden\"]\n",
        "ax.legend(labels)\n",
        "#ax.set_ylim(0, .005)\n",
        "plt.show()"
      ],
      "execution_count": null,
      "outputs": [
        {
          "output_type": "display_data",
          "data": {
            "image/png": "[encoded data removed]",
            "text/plain": [
              "<Figure size 864x432 with 1 Axes>"
            ]
          },
          "metadata": {
            "tags": [],
            "needs_background": "light"
          }
        }
      ]
    },
    {
      "cell_type": "markdown",
      "metadata": {
        "id": "kk3NOLsjoCi1"
      },
      "source": [
        "# Languages Clean"
      ]
    },
    {
      "cell_type": "code",
      "metadata": {
        "id": "-wMS5M50ZR6U"
      },
      "source": [
        "def get_wordnet_pos(word):\n",
        "    \"\"\"Map POS tag to first character lemmatize() accepts\"\"\"\n",
        "    tag = nltk.pos_tag([word])[0][1][0].upper()\n",
        "    tag_dict = {\"J\": wordnet.ADJ,\n",
        "                \"N\": wordnet.NOUN,\n",
        "                \"V\": wordnet.VERB,\n",
        "                \"R\": wordnet.ADV}\n",
        "\n",
        "    return tag_dict.get(tag, wordnet.NOUN)\n",
        "\n",
        "def clean_text(tweet, lemmatize = 'nltk'):\n",
        "\n",
        "    tweet = tweet.lower() # lowercase\n",
        "    tweet = re.sub(r\"http\\S+|www\\S+|https\\S+\", '', tweet, flags=re.MULTILINE) # remove urls\n",
        "    tweet = re.sub(r'\\@\\w+|\\#','', tweet) # remove mentions of other usernames and the hashtag character\n",
        "    tweet = remove_stopwords(tweet) # remove stopwords with Gensim\n",
        "\n",
        "    if (lemmatize == 'spacy'):\n",
        "        # Initialize spacy 'en' model, keeping only tagger component needed for lemmatization\n",
        "        nlp = spacy.load('en', disable=['parser', 'ner'])\n",
        "        doc = nlp(tweet)\n",
        "        tokenized = [token.lemma_ for token in doc if token.lemma_ != '-PRON-']\n",
        "    elif (lemmatize == 'nltk'): \n",
        "        '''\n",
        "        lemmatization works best when WordNetLemmatizer receives both the text and the part of speech of each word\n",
        "        the code below assigns POS (part of speech) tag on a per word basis (it does not infer POS from contenxt / sentence), which might not be optimal\n",
        "        '''\n",
        "        lemmatizer = WordNetLemmatizer()\n",
        "        tokenized = [lemmatizer.lemmatize(w, get_wordnet_pos(w)) for w in nltk.word_tokenize(tweet)]\n",
        "    \n",
        "    # remove left over stop words with nltk\n",
        "    tokenized = [token for token in tokenized if token not in stopwords.words(\"english\")] \n",
        "\n",
        "    # remove non-alpha characters and keep the words of length >2 only\n",
        "    tokenized = [token for token in tokenized if token.isalpha() and len(token)>2]\n",
        "\n",
        "    return tokenized\n",
        "\n",
        "def combine_tokens(tokenized): \n",
        "    non_tokenized = ' '.join([w for w in tokenized])\n",
        "    return non_tokenized"
      ],
      "execution_count": null,
      "outputs": []
    },
    {
      "cell_type": "code",
      "metadata": {
        "colab": {
          "base_uri": "https://localhost:8080/"
        },
        "id": "IuHPPmNjWiHD",
        "outputId": "523533be-9a7a-4cfc-fbb7-3b9221beedea"
      },
      "source": [
        "import nltk\n",
        "nltk.download('punkt')"
      ],
      "execution_count": null,
      "outputs": [
        {
          "output_type": "stream",
          "text": [
            "[nltk_data] Downloading package punkt to /root/nltk_data...\n",
            "[nltk_data]   Package punkt is already up-to-date!\n"
          ],
          "name": "stdout"
        },
        {
          "output_type": "execute_result",
          "data": {
            "text/plain": [
              "True"
            ]
          },
          "metadata": {
            "tags": []
          },
          "execution_count": 95
        }
      ]
    },
    {
      "cell_type": "code",
      "metadata": {
        "id": "jMXeswk4s9KC"
      },
      "source": [
        "df_tweets_nltk = df_concat_tweets.copy() "
      ],
      "execution_count": null,
      "outputs": []
    },
    {
      "cell_type": "code",
      "metadata": {
        "colab": {
          "base_uri": "https://localhost:8080/"
        },
        "id": "4UT5UVv-ZUyu",
        "outputId": "48af76ca-a115-4018-a13d-1b002913a4ea"
      },
      "source": [
        "start =  time.time()\n",
        "\n",
        "df_tweets_nltk['tokenized_tweet_nltk'] = df_tweets_nltk['tweet'].apply(lambda x: clean_text(x, 'nltk'))\n",
        "df_tweets_nltk['clean_tweet_nltk'] = df_tweets_nltk['tokenized_tweet_nltk'].apply(lambda x: combine_tokens(x))\n",
        "\n",
        "stop = time.time()\n",
        "print(f'Cleaning all tweets takes ~{round((stop-start)/60, 3)} minutes: ')"
      ],
      "execution_count": null,
      "outputs": [
        {
          "output_type": "stream",
          "text": [
            "Cleaning all tweets takes ~10.967 minutes: \n"
          ],
          "name": "stdout"
        }
      ]
    },
    {
      "cell_type": "code",
      "metadata": {
        "id": "SeyZOKI3RTCW"
      },
      "source": [
        "# df_tweets_nltk.to_csv('/content/drive/MyDrive/CIND_820/Data/temp_data/df_tweets_nltk.csv',index=False)"
      ],
      "execution_count": null,
      "outputs": []
    },
    {
      "cell_type": "code",
      "metadata": {
        "id": "Hmpx718jZtHp"
      },
      "source": [
        "# df_tweets_nltk = pd.read_csv('/content/drive/MyDrive/CIND_820/Data/temp_data/df_tweets_nltk.csv')"
      ],
      "execution_count": null,
      "outputs": []
    },
    {
      "cell_type": "code",
      "metadata": {
        "colab": {
          "base_uri": "https://localhost:8080/"
        },
        "id": "ztlzRuDuku-m",
        "outputId": "81d46112-2144-4eb4-a874-fe4cd5057f43"
      },
      "source": [
        "df_tweets_nltk [df_tweets_nltk.tweet_id.isin(list(df_trump.tweet_id))].ds = 'trump'\n",
        "df_tweets_nltk[df_tweets_nltk.tweet_id.isin(list(df_biden.tweet_id))].ds = 'biden'"
      ],
      "execution_count": null,
      "outputs": [
        {
          "output_type": "stream",
          "text": [
            "/usr/local/lib/python3.7/dist-packages/pandas/core/generic.py:5170: SettingWithCopyWarning: \n",
            "A value is trying to be set on a copy of a slice from a DataFrame.\n",
            "Try using .loc[row_indexer,col_indexer] = value instead\n",
            "\n",
            "See the caveats in the documentation: https://pandas.pydata.org/pandas-docs/stable/user_guide/indexing.html#returning-a-view-versus-a-copy\n",
            "  self[name] = value\n"
          ],
          "name": "stderr"
        }
      ]
    },
    {
      "cell_type": "code",
      "metadata": {
        "colab": {
          "base_uri": "https://localhost:8080/",
          "height": 562
        },
        "id": "1Ruo9e3wZbyD",
        "outputId": "9e5c15e3-b277-49ca-c27e-8fddedd97d96"
      },
      "source": [
        "df_tweets_nltk.head(10)[['tweet', 'clean_tweet_nltk']]"
      ],
      "execution_count": null,
      "outputs": [
        {
          "output_type": "execute_result",
          "data": {
            "text/html": [
              "<div>\n",
              "<style scoped>\n",
              "    .dataframe tbody tr th:only-of-type {\n",
              "        vertical-align: middle;\n",
              "    }\n",
              "\n",
              "    .dataframe tbody tr th {\n",
              "        vertical-align: top;\n",
              "    }\n",
              "\n",
              "    .dataframe thead th {\n",
              "        text-align: right;\n",
              "    }\n",
              "</style>\n",
              "<table border=\"1\" class=\"dataframe\">\n",
              "  <thead>\n",
              "    <tr style=\"text-align: right;\">\n",
              "      <th></th>\n",
              "      <th>tweet</th>\n",
              "      <th>clean_tweet_nltk</th>\n",
              "    </tr>\n",
              "  </thead>\n",
              "  <tbody>\n",
              "    <tr>\n",
              "      <th>0</th>\n",
              "      <td>Twitter is doing everything they can to help Democrats win the election. Making sure nobody sees a negative story about Biden. Only Negative stories on Trump. #TwitterCensorship #Biden #Ukraine #HunterBiden https://t.co/dbLKQBMvRU</td>\n",
              "      <td>twitter help democrat win election make sure see negative story biden negative story trump twittercensorship biden ukraine hunterbiden</td>\n",
              "    </tr>\n",
              "    <tr>\n",
              "      <th>1</th>\n",
              "      <td>Come on @ABC PLEASE DO THE RIGHT THING. Move the #biden town hall.  I bet a requirement for Orange Monkey to do the NBC town hall was to have it opposite Biden.  PLEASE MOVE YOURS.</td>\n",
              "      <td>come right thing biden town hall bet requirement orange monkey nbc town hall opposite biden</td>\n",
              "    </tr>\n",
              "    <tr>\n",
              "      <th>2</th>\n",
              "      <td>#realDonaldTrump addresses #JoeBiden and #HunterBiden corruption, more proof of which discovered on a laptop.\\n#ObamaBidenGate #NYPost #MSNBC #CBS #NBC #ABC #FoxNews #KamalaHarris https://t.co/7RtMOdoXGd</td>\n",
              "      <td>realdonaldtrump address joebiden hunterbiden corruption proof discover laptop obamabidengate nypost msnbc cbs nbc abc foxnews kamalaharris</td>\n",
              "    </tr>\n",
              "    <tr>\n",
              "      <th>3</th>\n",
              "      <td>Hunter #Biden introduced his father, then-Vice President Joe Biden, to a top executive at a Ukrainian energy firm less than a year before the elder Biden pressured government officials in Ukraine into firing a prosecutor who was investigating the company, according to emails</td>\n",
              "      <td>hunter biden introduce father president joe biden executive ukrainian energy firm year elder biden pressure government official ukraine fire prosecutor investigate company accord email</td>\n",
              "    </tr>\n",
              "    <tr>\n",
              "      <th>4</th>\n",
              "      <td>This is from the same night I met the cast of #TWW and I was wearing the same shirt as @AllisonBJanney 😍\\n\\n#VOTE #voteblue #JoeBiden #LoveTrumpsHate https://t.co/aESuB1ipBq</td>\n",
              "      <td>night met cast tww wear shirt vote voteblue joebiden lovetrumpshate</td>\n",
              "    </tr>\n",
              "    <tr>\n",
              "      <th>5</th>\n",
              "      <td>@realDonaldTrump #TrumpIsALaughingStock @realDonaldTrump at his Iowa cult rally compared #JoeBiden to Putin, XI, and Kim Jong-un.  In the same sentence he called @JoeBiden “shot” and all 3 communist leaders “SHARP”\\n\\n#TrumpIsANationalDisgrace</td>\n",
              "      <td>trumpisalaughingstock iowa cult rally compare joebiden putin kim sentence call shot communist leader sharp trumpisanationaldisgrace</td>\n",
              "    </tr>\n",
              "    <tr>\n",
              "      <th>6</th>\n",
              "      <td>Laptop computer abandoned at Delaware repair shop contains #emails between #HunterBiden &amp;amp; senior #Burisma #adviser indicating Hunter arranged a meeting between then VP #JoeBiden &amp;amp; the adviser in Washington, DC in 2015.\\nJoe Biden Calls a Lid &amp;amp; Hides https://t.co/X1ynqJzbUN</td>\n",
              "      <td>laptop abandon delaware repair shop contains email hunterbiden amp senior burisma adviser indicate hunter arrange meeting joebiden amp adviser washington joe biden call lid amp hide</td>\n",
              "    </tr>\n",
              "    <tr>\n",
              "      <th>7</th>\n",
              "      <td>Vice President #Biden is 77 years young.\\nI am willing to bet that he has a long list of things he’d rather focus on and enjoy life, than cleaning up 🧹 the deadly mess left by spineless republicans and #DonTheCon \\nHis only motive is to #BuildBackBetter #VoteForDemocracy #Vote</td>\n",
              "      <td>vice president biden year young willing bet long list thing focus enjoy life cleaning deadly mess left spineless republican donthecon motive buildbackbetter votefordemocracy vote</td>\n",
              "    </tr>\n",
              "    <tr>\n",
              "      <th>8</th>\n",
              "      <td>So the #FBI received the LAPTOP with the EMAILS and instead of acting on behalf of the American people and pursuing justice, they pushed it under the rug to cover up for #JoeBiden \\n#HunterBidenEmails\\n\\n#ChristopherWray \\nResign Now!</td>\n",
              "      <td>fbi receive laptop email instead act behalf american people pursue justice push rug cover joebiden hunterbidenemails christopherwray resign</td>\n",
              "    </tr>\n",
              "    <tr>\n",
              "      <th>9</th>\n",
              "      <td>And Trump claims Biden has dementia? \\n#DonaldOut #TrumpRally #trumpDementia #Biden #Vote #TrumpIsNotAmerica #MAGA #StopTrumpsTerror https://t.co/cuvce2uIpT</td>\n",
              "      <td>trump claim biden dementia donaldout trumprally trumpdementia biden vote trumpisnotamerica maga stoptrumpsterror</td>\n",
              "    </tr>\n",
              "  </tbody>\n",
              "</table>\n",
              "</div>"
            ],
            "text/plain": [
              "                                                                                                                                                                                                                                                                                           tweet                                                                                                                                                                          clean_tweet_nltk\n",
              "0                                                         Twitter is doing everything they can to help Democrats win the election. Making sure nobody sees a negative story about Biden. Only Negative stories on Trump. #TwitterCensorship #Biden #Ukraine #HunterBiden https://t.co/dbLKQBMvRU                                                    twitter help democrat win election make sure see negative story biden negative story trump twittercensorship biden ukraine hunterbiden\n",
              "1                                                                                                           Come on @ABC PLEASE DO THE RIGHT THING. Move the #biden town hall.  I bet a requirement for Orange Monkey to do the NBC town hall was to have it opposite Biden.  PLEASE MOVE YOURS.                                                                                               come right thing biden town hall bet requirement orange monkey nbc town hall opposite biden\n",
              "2                                                                                    #realDonaldTrump addresses #JoeBiden and #HunterBiden corruption, more proof of which discovered on a laptop.\\n#ObamaBidenGate #NYPost #MSNBC #CBS #NBC #ABC #FoxNews #KamalaHarris https://t.co/7RtMOdoXGd                                                realdonaldtrump address joebiden hunterbiden corruption proof discover laptop obamabidengate nypost msnbc cbs nbc abc foxnews kamalaharris\n",
              "3            Hunter #Biden introduced his father, then-Vice President Joe Biden, to a top executive at a Ukrainian energy firm less than a year before the elder Biden pressured government officials in Ukraine into firing a prosecutor who was investigating the company, according to emails  hunter biden introduce father president joe biden executive ukrainian energy firm year elder biden pressure government official ukraine fire prosecutor investigate company accord email\n",
              "4                                                                                                                  This is from the same night I met the cast of #TWW and I was wearing the same shirt as @AllisonBJanney 😍\\n\\n#VOTE #voteblue #JoeBiden #LoveTrumpsHate https://t.co/aESuB1ipBq                                                                                                                       night met cast tww wear shirt vote voteblue joebiden lovetrumpshate\n",
              "5                                            @realDonaldTrump #TrumpIsALaughingStock @realDonaldTrump at his Iowa cult rally compared #JoeBiden to Putin, XI, and Kim Jong-un.  In the same sentence he called @JoeBiden “shot” and all 3 communist leaders “SHARP”\\n\\n#TrumpIsANationalDisgrace                                                       trumpisalaughingstock iowa cult rally compare joebiden putin kim sentence call shot communist leader sharp trumpisanationaldisgrace\n",
              "6  Laptop computer abandoned at Delaware repair shop contains #emails between #HunterBiden &amp; senior #Burisma #adviser indicating Hunter arranged a meeting between then VP #JoeBiden &amp; the adviser in Washington, DC in 2015.\\nJoe Biden Calls a Lid &amp; Hides https://t.co/X1ynqJzbUN     laptop abandon delaware repair shop contains email hunterbiden amp senior burisma adviser indicate hunter arrange meeting joebiden amp adviser washington joe biden call lid amp hide\n",
              "7          Vice President #Biden is 77 years young.\\nI am willing to bet that he has a long list of things he’d rather focus on and enjoy life, than cleaning up 🧹 the deadly mess left by spineless republicans and #DonTheCon \\nHis only motive is to #BuildBackBetter #VoteForDemocracy #Vote        vice president biden year young willing bet long list thing focus enjoy life cleaning deadly mess left spineless republican donthecon motive buildbackbetter votefordemocracy vote\n",
              "8                                                     So the #FBI received the LAPTOP with the EMAILS and instead of acting on behalf of the American people and pursuing justice, they pushed it under the rug to cover up for #JoeBiden \\n#HunterBidenEmails\\n\\n#ChristopherWray \\nResign Now!                                               fbi receive laptop email instead act behalf american people pursue justice push rug cover joebiden hunterbidenemails christopherwray resign\n",
              "9                                                                                                                                   And Trump claims Biden has dementia? \\n#DonaldOut #TrumpRally #trumpDementia #Biden #Vote #TrumpIsNotAmerica #MAGA #StopTrumpsTerror https://t.co/cuvce2uIpT                                                                          trump claim biden dementia donaldout trumprally trumpdementia biden vote trumpisnotamerica maga stoptrumpsterror"
            ]
          },
          "metadata": {
            "tags": []
          },
          "execution_count": 102
        }
      ]
    },
    {
      "cell_type": "markdown",
      "metadata": {
        "id": "z6HFK2B2byso"
      },
      "source": [
        "# Text blob"
      ]
    },
    {
      "cell_type": "code",
      "metadata": {
        "id": "8WNr_C-LZtTf"
      },
      "source": [
        "def create_sentiment_labels(df, feature,value):\n",
        "    '''\n",
        "    in: \n",
        "        dataframe \n",
        "        value on which to classify\n",
        "        feature - column name of the feature that receives the label\n",
        "    out: \n",
        "        does not return a value\n",
        "        modifies the dataframe received as parameter\n",
        "    '''\n",
        "\n",
        "    df.loc[df[value] > 0,feature] = 'positive'\n",
        "    df.loc[df[value] == 0,feature] = 'neutral'\n",
        "    df.loc[df[value] < 0,feature] = 'negative'"
      ],
      "execution_count": null,
      "outputs": []
    },
    {
      "cell_type": "code",
      "metadata": {
        "id": "iJicS06IZ1c2"
      },
      "source": [
        "# Polarity and subjectivity\n",
        "def sentiment_analysis(dataframe):\n",
        "    dataframe['blob_polarity'] = dataframe['clean_tweet_nltk'].apply(lambda x: TextBlob(x).sentiment.polarity)\n",
        "    dataframe['blob_subjectivity'] = dataframe['clean_tweet_nltk'].apply(lambda x: TextBlob(x).sentiment.subjectivity)\n",
        "\n",
        "    create_sentiment_labels(dataframe, 'blob_sentiment','blob_polarity')\n",
        "    \n",
        "    return dataframe[['clean_tweet_nltk','blob_polarity','blob_subjectivity','blob_sentiment']].head()   "
      ],
      "execution_count": null,
      "outputs": []
    },
    {
      "cell_type": "code",
      "metadata": {
        "id": "cvMT7VPibae6"
      },
      "source": [
        "# df_tweets_nltk['clean_tweet_nltk'].astype(str).astype(int)"
      ],
      "execution_count": null,
      "outputs": []
    },
    {
      "cell_type": "code",
      "metadata": {
        "id": "53wRgLWGa9hG"
      },
      "source": [
        "# df_tweets_nltk['clean_tweet_nltk'].apply(lambda x: sentiment_analysis(' '.join(x)))"
      ],
      "execution_count": null,
      "outputs": []
    },
    {
      "cell_type": "code",
      "metadata": {
        "colab": {
          "base_uri": "https://localhost:8080/"
        },
        "id": "2ntrD_tjZ3CJ",
        "outputId": "b555a12b-b1a4-45ac-d55d-f80e6194f651"
      },
      "source": [
        "start =  time.time()\n",
        "\n",
        "sentiment_analysis(df_tweets_nltk)\n",
        "\n",
        "stop = time.time()\n",
        "print(f'Sentiment analysis with TextBlob took: {round((stop-start)/60, 3)} minutes')"
      ],
      "execution_count": null,
      "outputs": [
        {
          "output_type": "stream",
          "text": [
            "Sentiment analysis with TextBlob took: 0.802 minutes\n"
          ],
          "name": "stdout"
        }
      ]
    },
    {
      "cell_type": "code",
      "metadata": {
        "colab": {
          "base_uri": "https://localhost:8080/",
          "height": 343
        },
        "id": "oLL2_np6aB5C",
        "outputId": "680660cd-360b-42aa-eaa9-c51afeb2e225"
      },
      "source": [
        "df_tweets_nltk.head(10)[['blob_polarity','blob_subjectivity', 'blob_sentiment']]"
      ],
      "execution_count": null,
      "outputs": [
        {
          "output_type": "execute_result",
          "data": {
            "text/html": [
              "<div>\n",
              "<style scoped>\n",
              "    .dataframe tbody tr th:only-of-type {\n",
              "        vertical-align: middle;\n",
              "    }\n",
              "\n",
              "    .dataframe tbody tr th {\n",
              "        vertical-align: top;\n",
              "    }\n",
              "\n",
              "    .dataframe thead th {\n",
              "        text-align: right;\n",
              "    }\n",
              "</style>\n",
              "<table border=\"1\" class=\"dataframe\">\n",
              "  <thead>\n",
              "    <tr style=\"text-align: right;\">\n",
              "      <th></th>\n",
              "      <th>blob_polarity</th>\n",
              "      <th>blob_subjectivity</th>\n",
              "      <th>blob_sentiment</th>\n",
              "    </tr>\n",
              "  </thead>\n",
              "  <tbody>\n",
              "    <tr>\n",
              "      <th>0</th>\n",
              "      <td>0.175000</td>\n",
              "      <td>0.522222</td>\n",
              "      <td>positive</td>\n",
              "    </tr>\n",
              "    <tr>\n",
              "      <th>1</th>\n",
              "      <td>0.078571</td>\n",
              "      <td>0.178571</td>\n",
              "      <td>positive</td>\n",
              "    </tr>\n",
              "    <tr>\n",
              "      <th>2</th>\n",
              "      <td>0.000000</td>\n",
              "      <td>0.000000</td>\n",
              "      <td>neutral</td>\n",
              "    </tr>\n",
              "    <tr>\n",
              "      <th>3</th>\n",
              "      <td>-0.200000</td>\n",
              "      <td>0.400000</td>\n",
              "      <td>negative</td>\n",
              "    </tr>\n",
              "    <tr>\n",
              "      <th>4</th>\n",
              "      <td>0.000000</td>\n",
              "      <td>0.000000</td>\n",
              "      <td>neutral</td>\n",
              "    </tr>\n",
              "    <tr>\n",
              "      <th>5</th>\n",
              "      <td>-0.125000</td>\n",
              "      <td>0.750000</td>\n",
              "      <td>negative</td>\n",
              "    </tr>\n",
              "    <tr>\n",
              "      <th>6</th>\n",
              "      <td>0.000000</td>\n",
              "      <td>0.000000</td>\n",
              "      <td>neutral</td>\n",
              "    </tr>\n",
              "    <tr>\n",
              "      <th>7</th>\n",
              "      <td>0.087500</td>\n",
              "      <td>0.370833</td>\n",
              "      <td>positive</td>\n",
              "    </tr>\n",
              "    <tr>\n",
              "      <th>8</th>\n",
              "      <td>0.000000</td>\n",
              "      <td>0.000000</td>\n",
              "      <td>neutral</td>\n",
              "    </tr>\n",
              "    <tr>\n",
              "      <th>9</th>\n",
              "      <td>0.000000</td>\n",
              "      <td>0.000000</td>\n",
              "      <td>neutral</td>\n",
              "    </tr>\n",
              "  </tbody>\n",
              "</table>\n",
              "</div>"
            ],
            "text/plain": [
              "   blob_polarity  blob_subjectivity blob_sentiment\n",
              "0       0.175000           0.522222       positive\n",
              "1       0.078571           0.178571       positive\n",
              "2       0.000000           0.000000        neutral\n",
              "3      -0.200000           0.400000       negative\n",
              "4       0.000000           0.000000        neutral\n",
              "5      -0.125000           0.750000       negative\n",
              "6       0.000000           0.000000        neutral\n",
              "7       0.087500           0.370833       positive\n",
              "8       0.000000           0.000000        neutral\n",
              "9       0.000000           0.000000        neutral"
            ]
          },
          "metadata": {
            "tags": []
          },
          "execution_count": 109
        }
      ]
    },
    {
      "cell_type": "code",
      "metadata": {
        "colab": {
          "base_uri": "https://localhost:8080/",
          "height": 362
        },
        "id": "zafXJWAmaDcw",
        "outputId": "1a30f6f5-ed51-4078-de83-20f21aed613b"
      },
      "source": [
        "#update the divided dataset\n",
        "df_trump = df_tweets_nltk[df_tweets_nltk.ds=='trump']\n",
        "df_biden = df_tweets_nltk[df_tweets_nltk.ds=='biden']\n",
        "\n",
        "fig, axes = plt.subplots(1, 2, figsize=(8,5))\n",
        "\n",
        "fig.suptitle('TextBlob analysis: nmean polarity (-1.0, 1.0) and mean subjectivity (0.0, 1.0) per candidate (one tweet, one sentiment)', fontsize=14)\n",
        "\n",
        "features = ['blob_polarity', 'blob_subjectivity']\n",
        "values = [df_trump.groupby(['user_id'])['blob_polarity'].mean().mean(), df_trump.groupby(['user_id'])['blob_subjectivity'].mean().mean()]\n",
        "axes[0].bar(features,values, width=0.2)\n",
        "axes[0].set_ylim(0, .5)\n",
        "axes[0].set_title('Trump', fontsize = 14)\n",
        "axes[0].set_ylabel('Value', fontsize = 12)\n",
        "\n",
        "values = [df_biden.groupby(['user_id'])['blob_polarity'].mean().mean(), df_biden.groupby(['user_id'])['blob_subjectivity'].mean().mean()]\n",
        "axes[1].bar(features,values, width=0.2)\n",
        "axes[1].set_ylim(0, .5)\n",
        "axes[1].set_title('Biden', fontsize = 14)\n",
        "axes[1].set_ylabel('Value', fontsize = 12)\n",
        "\n",
        "fig.tight_layout(rect=[0, 0.03, 1, 0.88])\n",
        "plt.show()\n",
        "\n",
        "trump_usa_pol_tweet =df_trump['blob_polarity'].mean()\n",
        "trump_usa_subj_tweet = df_trump['blob_subjectivity'].mean()\n",
        "biden_usa_pol_tweet = df_biden['blob_polarity'].mean()\n",
        "biden_usa_subj_tweet = df_biden['blob_subjectivity'].mean()"
      ],
      "execution_count": null,
      "outputs": [
        {
          "output_type": "display_data",
          "data": {
            "image/png": "[encoded data removed]",
            "text/plain": [
              "<Figure size 576x360 with 2 Axes>"
            ]
          },
          "metadata": {
            "tags": [],
            "needs_background": "light"
          }
        }
      ]
    },
    {
      "cell_type": "code",
      "metadata": {
        "id": "CN2yCmTabEJ2",
        "colab": {
          "base_uri": "https://localhost:8080/",
          "height": 362
        },
        "outputId": "6997b2d0-23f8-4742-c687-218a16e20e79"
      },
      "source": [
        "# the below gives us a mean per user\n",
        "# df_trump_usa[['user_id', 'Polarity']].groupby(['user_id'])['Polarity'].mean()\n",
        "\n",
        "fig, axes = plt.subplots(1, 2, figsize=(8, 5))\n",
        "\n",
        "fig.suptitle('TextBlob analysis: mean polarity (-1.0, 1.0) and mean subjectivity (0.0, 1.0)\\nper candidate (one user, one sentiment)', fontsize=14)\n",
        "\n",
        "features = ['blob_polarity', 'blob_subjectivity']\n",
        "values = [df_trump.groupby(['user_id'])['blob_polarity'].mean().mean(), df_trump.groupby(['user_id'])['blob_subjectivity'].mean().mean()]\n",
        "axes[0].bar(features,values, width=0.2,)\n",
        "axes[0].set_ylim(0, .5)\n",
        "axes[0].set_title('Trump', fontsize = 14)\n",
        "axes[0].set_ylabel('Value', fontsize = 12)\n",
        "\n",
        "values = [df_biden.groupby(['user_id'])['blob_polarity'].mean().mean(), df_biden.groupby(['user_id'])['blob_subjectivity'].mean().mean()]\n",
        "axes[1].bar(features,values, width=0.2,)\n",
        "axes[1].set_ylim(0, .5)\n",
        "axes[1].set_title('Biden', fontsize = 14)\n",
        "axes[1].set_ylabel('Value', fontsize = 12)\n",
        "\n",
        "fig.tight_layout(rect=[0, 0.03, 1, 0.88])\n",
        "plt.show()\n",
        "\n",
        "trump_usa_pol_user = df_trump.groupby(['user_id'])['blob_polarity'].mean().mean()\n",
        "trump_usa_subj_user = df_trump.groupby(['user_id'])['blob_subjectivity'].mean().mean()\n",
        "biden_usa_pol_user = df_biden.groupby(['user_id'])['blob_polarity'].mean().mean()\n",
        "biden_usa_subj_user = df_biden.groupby(['user_id'])['blob_subjectivity'].mean().mean()"
      ],
      "execution_count": null,
      "outputs": [
        {
          "output_type": "display_data",
          "data": {
            "image/png": "[encoded data removed]",
            "text/plain": [
              "<Figure size 576x360 with 2 Axes>"
            ]
          },
          "metadata": {
            "tags": [],
            "needs_background": "light"
          }
        }
      ]
    },
    {
      "cell_type": "code",
      "metadata": {
        "id": "yw-UPJWncpIC",
        "colab": {
          "base_uri": "https://localhost:8080/",
          "height": 430
        },
        "outputId": "1af4d6a7-7614-46bf-be9a-27d4f717c3c3"
      },
      "source": [
        "fig, axes = plt.subplots(1, 2, figsize=(10,6))\n",
        "\n",
        "fig.suptitle('TextBlob analysis: \\nmean polarity and mean subjectivity\\n (tweet level = one tweet, one sentiment) vs (user level = one user, one sentiment)', fontsize=16)\n",
        "\n",
        "#features = ['Polarity', 'Subjectivity']\n",
        "features = np.array([1, 2])\n",
        "values_tweet = [ trump_usa_pol_tweet, trump_usa_subj_tweet]\n",
        "values_user = [ trump_usa_pol_user, trump_usa_subj_user]\n",
        "\n",
        "#values = [[trump_usa_pol_tweet, trump_usa_subj_tweet], \n",
        "#[trump_usa_pol_user, trump_usa_subj_user]]\n",
        "\n",
        "axes[0].bar(features-0.2, values_tweet, width=0.2, align = 'center', color = 'y')\n",
        "axes[0].bar(features, values_user, width=0.2, align = 'center', color = 'g')\n",
        "#axes[0].bar(features,values)\n",
        "axes[0].set_ylim(0, .5)\n",
        "axes[0].set_title('Trump', fontsize = 16)\n",
        "axes[0].set_xlabel('Feature', fontsize = 14)\n",
        "axes[0].set_ylabel('Average value', fontsize = 14)\n",
        "axes[0].set_xticklabels(['', 'Polarity', '', '', '', '', '', 'Subjectivity'])\n",
        "labels= [\"tweet level\", \"user level\"]\n",
        "axes[0].legend(labels)\n",
        "\n",
        "values_tweet = [ biden_usa_pol_tweet, biden_usa_subj_tweet]\n",
        "values_user = [ biden_usa_pol_user, biden_usa_subj_user]\n",
        "axes[1].bar(features-0.2,values_tweet, width=0.2, align = 'center', color = 'y')\n",
        "axes[1].bar(features,values_user, width=0.2, align = 'center', color = 'g')\n",
        "axes[1].set_ylim(0, .5)\n",
        "axes[1].set_title('Biden', fontsize = 16)\n",
        "axes[1].set_xlabel('Feature', fontsize = 14)\n",
        "axes[1].set_ylabel('Average value', fontsize = 14)\n",
        "axes[1].set_xticklabels(['', 'Polarity', '', '', '', '', '', 'Subjectivity'])\n",
        "\n",
        "labels= [\"tweet level\", \"user level\"]\n",
        "axes[1].legend(labels)\n",
        "\n",
        "fig.tight_layout(rect=[0, 0.03, 1, 0.88])\n",
        "plt.show()"
      ],
      "execution_count": null,
      "outputs": [
        {
          "output_type": "display_data",
          "data": {
            "image/png": "[encoded data removed]",
            "text/plain": [
              "<Figure size 720x432 with 2 Axes>"
            ]
          },
          "metadata": {
            "tags": [],
            "needs_background": "light"
          }
        }
      ]
    },
    {
      "cell_type": "code",
      "metadata": {
        "id": "BO3LZcfzcxSv",
        "colab": {
          "base_uri": "https://localhost:8080/",
          "height": 391
        },
        "outputId": "076b8712-15e8-437d-ba64-2dd6f5f8d222"
      },
      "source": [
        "plt.figure(figsize=(6,5))\n",
        "\n",
        "ax = plt.gca()\n",
        "ax.set_title('--Relative--\\nTextBlob sentiment analysis - \\nrelative frequency per valence type for each candidate', fontsize=16)\n",
        "\n",
        "features = np.array([1,2,3])\n",
        "trump = (df_trump['blob_sentiment'].sort_values().value_counts()/df_trump['blob_sentiment'].shape[0])[['negative', 'neutral', 'positive']]\n",
        "ax.bar(features-0.3, trump.values, width=0.3, align = 'center', color = 'r', alpha= .6)\n",
        "\n",
        "biden = (df_biden['blob_sentiment'].sort_values().value_counts()/df_biden['blob_sentiment'].shape[0])[['negative', 'neutral', 'positive']]\n",
        "ax.bar(features, biden.values, width=0.3, align = 'center', color = 'b', alpha= .6)\n",
        "\n",
        "ax.set_ylim(0, .5)\n",
        "ax.set_xlabel('Valence', fontsize = 14)\n",
        "ax.set_ylabel('Relative frequency', fontsize = 14)\n",
        "\n",
        "ax.set_xticklabels(['', '', 'Negative', '', 'Neutral', '', 'Positive'])\n",
        "\n",
        "labels= [\"Trump\", \"Biden\"]\n",
        "ax.legend(labels)\n",
        "\n",
        "fig.tight_layout(rect=[0, 0.03, 1, 0.88])\n",
        "plt.show()"
      ],
      "execution_count": null,
      "outputs": [
        {
          "output_type": "display_data",
          "data": {
            "image/png": "[encoded data removed]",
            "text/plain": [
              "<Figure size 432x360 with 1 Axes>"
            ]
          },
          "metadata": {
            "tags": [],
            "needs_background": "light"
          }
        }
      ]
    },
    {
      "cell_type": "markdown",
      "metadata": {
        "id": "NOqCnTTfdEXb"
      },
      "source": [
        "# Vader"
      ]
    },
    {
      "cell_type": "code",
      "metadata": {
        "id": "xKTuUar1dDx2"
      },
      "source": [
        "sid = SentimentIntensityAnalyzer()"
      ],
      "execution_count": null,
      "outputs": []
    },
    {
      "cell_type": "code",
      "metadata": {
        "id": "S-iQ5A7FdLww"
      },
      "source": [
        "def sentiment_analysis_vader(df, clean = True):\n",
        "    if clean:\n",
        "        target_col = 'clean_tweet_nltk'\n",
        "        prefix = 'vader_clean_'\n",
        "    else:\n",
        "        target_col = 'tweet'\n",
        "        prefix = 'vader_'\n",
        "    \n",
        "    scores_col = prefix+'scores'\n",
        "    \n",
        "    #let's make it vader_sentiment, so that it has the same naming convention as TextBlob and Flair sentiment score\n",
        "    #compound_col = prefix+'compound'\n",
        "    compound_col = prefix+'polarity'\n",
        "    \n",
        "    #comp_score_col = prefix+'comp_score'\n",
        "    comp_score_col = prefix+'sentiment' \n",
        "    \n",
        "    df[scores_col] = df[target_col].apply(lambda tweet: sid.polarity_scores(tweet))\n",
        "    df[compound_col] = df[scores_col].apply(lambda d: d['compound'])\n",
        "    create_sentiment_labels(df,comp_score_col,compound_col)"
      ],
      "execution_count": null,
      "outputs": []
    },
    {
      "cell_type": "code",
      "metadata": {
        "colab": {
          "base_uri": "https://localhost:8080/"
        },
        "id": "Kkvrq1V9ddOv",
        "outputId": "fb363211-46e1-438f-ee1e-7614c0fa756d"
      },
      "source": [
        "start = time.time()\n",
        "\n",
        "sentiment_analysis_vader(df_tweets_nltk)\n",
        "sentiment_analysis_vader(df_tweets_nltk, clean = False)\n",
        "\n",
        "stop = time.time()\n",
        "print(f'Sentiment analysis with VADER took: {round((stop-start)/60, 3)} minutes')\n",
        "\n",
        "#update the divided dataset\n",
        "df_trump = df_tweets_nltk[df_tweets_nltk.ds=='trump']\n",
        "df_biden = df_tweets_nltk[df_tweets_nltk.ds=='biden']"
      ],
      "execution_count": null,
      "outputs": [
        {
          "output_type": "stream",
          "text": [
            "Sentiment analysis with VADER took: 1.116 minutes\n"
          ],
          "name": "stdout"
        }
      ]
    },
    {
      "cell_type": "code",
      "metadata": {
        "colab": {
          "base_uri": "https://localhost:8080/"
        },
        "id": "o-Lj6WGUh5IO",
        "outputId": "85e198f5-eb62-427b-aa29-766148790571"
      },
      "source": [
        "from sklearn.metrics import accuracy_score\n",
        "\n",
        "start = time.time()\n",
        "\n",
        "print(f\"Accuracy score for our cleaning vs vader tweet cleaning for Trump: {accuracy_score(df_trump['vader_sentiment'],df_trump['vader_clean_sentiment']):.4}\")\n",
        "print(f\"Accuracy score for our cleaning vs vader tweet cleaning for Biden: {accuracy_score(df_biden['vader_sentiment'],df_biden['vader_clean_sentiment']):.4}\")\n",
        "\n",
        "stop = time.time()\n",
        "print(f'This took: {round((stop-start)/60, 3)} minutes')"
      ],
      "execution_count": null,
      "outputs": [
        {
          "output_type": "stream",
          "text": [
            "Accuracy score for our cleaning vs vader tweet cleaning for Trump: 0.8401\n",
            "Accuracy score for our cleaning vs vader tweet cleaning for Biden: 0.877\n",
            "This took: 0.003 minutes\n"
          ],
          "name": "stdout"
        }
      ]
    },
    {
      "cell_type": "code",
      "metadata": {
        "colab": {
          "base_uri": "https://localhost:8080/",
          "height": 1000
        },
        "id": "OAdbzEJ0iEWX",
        "outputId": "2a081178-04c3-4439-ba10-8e28b91c58f3"
      },
      "source": [
        "#Uncomment the code below if you want to visualize some tweets yourself\n",
        "#We decided based on analysis to feed the raw tweet to VADER and let it run the cleaning itself\n",
        "\n",
        "#Some tweets arel long. This setting makes sure Python does not truncate the output. Default value is 50.\n",
        "\n",
        "pd.options.display.max_colwidth = 300\n",
        "df_trump[['tweet', 'clean_tweet_nltk', 'vader_sentiment', 'vader_clean_sentiment']].head(20)"
      ],
      "execution_count": null,
      "outputs": [
        {
          "output_type": "execute_result",
          "data": {
            "text/html": [
              "<div>\n",
              "<style scoped>\n",
              "    .dataframe tbody tr th:only-of-type {\n",
              "        vertical-align: middle;\n",
              "    }\n",
              "\n",
              "    .dataframe tbody tr th {\n",
              "        vertical-align: top;\n",
              "    }\n",
              "\n",
              "    .dataframe thead th {\n",
              "        text-align: right;\n",
              "    }\n",
              "</style>\n",
              "<table border=\"1\" class=\"dataframe\">\n",
              "  <thead>\n",
              "    <tr style=\"text-align: right;\">\n",
              "      <th></th>\n",
              "      <th>tweet</th>\n",
              "      <th>clean_tweet_nltk</th>\n",
              "      <th>vader_sentiment</th>\n",
              "      <th>vader_clean_sentiment</th>\n",
              "    </tr>\n",
              "  </thead>\n",
              "  <tbody>\n",
              "    <tr>\n",
              "      <th>58876</th>\n",
              "      <td>#Trump: As a student I used to hear for years, for ten years, I heard China! In 2019! And we have 1.5 and they don't know how many we have and I asked them how many do we have and they said 'sir we don't know.' But we have millions. Like 300 million.\\n\\nUm. What?</td>\n",
              "      <td>trump student hear year year heard china know ask say know million like million</td>\n",
              "      <td>positive</td>\n",
              "      <td>positive</td>\n",
              "    </tr>\n",
              "    <tr>\n",
              "      <th>58877</th>\n",
              "      <td>You get a tie! And you get a tie! #Trump ‘s rally #Iowa https://t.co/jJalUUmh5D</td>\n",
              "      <td>tie tie trump rally iowa</td>\n",
              "      <td>neutral</td>\n",
              "      <td>neutral</td>\n",
              "    </tr>\n",
              "    <tr>\n",
              "      <th>58878</th>\n",
              "      <td>#Trump #PresidentTrump #Trump2020LandslideVictory #Trump2020 #MAGA #KAG #4MoreYears #America #AmericaFirst #AllLivesMatter #Winning #Vote #VoteInPerson #VoteTrump #VotePresidentTrump https://t.co/TzXBKOvgNs</td>\n",
              "      <td>trump presidenttrump maga kag america americafirst alllivesmatter win vote voteinperson votetrump votepresidenttrump</td>\n",
              "      <td>neutral</td>\n",
              "      <td>positive</td>\n",
              "    </tr>\n",
              "    <tr>\n",
              "      <th>58879</th>\n",
              "      <td>#Trump: Nobody likes to tell you this, but some of the farmers were doing better the way I was doing it than they were by working their asses off.\\n\\nAnd that check? It's totally in the mail, right Don?</td>\n",
              "      <td>trump like tell farmer well way work ass check totally mail right</td>\n",
              "      <td>positive</td>\n",
              "      <td>positive</td>\n",
              "    </tr>\n",
              "    <tr>\n",
              "      <th>58880</th>\n",
              "      <td>@karatblood @KazePlays_JC Grab @realDonaldTrump by the balls &amp;amp; chuck the bastard out the door onto #PennsylvaniaAvenue &amp;amp; form a line &amp;amp; everybody gets to kick #DonaldTrump in the nuts! Please note 1 kick per person only! #BidenHarrisToSaveAmerica #VoteBlueToSaveOurDemocracy</td>\n",
              "      <td>grab ball amp chuck bastard door pennsylvaniaavenue amp form line amp everybody get kick donaldtrump nut note kick person bidenharristosaveamerica votebluetosaveourdemocracy</td>\n",
              "      <td>negative</td>\n",
              "      <td>negative</td>\n",
              "    </tr>\n",
              "    <tr>\n",
              "      <th>58881</th>\n",
              "      <td>Who does #trump owe 420 million dollars to? What are the terms? Who is #DonaldTrump beholden to? WE DEMAND TO KNOW!\\n#TrumpIsANationalSecurityRisk \\n#FollowTheMoney \\n#TrumpTaxCheat \\n#TrumpTaxFraud</td>\n",
              "      <td>trump owe million dollar term donaldtrump beholden demand know trumpisanationalsecurityrisk followthemoney trumptaxcheat trumptaxfraud</td>\n",
              "      <td>negative</td>\n",
              "      <td>negative</td>\n",
              "    </tr>\n",
              "    <tr>\n",
              "      <th>58882</th>\n",
              "      <td>#TheWeek: \"#Trump in Penn: \"I saved suburbia. I got rid of a regulation that was a disaster and it was really unfair and it's gotten a lot worse under Obama and Biden. You damn well better vote for me Pennsylvania, you better vote.\" But he never did identify the 'regulation.' https://t.co/7CX0PB...</td>\n",
              "      <td>theweek trump penn save suburbia get rid regulation disaster unfair gotten lot bad obama biden damn well vote pennsylvania well vote identify</td>\n",
              "      <td>negative</td>\n",
              "      <td>negative</td>\n",
              "    </tr>\n",
              "    <tr>\n",
              "      <th>58883</th>\n",
              "      <td>#TheReidOut \\n\\nAm I suppose to feel badly for @OMAROSA? Isn't she the person who once claimed #Trump critics would have to bow at the feet of Donald? Sorry the snakes deserve one another. \\n\\n@JoyAnnReid</td>\n",
              "      <td>thereidout suppose feel badly person claimed trump critic bow foot donald sorry snake deserve another</td>\n",
              "      <td>negative</td>\n",
              "      <td>negative</td>\n",
              "    </tr>\n",
              "    <tr>\n",
              "      <th>58884</th>\n",
              "      <td>I have lost track of what #Trump is talking about. So has Trump.</td>\n",
              "      <td>lose track trump talk trump</td>\n",
              "      <td>negative</td>\n",
              "      <td>negative</td>\n",
              "    </tr>\n",
              "    <tr>\n",
              "      <th>58885</th>\n",
              "      <td>@glennkirschner2 So basically the American experiment has failed ; we have no power we are just at the mercy to theses people .. not just Trump but the people who are down for his agenda ; because let’s not pretend #Trump hasn’t done anything that the isn’t on the GOP’s wish list ..</td>\n",
              "      <td>basically american experiment fail power mercy thesis people trump people agenda let pretend trump gop wish list</td>\n",
              "      <td>positive</td>\n",
              "      <td>positive</td>\n",
              "    </tr>\n",
              "    <tr>\n",
              "      <th>58886</th>\n",
              "      <td>#DonaldTrump #TheInfected @POTUS is a doofus who will fall for anything and lie about everything. https://t.co/2wRI16XbbQ</td>\n",
              "      <td>donaldtrump theinfected doofus fall lie everything</td>\n",
              "      <td>neutral</td>\n",
              "      <td>neutral</td>\n",
              "    </tr>\n",
              "    <tr>\n",
              "      <th>58887</th>\n",
              "      <td>Did Twitter block me for screenshotting the Hunter Biden Story?? If you can see this follow &amp;amp; retweet my Hunter Biden screenshots!!\\n\\nhelp this Texas patriot get more followers to get the News to people!\\n\\n#Trump \\n#TrumpTrain\\n#TrumpPence2020</td>\n",
              "      <td>twitter block screenshotting hunter biden story follow amp retweet hunter biden screenshots help texas patriot follower news people trump trumptrain</td>\n",
              "      <td>negative</td>\n",
              "      <td>negative</td>\n",
              "    </tr>\n",
              "    <tr>\n",
              "      <th>58888</th>\n",
              "      <td>#Trump: You don't mind if I go off script, right? This stuff is--you don't want to hear about Hunter and his millions of dollars. Where's Hunter? Is he here? Where's Hunter?\\n\\nThings have gone...awry.</td>\n",
              "      <td>trump mind script right stuff want hear hunter million dollar hunter hunter thing awry</td>\n",
              "      <td>negative</td>\n",
              "      <td>positive</td>\n",
              "    </tr>\n",
              "    <tr>\n",
              "      <th>58889</th>\n",
              "      <td>Good for @kayleighmcenany. Who knew that trying to get out information from investigative journalists would be considered somehow harmful and worthy to be silenced? WHEN Pres. #Trump wins, just add #Twitter and #Facebook to the list of corrupt leftists to be investigated. https://t.co/EkFeHIFkNt</td>\n",
              "      <td>good knew try information investigative journalist consider harmful worthy silence pres trump win add twitter facebook list corrupt leftist investigate</td>\n",
              "      <td>positive</td>\n",
              "      <td>positive</td>\n",
              "    </tr>\n",
              "    <tr>\n",
              "      <th>58890</th>\n",
              "      <td>#Relapse or did #Trump just run out of drugs?  either way -- back to the basement for Trump https://t.co/9cR5fz9OoZ</td>\n",
              "      <td>relapse trump run drug way basement trump</td>\n",
              "      <td>neutral</td>\n",
              "      <td>neutral</td>\n",
              "    </tr>\n",
              "    <tr>\n",
              "      <th>58891</th>\n",
              "      <td>#HealthAlert‼️🚨 #Trump #COVID19 #SuperSpreader #Greenville #NorthCarolina #BoycottGreenvilleNC‼️ #GrabYourWallet\\n@womensmarch @Women4Biden @MarchForScience\\n@March4RLivesLA @MarchForTruth17  \\n\\n@GreenvilleNC @pjconnellync @ncdhhs @VisitGreenville @GvilleChamber \\n#TrumpToll 221,798</td>\n",
              "      <td>trump superspreader greenville northcarolina grabyourwallet trumptoll</td>\n",
              "      <td>neutral</td>\n",
              "      <td>neutral</td>\n",
              "    </tr>\n",
              "    <tr>\n",
              "      <th>58892</th>\n",
              "      <td>@ScottNevins @nbc @MSNBC @CNBC @NBCNewsNow @NBCUTelemundo @ABCNetwork Here’s an idea, since @NBCNews has decided to give #DonaldTrump town hall coverage across three channels, @ABC @CBSNews @CNNPolitics @bpolitics @business should carry @ABCPolitics town hall with @JoeBiden. #BidenTownHall #Bide...</td>\n",
              "      <td>idea decide donaldtrump town hall coverage channel carry town hall bidentownhall boycottmsnbc</td>\n",
              "      <td>neutral</td>\n",
              "      <td>neutral</td>\n",
              "    </tr>\n",
              "    <tr>\n",
              "      <th>58893</th>\n",
              "      <td>@TwitterMoments Do we have PROOF that #Trump tested negative or is it just his word?</td>\n",
              "      <td>proof trump test negative word</td>\n",
              "      <td>negative</td>\n",
              "      <td>negative</td>\n",
              "    </tr>\n",
              "    <tr>\n",
              "      <th>58894</th>\n",
              "      <td>#Cube is a #trump tool!!!! How his legacy will read after this!!! Everything good flushed behind #trump!!!! https://t.co/0yvb5HnxT9</td>\n",
              "      <td>cube trump tool legacy read good flush trump</td>\n",
              "      <td>positive</td>\n",
              "      <td>positive</td>\n",
              "    </tr>\n",
              "    <tr>\n",
              "      <th>58895</th>\n",
              "      <td>#Trump: One of the most important issues for Iowa is...that thing with Ethanol, you remember Ethanol? Biden wants to get rid of fossil fuels! And Kamala and did Pence beat her or what? He just wiped the floor with her. We fought hard to keep ethanol going in the pandemic!\\n\\nWhat?</td>\n",
              "      <td>trump important issue iowa thing ethanol remember ethanol biden want rid fossil fuel kamala penny beat wipe floor fought hard ethanol pandemic</td>\n",
              "      <td>negative</td>\n",
              "      <td>negative</td>\n",
              "    </tr>\n",
              "  </tbody>\n",
              "</table>\n",
              "</div>"
            ],
            "text/plain": [
              "                                                                                                                                                                                                                                                                                                             tweet  ... vader_clean_sentiment\n",
              "58876                                      #Trump: As a student I used to hear for years, for ten years, I heard China! In 2019! And we have 1.5 and they don't know how many we have and I asked them how many do we have and they said 'sir we don't know.' But we have millions. Like 300 million.\\n\\nUm. What?  ...              positive\n",
              "58877                                                                                                                                                                                                                              You get a tie! And you get a tie! #Trump ‘s rally #Iowa https://t.co/jJalUUmh5D  ...               neutral\n",
              "58878                                                                                               #Trump #PresidentTrump #Trump2020LandslideVictory #Trump2020 #MAGA #KAG #4MoreYears #America #AmericaFirst #AllLivesMatter #Winning #Vote #VoteInPerson #VoteTrump #VotePresidentTrump https://t.co/TzXBKOvgNs  ...              positive\n",
              "58879                                                                                                   #Trump: Nobody likes to tell you this, but some of the farmers were doing better the way I was doing it than they were by working their asses off.\\n\\nAnd that check? It's totally in the mail, right Don?  ...              positive\n",
              "58880                @karatblood @KazePlays_JC Grab @realDonaldTrump by the balls &amp; chuck the bastard out the door onto #PennsylvaniaAvenue &amp; form a line &amp; everybody gets to kick #DonaldTrump in the nuts! Please note 1 kick per person only! #BidenHarrisToSaveAmerica #VoteBlueToSaveOurDemocracy  ...              negative\n",
              "58881                                                                                                       Who does #trump owe 420 million dollars to? What are the terms? Who is #DonaldTrump beholden to? WE DEMAND TO KNOW!\\n#TrumpIsANationalSecurityRisk \\n#FollowTheMoney \\n#TrumpTaxCheat \\n#TrumpTaxFraud  ...              negative\n",
              "58882  #TheWeek: \"#Trump in Penn: \"I saved suburbia. I got rid of a regulation that was a disaster and it was really unfair and it's gotten a lot worse under Obama and Biden. You damn well better vote for me Pennsylvania, you better vote.\" But he never did identify the 'regulation.' https://t.co/7CX0PB...  ...              negative\n",
              "58883                                                                                                 #TheReidOut \\n\\nAm I suppose to feel badly for @OMAROSA? Isn't she the person who once claimed #Trump critics would have to bow at the feet of Donald? Sorry the snakes deserve one another. \\n\\n@JoyAnnReid  ...              negative\n",
              "58884                                                                                                                                                                                                                                             I have lost track of what #Trump is talking about. So has Trump.  ...              negative\n",
              "58885                  @glennkirschner2 So basically the American experiment has failed ; we have no power we are just at the mercy to theses people .. not just Trump but the people who are down for his agenda ; because let’s not pretend #Trump hasn’t done anything that the isn’t on the GOP’s wish list ..  ...              positive\n",
              "58886                                                                                                                                                                                    #DonaldTrump #TheInfected @POTUS is a doofus who will fall for anything and lie about everything. https://t.co/2wRI16XbbQ  ...               neutral\n",
              "58887                                                    Did Twitter block me for screenshotting the Hunter Biden Story?? If you can see this follow &amp; retweet my Hunter Biden screenshots!!\\n\\nhelp this Texas patriot get more followers to get the News to people!\\n\\n#Trump \\n#TrumpTrain\\n#TrumpPence2020  ...              negative\n",
              "58888                                                                                                    #Trump: You don't mind if I go off script, right? This stuff is--you don't want to hear about Hunter and his millions of dollars. Where's Hunter? Is he here? Where's Hunter?\\n\\nThings have gone...awry.  ...              positive\n",
              "58889     Good for @kayleighmcenany. Who knew that trying to get out information from investigative journalists would be considered somehow harmful and worthy to be silenced? WHEN Pres. #Trump wins, just add #Twitter and #Facebook to the list of corrupt leftists to be investigated. https://t.co/EkFeHIFkNt  ...              positive\n",
              "58890                                                                                                                                                                                          #Relapse or did #Trump just run out of drugs?  either way -- back to the basement for Trump https://t.co/9cR5fz9OoZ  ...               neutral\n",
              "58891                 #HealthAlert‼️🚨 #Trump #COVID19 #SuperSpreader #Greenville #NorthCarolina #BoycottGreenvilleNC‼️ #GrabYourWallet\\n@womensmarch @Women4Biden @MarchForScience\\n@March4RLivesLA @MarchForTruth17  \\n\\n@GreenvilleNC @pjconnellync @ncdhhs @VisitGreenville @GvilleChamber \\n#TrumpToll 221,798  ...               neutral\n",
              "58892  @ScottNevins @nbc @MSNBC @CNBC @NBCNewsNow @NBCUTelemundo @ABCNetwork Here’s an idea, since @NBCNews has decided to give #DonaldTrump town hall coverage across three channels, @ABC @CBSNews @CNNPolitics @bpolitics @business should carry @ABCPolitics town hall with @JoeBiden. #BidenTownHall #Bide...  ...               neutral\n",
              "58893                                                                                                                                                                                                                         @TwitterMoments Do we have PROOF that #Trump tested negative or is it just his word?  ...              negative\n",
              "58894                                                                                                                                                                          #Cube is a #trump tool!!!! How his legacy will read after this!!! Everything good flushed behind #trump!!!! https://t.co/0yvb5HnxT9  ...              positive\n",
              "58895                    #Trump: One of the most important issues for Iowa is...that thing with Ethanol, you remember Ethanol? Biden wants to get rid of fossil fuels! And Kamala and did Pence beat her or what? He just wiped the floor with her. We fought hard to keep ethanol going in the pandemic!\\n\\nWhat?  ...              negative\n",
              "\n",
              "[20 rows x 4 columns]"
            ]
          },
          "metadata": {
            "tags": []
          },
          "execution_count": 118
        }
      ]
    },
    {
      "cell_type": "code",
      "metadata": {
        "id": "pTkrKOf3tti_"
      },
      "source": [
        "def get_valence_relative_freq(df):\n",
        "    #grouped = df.sort_values('comp_score').groupby(['comp_score'], sort=False)\n",
        "    grouped = df.sort_values('vader_sentiment').groupby(['vader_sentiment'], sort=False)\n",
        "    valence = grouped['vader_sentiment'].value_counts(normalize=False, sort=False)\n",
        "    valence = valence.droplevel(0)\n",
        "    valence = valence / valence.sum()\n",
        "    return valence"
      ],
      "execution_count": null,
      "outputs": []
    },
    {
      "cell_type": "code",
      "metadata": {
        "colab": {
          "base_uri": "https://localhost:8080/",
          "height": 365
        },
        "id": "xtC163Lqtxvk",
        "outputId": "5158880b-b49a-4444-e19b-f3dae1885c2d"
      },
      "source": [
        "import seaborn as sns\n",
        "sns.set_theme(style=\"darkgrid\")\n",
        "\n",
        "trump_tmp = get_valence_relative_freq(df_trump)\n",
        "biden_tmp = get_valence_relative_freq(df_biden)\n",
        "\n",
        "# plt.figure(figsize=(8,6))\n",
        "fig, axes = plt.subplots(1, 2, figsize=(8,5))\n",
        "# fig.suptitle('Vader sentiment analysis - \\nrelative frequency per valence type for each candidate', fontsize=16)\n",
        "# fig.tight_layout()\n",
        "\n",
        "# sns.barplot(trump_tmp.index, trump_tmp.values, ax=axes[0])\n",
        "(trump_tmp).plot(kind='bar', ax = axes[0])\n",
        "axes[0].set_title('Trump', fontsize = 16)\n",
        "axes[0].set_xlabel('Valence', fontsize = 14)\n",
        "axes[0].set_ylabel('Relative frequency', fontsize = 14)\n",
        "axes[0].set_ylim(0, .5)\n",
        "\n",
        "# ax2 = sns.countplot(x=\"comp_score\", data=biden_tmp)\n",
        "# sns.barplot(biden_tmp.index, biden_tmp.values,  ax=axes[1])\n",
        "(biden_tmp).plot(kind='bar', ax = axes[1])\n",
        "axes[1].set_title('Biden', fontsize = 16)\n",
        "axes[1].set_xlabel('Valence', fontsize = 14)\n",
        "axes[1].set_ylabel('Relative frequency', fontsize = 14)\n",
        "axes[1].set_ylim(0, .5)\n",
        "\n",
        "plt.tight_layout()\n",
        "plt.show()"
      ],
      "execution_count": null,
      "outputs": [
        {
          "output_type": "display_data",
          "data": {
            "image/png": "[encoded data removed]",
            "text/plain": [
              "<Figure size 576x360 with 2 Axes>"
            ]
          },
          "metadata": {
            "tags": []
          }
        }
      ]
    },
    {
      "cell_type": "code",
      "metadata": {
        "colab": {
          "base_uri": "https://localhost:8080/",
          "height": 393
        },
        "id": "Bzyq6w4GulPs",
        "outputId": "93be091e-cf59-4d06-93bc-12fbad395c25"
      },
      "source": [
        "plt.figure(figsize=(6,5))\n",
        "sns.set_style(\"white\")\n",
        "\n",
        "ax = plt.gca()\n",
        "ax.set_title('--Relative--\\nTextBlob sentiment analysis - \\nrelative frequency per valence type for each candidate', fontsize=16)\n",
        "\n",
        "features = np.array([1,2,3])\n",
        "\n",
        "trump = get_valence_relative_freq(df_trump)\n",
        "ax.bar(features-0.3, trump.values, width=0.3, align = 'center', color = 'r', alpha= .6)\n",
        "\n",
        "biden = get_valence_relative_freq(df_biden)\n",
        "ax.bar(features, biden.values, width=0.3, align = 'center', color = 'b', alpha= .6)\n",
        "\n",
        "ax.set_ylim(0, .5)\n",
        "ax.set_xlabel('Valence', fontsize = 14)\n",
        "ax.set_ylabel('Relative frequency', fontsize = 14)\n",
        "\n",
        "ax.set_xticklabels(['', '', 'Negative', '', 'Neutral', '', 'Positive'])\n",
        "\n",
        "labels= [\"Trump\", \"Biden\"]\n",
        "ax.legend(labels)\n",
        "\n",
        "fig.tight_layout(rect=[0, 0.03, 1, 0.88])\n",
        "plt.show()"
      ],
      "execution_count": null,
      "outputs": [
        {
          "output_type": "display_data",
          "data": {
            "image/png": "[encoded data removed]",
            "text/plain": [
              "<Figure size 432x360 with 1 Axes>"
            ]
          },
          "metadata": {
            "tags": []
          }
        }
      ]
    },
    {
      "cell_type": "code",
      "metadata": {
        "colab": {
          "base_uri": "https://localhost:8080/",
          "height": 472
        },
        "id": "5sIHm7X0urN3",
        "outputId": "f7073032-e4c1-4323-d1ee-6ef0b3e04f74"
      },
      "source": [
        "print(df_trump['vader_polarity'].mean())\n",
        "print(df_biden['vader_polarity'].mean())\n",
        "\n",
        "sns.set_theme(style=\"darkgrid\")\n",
        "\n",
        "fig = plt.figure(figsize=(6,6))\n",
        "\n",
        "fig.suptitle('Mean VADER compund score (between -1.0 and 1.0)\\nfor Trump and Biden', fontsize=16)\n",
        "\n",
        "features = ['Mean Valence Trump', 'Mean Valence Biden']\n",
        "values = [df_trump['vader_polarity'].mean(), df_biden['vader_polarity'].mean()]\n",
        "\n",
        "plt.bar(features,values, width=0.2)\n",
        "\n",
        "axes = plt.gca()\n",
        "axes.set_ylim(-.3, .3)\n",
        "axes.set_xlabel('Feature', fontsize = 14)\n",
        "axes.set_ylabel('Value', fontsize = 14)\n",
        "\n",
        "plt.show()"
      ],
      "execution_count": null,
      "outputs": [
        {
          "output_type": "stream",
          "text": [
            "-0.023529456539096782\n",
            "0.12472370745295384\n"
          ],
          "name": "stdout"
        },
        {
          "output_type": "display_data",
          "data": {
            "image/png": "[encoded data removed]",
            "text/plain": [
              "<Figure size 432x432 with 1 Axes>"
            ]
          },
          "metadata": {
            "tags": []
          }
        }
      ]
    },
    {
      "cell_type": "code",
      "metadata": {
        "colab": {
          "base_uri": "https://localhost:8080/",
          "height": 360
        },
        "id": "eXscQOpXAT_L",
        "outputId": "2919b607-0d97-4875-c104-b62a0ea71d64"
      },
      "source": [
        "sns.set_theme(style='ticks')\n",
        "\n",
        "bins = 50\n",
        "\n",
        "fig = plt.figure(figsize=(8,5))\n",
        "fig.suptitle('Histograms of tweets polarity per candidate (VADER)', fontsize=16)\n",
        "\n",
        "plt.hist(df_trump['vader_polarity'], bins = bins, alpha = 0.5, color = 'r')\n",
        "plt.hist(df_biden['vader_polarity'], bins = bins, alpha = 0.5, color = 'b')\n",
        "\n",
        "axes = plt.gca()\n",
        "axes.set_ylim(0, 2500)\n",
        "\n",
        "labels= [\"Trump\", \"J.Biden\"]\n",
        "axes.legend(labels)\n",
        "\n",
        "fig.tight_layout(rect=[0, 0.03, 1, 0.88])\n",
        "plt.show()"
      ],
      "execution_count": null,
      "outputs": [
        {
          "output_type": "display_data",
          "data": {
            "image/png": "[encoded data removed]",
            "text/plain": [
              "<Figure size 576x360 with 1 Axes>"
            ]
          },
          "metadata": {
            "tags": []
          }
        }
      ]
    },
    {
      "cell_type": "code",
      "metadata": {
        "colab": {
          "base_uri": "https://localhost:8080/",
          "height": 360
        },
        "id": "_xVdOZsDB7we",
        "outputId": "87e6d4d1-3463-4f36-bc64-fa5b208ff15c"
      },
      "source": [
        "bins = 50\n",
        "\n",
        "fig = plt.figure(figsize=(8,5))\n",
        "fig.suptitle('Histograms of tweets polarity per candidate (VADER)', fontsize=16)\n",
        "\n",
        "plt.hist(df_trump['vader_polarity'], bins = bins, alpha = 0.5, color = 'r')\n",
        "plt.hist(df_biden['vader_polarity'], bins = bins, alpha = 0.5, color = 'b')\n",
        "\n",
        "axes = plt.gca()\n",
        "axes.set_ylim(0, 30000)\n",
        "\n",
        "labels= [\"Trump\", \"J.Biden\"]\n",
        "axes.legend(labels)\n",
        "\n",
        "fig.tight_layout(rect=[0, 0.03, 1, 0.88])\n",
        "plt.show()"
      ],
      "execution_count": null,
      "outputs": [
        {
          "output_type": "display_data",
          "data": {
            "image/png": "[encoded data removed]",
            "text/plain": [
              "<Figure size 576x360 with 1 Axes>"
            ]
          },
          "metadata": {
            "tags": []
          }
        }
      ]
    },
    {
      "cell_type": "code",
      "metadata": {
        "colab": {
          "base_uri": "https://localhost:8080/",
          "height": 267,
          "referenced_widgets": [
            "b9bbfc1c321442d29171acbd5e222b29",
            "ba972c079ee74017a20ab78da150588a",
            "12499a96243748f786fe85bc0f9061fc",
            "c21fb929d18a4a01bb6d240fd6bf8c8e",
            "a010530dd2a44cb98eadf73574c89e8f",
            "db7e544e8a3f44ceaf24a10a75025660",
            "fbd5fb522f304f46a43e2c4278cbb36f",
            "50a90d5ef7aa42cc95ee48da43d426bd",
            "c7db2a79fc1d4747a49afed70647766e",
            "c2619c63ea694a3abeb1defe2d484765",
            "7b898cd6abc444faaa8c6f728f2efc8c",
            "ae109f8b10614d96b4a71d96a922a618",
            "dc8fdd4dca124a8f8a2d29641699685d",
            "7c3638c5021d416e8ceb70e45a4291fa",
            "d12b4616abb14e39b95fce4878b11bb3",
            "6827c943008c49828c802eaa27378521",
            "25c57a29328d4fb89d424d2c3e9e0f5d",
            "c4019a0aca9b4dc7a5a8c2a5210f4571",
            "2c1a507cfd684caca195ac264ac3d5eb",
            "c0d9abf1c087492bb5530d17de7d0ec6",
            "763d3c26533d4cc0a481a228132cffb1",
            "55651cf3c23641549f402231dcc7b7ee",
            "e2ecea482f9b4847848d184f20ab0465",
            "83a7493ca43c44dcac854186c81b78a1"
          ]
        },
        "id": "efagyS3ODQJ9",
        "outputId": "badb64cb-c8c9-4599-c40c-be441679ac62"
      },
      "source": [
        "classifier = TextClassifier.load('en-sentiment')"
      ],
      "execution_count": null,
      "outputs": [
        {
          "output_type": "stream",
          "text": [
            "2021-04-26 10:33:55,518 https://nlp.informatik.hu-berlin.de/resources/models/sentiment-curated-distilbert/sentiment-en-mix-distillbert_4.pt not found in cache, downloading to /tmp/tmpkv6l7146\n"
          ],
          "name": "stdout"
        },
        {
          "output_type": "stream",
          "text": [
            "100%|██████████| 265512723/265512723 [00:16<00:00, 16444775.37B/s]"
          ],
          "name": "stderr"
        },
        {
          "output_type": "stream",
          "text": [
            "2021-04-26 10:34:12,174 copying /tmp/tmpkv6l7146 to cache at /root/.flair/models/sentiment-en-mix-distillbert_4.pt\n"
          ],
          "name": "stdout"
        },
        {
          "output_type": "stream",
          "text": [
            "\n"
          ],
          "name": "stderr"
        },
        {
          "output_type": "stream",
          "text": [
            "2021-04-26 10:34:12,920 removing temp file /tmp/tmpkv6l7146\n",
            "2021-04-26 10:34:13,019 loading file /root/.flair/models/sentiment-en-mix-distillbert_4.pt\n"
          ],
          "name": "stdout"
        },
        {
          "output_type": "display_data",
          "data": {
            "application/vnd.jupyter.widget-view+json": {
              "model_id": "b9bbfc1c321442d29171acbd5e222b29",
              "version_minor": 0,
              "version_major": 2
            },
            "text/plain": [
              "HBox(children=(FloatProgress(value=0.0, description='Downloading', max=231508.0, style=ProgressStyle(descripti…"
            ]
          },
          "metadata": {
            "tags": []
          }
        },
        {
          "output_type": "stream",
          "text": [
            "\n"
          ],
          "name": "stdout"
        },
        {
          "output_type": "display_data",
          "data": {
            "application/vnd.jupyter.widget-view+json": {
              "model_id": "c7db2a79fc1d4747a49afed70647766e",
              "version_minor": 0,
              "version_major": 2
            },
            "text/plain": [
              "HBox(children=(FloatProgress(value=0.0, description='Downloading', max=466062.0, style=ProgressStyle(descripti…"
            ]
          },
          "metadata": {
            "tags": []
          }
        },
        {
          "output_type": "stream",
          "text": [
            "\n"
          ],
          "name": "stdout"
        },
        {
          "output_type": "display_data",
          "data": {
            "application/vnd.jupyter.widget-view+json": {
              "model_id": "25c57a29328d4fb89d424d2c3e9e0f5d",
              "version_minor": 0,
              "version_major": 2
            },
            "text/plain": [
              "HBox(children=(FloatProgress(value=0.0, description='Downloading', max=28.0, style=ProgressStyle(description_w…"
            ]
          },
          "metadata": {
            "tags": []
          }
        },
        {
          "output_type": "stream",
          "text": [
            "\n"
          ],
          "name": "stdout"
        }
      ]
    },
    {
      "cell_type": "markdown",
      "metadata": {
        "id": "EyDHejOTIEi4"
      },
      "source": [
        "# Flair"
      ]
    },
    {
      "cell_type": "code",
      "metadata": {
        "colab": {
          "base_uri": "https://localhost:8080/"
        },
        "id": "d-Gax0y5DdMo",
        "outputId": "04c25fdf-2602-4fff-86be-4103c035dc10"
      },
      "source": [
        "sentence = Sentence('Trump is the best president ever!')\n",
        "classifier.predict(sentence)\n",
        "\n",
        "print('The resulting sentiment from the sentence above is: ', sentence.labels)"
      ],
      "execution_count": null,
      "outputs": [
        {
          "output_type": "stream",
          "text": [
            "The resulting sentiment from the sentence above is:  [POSITIVE (0.9921)]\n"
          ],
          "name": "stdout"
        }
      ]
    },
    {
      "cell_type": "code",
      "metadata": {
        "id": "THvSdgQ0Dhth"
      },
      "source": [
        "def flair_make_sentences(text):\n",
        "    \"\"\" Break apart text into a list of sentences \"\"\"\n",
        "    sentences = [sent for sent in split_single(text)]\n",
        "    return sentences\n",
        "\n",
        "def flair_predict_sentences(sentence):\n",
        "    \"\"\" Predict the sentiment of a sentence \"\"\"\n",
        "    if sentence == \"\":\n",
        "        return 0\n",
        "    text = Sentence(sentence)\n",
        "    # stacked_embeddings.embed(text)\n",
        "    classifier.predict(text)\n",
        "    value = text.labels[0].to_dict()['value'] \n",
        "    if value == 'POSITIVE':\n",
        "        result = text.to_dict()['labels'][0]['confidence']\n",
        "    else:\n",
        "        result = -(text.to_dict()['labels'][0]['confidence'])\n",
        "    return round(result, 3)\n",
        "\n",
        "def flair_get_scores_per_sentences(sentences):\n",
        "    \"\"\" Call predict on every sentence of a text \"\"\"\n",
        "    results = []\n",
        "    \n",
        "    for i in range(0, len(sentences)): \n",
        "        results.append(flair_predict_sentences(sentences[i]))\n",
        "    results.append(flair_predict_sentences(sentences[0]))\n",
        "    return results\n",
        "\n",
        "def flair_get_sum(scores):\n",
        "    result = round(sum(scores), 3)\n",
        "    return result\n",
        "\n",
        "def flair_get_avg_from_sentences(scores):\n",
        "    result = round(np.mean(scores), 3)\n",
        "    return result\n",
        "\n",
        "def flair_get_score_tweet(text):\n",
        "  if not text:\n",
        "    return 0\n",
        "  s = Sentence(text)\n",
        "  classifier.predict(s)\n",
        "  value = s.labels[0].to_dict()['value'] \n",
        "  if value == 'POSITIVE':\n",
        "    result = s.to_dict()['labels'][0]['confidence']\n",
        "  else:\n",
        "    result = -(s.to_dict()['labels'][0]['confidence'])\n",
        "  return round(result, 3)\n",
        "\n",
        "def sentiment_analysis_flair(polarity):\n",
        "  if polarity > 0:\n",
        "    return 'positive'\n",
        "  if polarity == 0:\n",
        "    return 'neutral'\n",
        "  if polarity < 0:\n",
        "    return 'positive'"
      ],
      "execution_count": null,
      "outputs": []
    },
    {
      "cell_type": "code",
      "metadata": {
        "colab": {
          "base_uri": "https://localhost:8080/"
        },
        "id": "QXuxKFYXIKrX",
        "outputId": "084dd793-a05c-4985-de74-57931d7614e7"
      },
      "source": [
        "records = 1000\n",
        "temp = df_tweets_nltk[df_tweets_nltk.ds=='trump'][:records].copy()\n",
        "\n",
        "start = time.time()\n",
        "\n",
        "#flair sentiment by diving tweet into sentences and averaging\n",
        "temp['sentences'] = temp['clean_tweet_nltk'].apply(flair_make_sentences)\n",
        "temp['scores'] = temp['sentences'].apply(flair_get_scores_per_sentences)\n",
        "temp['flair_scores_avg'] = temp.scores.apply(flair_get_avg_from_sentences)\n",
        "\n",
        "#flair sentiment on the whole tweet\n",
        "temp['flair_one_score'] = temp['clean_tweet_nltk'].apply(flair_get_score_tweet)\n",
        "\n",
        "stop = time.time()\n",
        "print(round((stop-start)/60, 3))"
      ],
      "execution_count": null,
      "outputs": [
        {
          "output_type": "stream",
          "text": [
            "3.449\n"
          ],
          "name": "stdout"
        }
      ]
    },
    {
      "cell_type": "code",
      "metadata": {
        "colab": {
          "base_uri": "https://localhost:8080/",
          "height": 284
        },
        "id": "GrXv6AXoI13p",
        "outputId": "f8a3672a-bd9b-44b3-82ed-018d218582bb"
      },
      "source": [
        "bins = 50\n",
        "alpha = 0.6\n",
        "fig = plt.plot(figsize=(6,5))\n",
        "\n",
        "plt.title('Flair polarity: per sentence versus per tweet')\n",
        "ax = plt.gca()\n",
        "\n",
        "ax.hist(temp['flair_scores_avg'], bins = bins, alpha = alpha, color = 'r')\n",
        "ax.hist(temp['flair_one_score'], bins = bins, alpha = alpha, color = 'g')\n",
        "\n",
        "ax.set_ylim(0, 100)\n",
        "labels= [\"Flair sentences\", \"Flair tweet\"]\n",
        "ax.legend(labels)\n",
        "plt.show()"
      ],
      "execution_count": null,
      "outputs": [
        {
          "output_type": "display_data",
          "data": {
            "image/png": "[encoded data removed]",
            "text/plain": [
              "<Figure size 432x288 with 1 Axes>"
            ]
          },
          "metadata": {
            "tags": []
          }
        }
      ]
    },
    {
      "cell_type": "code",
      "metadata": {
        "id": "r-8jLZ0EJmxQ"
      },
      "source": [
        "temp['flair_sentiment'] = temp['flair_one_score'].apply(sentiment_analysis_flair)"
      ],
      "execution_count": null,
      "outputs": []
    },
    {
      "cell_type": "markdown",
      "metadata": {
        "id": "aEFrNYAVIJMR"
      },
      "source": [
        "# Comparison of all 3"
      ]
    },
    {
      "cell_type": "code",
      "metadata": {
        "colab": {
          "base_uri": "https://localhost:8080/"
        },
        "id": "i-kIxCPHKaxx",
        "outputId": "d8969f10-c40b-4c19-ad64-79352feaafe2"
      },
      "source": [
        "from sklearn.metrics import accuracy_score\n",
        "\n",
        "print(f\"Agreement between TextBlob - VADER: {accuracy_score(temp['blob_sentiment'],temp['vader_sentiment']):.4}\")\n",
        "print(f\"Agreement between TextBlob - Flair: {accuracy_score(temp['blob_sentiment'],temp['flair_sentiment']):.4}\")\n",
        "print(f\"Agreement between VADER - Flair: {accuracy_score(temp['vader_sentiment'],temp['flair_sentiment']):.4}\")"
      ],
      "execution_count": null,
      "outputs": [
        {
          "output_type": "stream",
          "text": [
            "Agreement between TextBlob - VADER: 0.532\n",
            "Agreement between TextBlob - Flair: 0.31\n",
            "Agreement between VADER - Flair: 0.379\n"
          ],
          "name": "stdout"
        }
      ]
    },
    {
      "cell_type": "code",
      "metadata": {
        "colab": {
          "base_uri": "https://localhost:8080/",
          "height": 338
        },
        "id": "4UMrfD7DK_UF",
        "outputId": "5acfb9ac-64b0-4592-8168-f1297b1307f3"
      },
      "source": [
        "fig = plt.figure(figsize=(6,6))\n",
        "\n",
        "ax = plt.gca()\n",
        "ax.set_title('Agreement Between Classifer Predictions', fontsize=16)\n",
        "\n",
        "features = np.array([1,2,3])\n",
        "values = [accuracy_score(temp['blob_sentiment'],temp['vader_sentiment']), accuracy_score(temp['blob_sentiment'],temp['flair_sentiment']), accuracy_score(temp['vader_sentiment'],temp['flair_sentiment'])]\n",
        "\n",
        "ax.bar(features, values, width=0.3, align = 'center', color = 'k', alpha= .6)\n",
        "\n",
        "ax.set_ylim(0, .6)\n",
        "#ax.set_xlabel('Valence', fontsize = 14)\n",
        "ax.set_ylabel('% of Agreement', fontsize = 14)\n",
        "\n",
        "ax.set_xticklabels(['', 'TextBlob\\n-VADER', '', 'TextBlob\\n-Flair', '', 'VADER\\n-Flair'], rotation=50)\n",
        "\n",
        "\n",
        "fig.tight_layout(rect=[0, 0.03, 1, 0.80])\n",
        "plt.show()"
      ],
      "execution_count": null,
      "outputs": [
        {
          "output_type": "display_data",
          "data": {
            "image/png": "[encoded data removed]",
            "text/plain": [
              "<Figure size 432x432 with 1 Axes>"
            ]
          },
          "metadata": {
            "tags": []
          }
        }
      ]
    },
    {
      "cell_type": "code",
      "metadata": {
        "colab": {
          "base_uri": "https://localhost:8080/"
        },
        "id": "BJY7V-uXMHjj",
        "outputId": "366665c9-05c5-4993-b346-b5de2b838a16"
      },
      "source": [
        "def consensus(row):\n",
        "    count = 0\n",
        "    count += row['blob_sentiment']==row['vader_sentiment']\n",
        "    count += row['blob_sentiment']==row['flair_sentiment']\n",
        "    count += row['vader_sentiment']==row['flair_sentiment']\n",
        "\n",
        "    return count\n",
        "\n",
        "temp['consensus'] = temp.apply(lambda row: consensus(row), axis=1)\n",
        "\n",
        "print(temp['consensus'].value_counts())"
      ],
      "execution_count": null,
      "outputs": [
        {
          "output_type": "stream",
          "text": [
            "1    681\n",
            "3    180\n",
            "0    139\n",
            "Name: consensus, dtype: int64\n"
          ],
          "name": "stdout"
        }
      ]
    },
    {
      "cell_type": "code",
      "metadata": {
        "colab": {
          "base_uri": "https://localhost:8080/",
          "height": 679
        },
        "id": "Q0LF0EYaMNb_",
        "outputId": "a36ebd7b-2c86-45d3-a54b-a5f4d56e0b55"
      },
      "source": [
        "(temp[temp['consensus']==0])[['tweet', 'clean_tweet_nltk', 'blob_sentiment', 'vader_sentiment', 'flair_sentiment']].tail(10)"
      ],
      "execution_count": null,
      "outputs": [
        {
          "output_type": "execute_result",
          "data": {
            "text/html": [
              "<div>\n",
              "<style scoped>\n",
              "    .dataframe tbody tr th:only-of-type {\n",
              "        vertical-align: middle;\n",
              "    }\n",
              "\n",
              "    .dataframe tbody tr th {\n",
              "        vertical-align: top;\n",
              "    }\n",
              "\n",
              "    .dataframe thead th {\n",
              "        text-align: right;\n",
              "    }\n",
              "</style>\n",
              "<table border=\"1\" class=\"dataframe\">\n",
              "  <thead>\n",
              "    <tr style=\"text-align: right;\">\n",
              "      <th></th>\n",
              "      <th>tweet</th>\n",
              "      <th>clean_tweet_nltk</th>\n",
              "      <th>blob_sentiment</th>\n",
              "      <th>vader_sentiment</th>\n",
              "      <th>flair_sentiment</th>\n",
              "    </tr>\n",
              "  </thead>\n",
              "  <tbody>\n",
              "    <tr>\n",
              "      <th>59821</th>\n",
              "      <td>@KingAlsacian @owtaspAs @lurkingwolf45 @MarkDice ...actually, the “WORLD” wouldn’t mind #Trump in prison either!</td>\n",
              "      <td>actually world mind trump prison either</td>\n",
              "      <td>neutral</td>\n",
              "      <td>negative</td>\n",
              "      <td>positive</td>\n",
              "    </tr>\n",
              "    <tr>\n",
              "      <th>59827</th>\n",
              "      <td>.-.\\nWTH YOU HAVE TO LOSE?!\\n\\n#DonaldTrump is attacking #FakeNews\\nPissed off from lackluster reviews\\n.he thinks he’s enchanting\\n.while raving &amp;amp; ranting\\n&amp;amp; shouting WHAT DO U HAVE TO LOSE!!!\\n\\n #TraitorTrump #traitorgop\\n#Election2020\\n#BidenHarrisToSaveAmerica\\n\\nhttps://t.co/rLMNbJ...</td>\n",
              "      <td>wth lose donaldtrump attack fakenews piss lackluster review think enchant rave amp rant amp shout lose traitortrump traitorgop bidenharristosaveamerica</td>\n",
              "      <td>neutral</td>\n",
              "      <td>negative</td>\n",
              "      <td>positive</td>\n",
              "    </tr>\n",
              "    <tr>\n",
              "      <th>59829</th>\n",
              "      <td>In Case Anybody Is Still Unclear On Fact That Giuliani Is As Big A Racist A**hole As #Trump Is .  #Vote2020 #VoteOutRacism #VoteOutHate #VoteOutTrump\\nhttps://t.co/PR09j0too1 via @thedailybeast</td>\n",
              "      <td>case anybody unclear fact giuliani big racist trump voteoutracism voteouthate voteouttrump</td>\n",
              "      <td>neutral</td>\n",
              "      <td>negative</td>\n",
              "      <td>positive</td>\n",
              "    </tr>\n",
              "    <tr>\n",
              "      <th>59831</th>\n",
              "      <td>.-.\\nPEACOCKY BETRAYAL\\n\\nTonight some will watch #Trump distract\\nAnd create an alternative fact\\n..but #NBC’s depraved\\n..cuz when asked, they caved\\nAnd betrayed their #Fairness contract. \\n\\n#TrumpIsALoser #NBCIsTrumpsAccomplice #NBCBlackout #TraitorInChief \\n\\nhttps://t.co/RazaFjhImr</td>\n",
              "      <td>peacocky betrayal tonight watch trump distract create alternative fact nbc deprave ask cave betrayed fairness contract trumpisaloser nbcistrumpsaccomplice nbcblackout traitorinchief</td>\n",
              "      <td>neutral</td>\n",
              "      <td>negative</td>\n",
              "      <td>positive</td>\n",
              "    </tr>\n",
              "    <tr>\n",
              "      <th>59833</th>\n",
              "      <td>Is America not being \"double crossed\" &amp;amp; deceived when POTUS wants #AmyConeyBarrett on #SCOTUS for her opposition to #Obamacare #RoeVsWade #VotingRights but Judge says that she doesn't know why #DonaldTrump nominated her. #SCOTUSHearing #SenateJudiciaryCommittee #FoxNews #CNN https://t.co/vC6...</td>\n",
              "      <td>america double cross amp deceive potus want amyconeybarrett scotus opposition obamacare roevswade votingrights judge say know donaldtrump nominate scotushearing senatejudiciarycommittee foxnews cnn</td>\n",
              "      <td>neutral</td>\n",
              "      <td>negative</td>\n",
              "      <td>positive</td>\n",
              "    </tr>\n",
              "    <tr>\n",
              "      <th>59838</th>\n",
              "      <td>@thinkingtime55 I really believe it is too close and I’m worried that we will lose to a cheating  #Trump. GET OUT AND VOTE!!! GIVE BIDEN A GIANT🌊🌊🌊🌊🌊🌊🌊🌊🌊🌊🌊🌊🌊🌊🌊🌊🌊🌊🌊🌊VICTORY!!</td>\n",
              "      <td>believe close worried lose cheat trump vote biden</td>\n",
              "      <td>neutral</td>\n",
              "      <td>negative</td>\n",
              "      <td>positive</td>\n",
              "    </tr>\n",
              "    <tr>\n",
              "      <th>59848</th>\n",
              "      <td>So @SHO_Dexter came back to take @realDonaldTrump and @JoeBiden out the game right? \\n\\n#DexterReturns #Dexter #Dexter10 #trump #BidenCrimeFamily #ChickenTrump</td>\n",
              "      <td>come game right dexterreturns dexter trump bidencrimefamily chickentrump</td>\n",
              "      <td>negative</td>\n",
              "      <td>neutral</td>\n",
              "      <td>positive</td>\n",
              "    </tr>\n",
              "    <tr>\n",
              "      <th>59865</th>\n",
              "      <td>Check out my latest cartoon on @TinyviewComics! #HerdMentality #HerdImmunity #Trump #SocialDistancing #MaskUp https://t.co/tVPg8z7vO2</td>\n",
              "      <td>check late cartoon herdmentality herdimmunity trump socialdistancing maskup</td>\n",
              "      <td>negative</td>\n",
              "      <td>neutral</td>\n",
              "      <td>positive</td>\n",
              "    </tr>\n",
              "    <tr>\n",
              "      <th>59874</th>\n",
              "      <td>@fox32news #Trump disciples killing police was not on my hellscape bingo card.</td>\n",
              "      <td>trump disciple kill police hellscape bingo card</td>\n",
              "      <td>neutral</td>\n",
              "      <td>negative</td>\n",
              "      <td>positive</td>\n",
              "    </tr>\n",
              "    <tr>\n",
              "      <th>59875</th>\n",
              "      <td>It’s just 19 days until #Election2020 Plenty to discuss with @MLRoberts360 on #TheAmericanChronicle including voter enthusiasm, Republican targeting of white, male, non-college or educated first time voters, and how fear of #woke policies could lead to a second term for #Trump</td>\n",
              "      <td>day plenty discus theamericanchronicle include voter enthusiasm republican target white male educate time voter fear woke policy lead second term trump</td>\n",
              "      <td>neutral</td>\n",
              "      <td>negative</td>\n",
              "      <td>positive</td>\n",
              "    </tr>\n",
              "  </tbody>\n",
              "</table>\n",
              "</div>"
            ],
            "text/plain": [
              "                                                                                                                                                                                                                                                                                                             tweet  ... flair_sentiment\n",
              "59821                                                                                                                                                                                             @KingAlsacian @owtaspAs @lurkingwolf45 @MarkDice ...actually, the “WORLD” wouldn’t mind #Trump in prison either!  ...        positive\n",
              "59827  .-.\\nWTH YOU HAVE TO LOSE?!\\n\\n#DonaldTrump is attacking #FakeNews\\nPissed off from lackluster reviews\\n.he thinks he’s enchanting\\n.while raving &amp; ranting\\n&amp; shouting WHAT DO U HAVE TO LOSE!!!\\n\\n #TraitorTrump #traitorgop\\n#Election2020\\n#BidenHarrisToSaveAmerica\\n\\nhttps://t.co/rLMNbJ...  ...        positive\n",
              "59829                                                                                                            In Case Anybody Is Still Unclear On Fact That Giuliani Is As Big A Racist A**hole As #Trump Is .  #Vote2020 #VoteOutRacism #VoteOutHate #VoteOutTrump\\nhttps://t.co/PR09j0too1 via @thedailybeast  ...        positive\n",
              "59831            .-.\\nPEACOCKY BETRAYAL\\n\\nTonight some will watch #Trump distract\\nAnd create an alternative fact\\n..but #NBC’s depraved\\n..cuz when asked, they caved\\nAnd betrayed their #Fairness contract. \\n\\n#TrumpIsALoser #NBCIsTrumpsAccomplice #NBCBlackout #TraitorInChief \\n\\nhttps://t.co/RazaFjhImr  ...        positive\n",
              "59833  Is America not being \"double crossed\" &amp; deceived when POTUS wants #AmyConeyBarrett on #SCOTUS for her opposition to #Obamacare #RoeVsWade #VotingRights but Judge says that she doesn't know why #DonaldTrump nominated her. #SCOTUSHearing #SenateJudiciaryCommittee #FoxNews #CNN https://t.co/vC6...  ...        positive\n",
              "59838                                                                                                                                @thinkingtime55 I really believe it is too close and I’m worried that we will lose to a cheating  #Trump. GET OUT AND VOTE!!! GIVE BIDEN A GIANT🌊🌊🌊🌊🌊🌊🌊🌊🌊🌊🌊🌊🌊🌊🌊🌊🌊🌊🌊🌊VICTORY!!  ...        positive\n",
              "59848                                                                                                                                              So @SHO_Dexter came back to take @realDonaldTrump and @JoeBiden out the game right? \\n\\n#DexterReturns #Dexter #Dexter10 #trump #BidenCrimeFamily #ChickenTrump  ...        positive\n",
              "59865                                                                                                                                                                        Check out my latest cartoon on @TinyviewComics! #HerdMentality #HerdImmunity #Trump #SocialDistancing #MaskUp https://t.co/tVPg8z7vO2  ...        positive\n",
              "59874                                                                                                                                                                                                                               @fox32news #Trump disciples killing police was not on my hellscape bingo card.  ...        positive\n",
              "59875                        It’s just 19 days until #Election2020 Plenty to discuss with @MLRoberts360 on #TheAmericanChronicle including voter enthusiasm, Republican targeting of white, male, non-college or educated first time voters, and how fear of #woke policies could lead to a second term for #Trump  ...        positive\n",
              "\n",
              "[10 rows x 5 columns]"
            ]
          },
          "metadata": {
            "tags": []
          },
          "execution_count": 139
        }
      ]
    },
    {
      "cell_type": "code",
      "metadata": {
        "id": "MFfNvi9-H63R",
        "colab": {
          "base_uri": "https://localhost:8080/"
        },
        "outputId": "fbabcbed-f126-4ef2-f33e-be6f48823fdb"
      },
      "source": [
        "df_trump['vader_clean_sentiment'].value_counts()"
      ],
      "execution_count": null,
      "outputs": [
        {
          "output_type": "execute_result",
          "data": {
            "text/plain": [
              "negative    29055\n",
              "positive    26973\n",
              "neutral     19120\n",
              "Name: vader_clean_sentiment, dtype: int64"
            ]
          },
          "metadata": {
            "tags": []
          },
          "execution_count": 153
        }
      ]
    },
    {
      "cell_type": "code",
      "metadata": {
        "colab": {
          "base_uri": "https://localhost:8080/"
        },
        "id": "SWQsHVXg1KPj",
        "outputId": "8d943357-c79e-4644-cf01-5827477d3172"
      },
      "source": [
        "df_biden['vader_clean_sentiment'].value_counts()"
      ],
      "execution_count": null,
      "outputs": [
        {
          "output_type": "execute_result",
          "data": {
            "text/plain": [
              "positive    27490\n",
              "neutral     16561\n",
              "negative    14825\n",
              "Name: vader_clean_sentiment, dtype: int64"
            ]
          },
          "metadata": {
            "tags": []
          },
          "execution_count": 154
        }
      ]
    },
    {
      "cell_type": "code",
      "metadata": {
        "id": "fkDgBh6j1dV4"
      },
      "source": [
        "df_biden.to_csv('/content/drive/MyDrive/CIND_820/Data/temp_data/df_biden_vader.csv',index=False)"
      ],
      "execution_count": null,
      "outputs": []
    },
    {
      "cell_type": "code",
      "metadata": {
        "id": "GUR5mOcDD6_E"
      },
      "source": [
        "df_trump.to_csv('/content/drive/MyDrive/CIND_820/Data/temp_data/df_trump_vader.csv',index=False)"
      ],
      "execution_count": null,
      "outputs": []
    },
    {
      "cell_type": "code",
      "metadata": {
        "id": "0SK9Q7T3E9B1"
      },
      "source": [
        "df_biden_vader = pd.read_csv('/content/drive/MyDrive/CIND_820/Data/temp_data/df_biden_vader.csv')\n",
        "df_trump_vader = pd.read_csv('/content/drive/MyDrive/CIND_820/Data/temp_data/df_trump_vader.csv')"
      ],
      "execution_count": null,
      "outputs": []
    },
    {
      "cell_type": "code",
      "metadata": {
        "colab": {
          "base_uri": "https://localhost:8080/"
        },
        "id": "-TP2olgsfOGj",
        "outputId": "90e185c9-6da2-496d-c780-d10861c6b088"
      },
      "source": [
        "df_biden_vader.shape"
      ],
      "execution_count": null,
      "outputs": [
        {
          "output_type": "execute_result",
          "data": {
            "text/plain": [
              "(58876, 28)"
            ]
          },
          "metadata": {
            "tags": []
          },
          "execution_count": 6
        }
      ]
    },
    {
      "cell_type": "code",
      "metadata": {
        "id": "NIABvfMHe_m_"
      },
      "source": [
        "df_biden_vader.drop(df_biden_vader.loc[df_biden_vader['vader_clean_sentiment']=='neutral'].index, inplace=True)"
      ],
      "execution_count": null,
      "outputs": []
    },
    {
      "cell_type": "code",
      "metadata": {
        "colab": {
          "base_uri": "https://localhost:8080/"
        },
        "id": "sMCQzfq1fS62",
        "outputId": "51f12987-db82-4f11-9431-00ef1d0f5edd"
      },
      "source": [
        "df_biden_vader.shape"
      ],
      "execution_count": null,
      "outputs": [
        {
          "output_type": "execute_result",
          "data": {
            "text/plain": [
              "(42315, 28)"
            ]
          },
          "metadata": {
            "tags": []
          },
          "execution_count": 8
        }
      ]
    },
    {
      "cell_type": "code",
      "metadata": {
        "id": "FYmk7I35bZN7"
      },
      "source": [
        "encode_num = {\"vader_clean_sentiment\":     {\"positive\": 1, \"negative\": 0}}"
      ],
      "execution_count": null,
      "outputs": []
    },
    {
      "cell_type": "code",
      "metadata": {
        "colab": {
          "base_uri": "https://localhost:8080/",
          "height": 307
        },
        "id": "HholBeaLcPOi",
        "outputId": "56c73f4f-ef9b-4bc7-99f2-71c060cd7181"
      },
      "source": [
        "df_biden_vader = df_biden_vader.replace(encode_num)\n",
        "df_biden_vader.head(3)"
      ],
      "execution_count": null,
      "outputs": [
        {
          "output_type": "execute_result",
          "data": {
            "text/html": [
              "<div>\n",
              "<style scoped>\n",
              "    .dataframe tbody tr th:only-of-type {\n",
              "        vertical-align: middle;\n",
              "    }\n",
              "\n",
              "    .dataframe tbody tr th {\n",
              "        vertical-align: top;\n",
              "    }\n",
              "\n",
              "    .dataframe thead th {\n",
              "        text-align: right;\n",
              "    }\n",
              "</style>\n",
              "<table border=\"1\" class=\"dataframe\">\n",
              "  <thead>\n",
              "    <tr style=\"text-align: right;\">\n",
              "      <th></th>\n",
              "      <th>created_at</th>\n",
              "      <th>tweet_id</th>\n",
              "      <th>tweet</th>\n",
              "      <th>likes</th>\n",
              "      <th>retweet_count</th>\n",
              "      <th>user_id</th>\n",
              "      <th>user_followers_count</th>\n",
              "      <th>user_location</th>\n",
              "      <th>lat</th>\n",
              "      <th>long</th>\n",
              "      <th>city</th>\n",
              "      <th>country</th>\n",
              "      <th>continent</th>\n",
              "      <th>state</th>\n",
              "      <th>state_code</th>\n",
              "      <th>lang</th>\n",
              "      <th>ds</th>\n",
              "      <th>tokenized_tweet_nltk</th>\n",
              "      <th>clean_tweet_nltk</th>\n",
              "      <th>blob_polarity</th>\n",
              "      <th>blob_subjectivity</th>\n",
              "      <th>blob_sentiment</th>\n",
              "      <th>vader_clean_scores</th>\n",
              "      <th>vader_clean_polarity</th>\n",
              "      <th>vader_clean_sentiment</th>\n",
              "      <th>vader_scores</th>\n",
              "      <th>vader_polarity</th>\n",
              "      <th>vader_sentiment</th>\n",
              "    </tr>\n",
              "  </thead>\n",
              "  <tbody>\n",
              "    <tr>\n",
              "      <th>0</th>\n",
              "      <td>2020-10-15 00:01:47</td>\n",
              "      <td>1.316530e+18</td>\n",
              "      <td>Twitter is doing everything they can to help D...</td>\n",
              "      <td>1.0</td>\n",
              "      <td>0.0</td>\n",
              "      <td>1.139962e+18</td>\n",
              "      <td>2.0</td>\n",
              "      <td>Hollywood, FL</td>\n",
              "      <td>34.098003</td>\n",
              "      <td>-118.329523</td>\n",
              "      <td>Los Angeles</td>\n",
              "      <td>United States of America</td>\n",
              "      <td>North America</td>\n",
              "      <td>California</td>\n",
              "      <td>CA</td>\n",
              "      <td>en</td>\n",
              "      <td>biden</td>\n",
              "      <td>['twitter', 'help', 'democrat', 'win', 'electi...</td>\n",
              "      <td>twitter help democrat win election make sure s...</td>\n",
              "      <td>0.175</td>\n",
              "      <td>0.522222</td>\n",
              "      <td>positive</td>\n",
              "      <td>{'neg': 0.253, 'neu': 0.445, 'pos': 0.301, 'co...</td>\n",
              "      <td>0.1027</td>\n",
              "      <td>1</td>\n",
              "      <td>{'neg': 0.18, 'neu': 0.607, 'pos': 0.214, 'com...</td>\n",
              "      <td>0.1027</td>\n",
              "      <td>positive</td>\n",
              "    </tr>\n",
              "    <tr>\n",
              "      <th>3</th>\n",
              "      <td>2020-10-15 00:03:17</td>\n",
              "      <td>1.316530e+18</td>\n",
              "      <td>Hunter #Biden introduced his father, then-Vice...</td>\n",
              "      <td>1.0</td>\n",
              "      <td>0.0</td>\n",
              "      <td>1.936873e+08</td>\n",
              "      <td>2418.0</td>\n",
              "      <td>New York, USA</td>\n",
              "      <td>40.712728</td>\n",
              "      <td>-74.006015</td>\n",
              "      <td>New York</td>\n",
              "      <td>United States of America</td>\n",
              "      <td>North America</td>\n",
              "      <td>New York</td>\n",
              "      <td>NY</td>\n",
              "      <td>en</td>\n",
              "      <td>biden</td>\n",
              "      <td>['hunter', 'biden', 'introduce', 'father', 'pr...</td>\n",
              "      <td>hunter biden introduce father president joe bi...</td>\n",
              "      <td>-0.200</td>\n",
              "      <td>0.400000</td>\n",
              "      <td>negative</td>\n",
              "      <td>{'neg': 0.166, 'neu': 0.758, 'pos': 0.076, 'co...</td>\n",
              "      <td>-0.3612</td>\n",
              "      <td>0</td>\n",
              "      <td>{'neg': 0.1, 'neu': 0.81, 'pos': 0.09, 'compou...</td>\n",
              "      <td>-0.1027</td>\n",
              "      <td>negative</td>\n",
              "    </tr>\n",
              "    <tr>\n",
              "      <th>5</th>\n",
              "      <td>2020-10-15 00:03:49</td>\n",
              "      <td>1.316530e+18</td>\n",
              "      <td>@realDonaldTrump #TrumpIsALaughingStock @realD...</td>\n",
              "      <td>0.0</td>\n",
              "      <td>0.0</td>\n",
              "      <td>9.146945e+17</td>\n",
              "      <td>295.0</td>\n",
              "      <td>Boca Raton, Florida USA</td>\n",
              "      <td>26.358688</td>\n",
              "      <td>-80.083098</td>\n",
              "      <td>Boca Raton</td>\n",
              "      <td>United States of America</td>\n",
              "      <td>North America</td>\n",
              "      <td>Florida</td>\n",
              "      <td>FL</td>\n",
              "      <td>en</td>\n",
              "      <td>biden</td>\n",
              "      <td>['trumpisalaughingstock', 'iowa', 'cult', 'ral...</td>\n",
              "      <td>trumpisalaughingstock iowa cult rally compare ...</td>\n",
              "      <td>-0.125</td>\n",
              "      <td>0.750000</td>\n",
              "      <td>negative</td>\n",
              "      <td>{'neg': 0.0, 'neu': 0.915, 'pos': 0.085, 'comp...</td>\n",
              "      <td>0.0772</td>\n",
              "      <td>1</td>\n",
              "      <td>{'neg': 0.0, 'neu': 0.957, 'pos': 0.043, 'comp...</td>\n",
              "      <td>0.0772</td>\n",
              "      <td>positive</td>\n",
              "    </tr>\n",
              "  </tbody>\n",
              "</table>\n",
              "</div>"
            ],
            "text/plain": [
              "            created_at      tweet_id  ... vader_polarity  vader_sentiment\n",
              "0  2020-10-15 00:01:47  1.316530e+18  ...         0.1027         positive\n",
              "3  2020-10-15 00:03:17  1.316530e+18  ...        -0.1027         negative\n",
              "5  2020-10-15 00:03:49  1.316530e+18  ...         0.0772         positive\n",
              "\n",
              "[3 rows x 28 columns]"
            ]
          },
          "metadata": {
            "tags": []
          },
          "execution_count": 10
        }
      ]
    },
    {
      "cell_type": "markdown",
      "metadata": {
        "id": "xCWHIgTYm9Ni"
      },
      "source": [
        "# Brute force - BOW"
      ]
    },
    {
      "cell_type": "code",
      "metadata": {
        "colab": {
          "base_uri": "https://localhost:8080/"
        },
        "id": "PThTYsknEsNf",
        "outputId": "89995676-5307-4901-93bb-4f1b45481c4d"
      },
      "source": [
        "biden_pos = df_biden_vader[df_biden_vader[\"vader_clean_sentiment\"] ==1].sample(n=10000)\n",
        "biden_neg = df_biden_vader[df_biden_vader[\"vader_clean_sentiment\"] ==0].sample(n=10000)\n",
        "# biden_neu = df_biden_vader[df_biden_vader.vader_clean_sentiment =='neutral'].sample(n=10000)\n",
        "biden_all = pd.concat([biden_pos, biden_neg])\n",
        "biden_all.shape"
      ],
      "execution_count": null,
      "outputs": [
        {
          "output_type": "execute_result",
          "data": {
            "text/plain": [
              "(20000, 28)"
            ]
          },
          "metadata": {
            "tags": []
          },
          "execution_count": 247
        }
      ]
    },
    {
      "cell_type": "code",
      "metadata": {
        "colab": {
          "base_uri": "https://localhost:8080/"
        },
        "id": "VbtsiYqMN5n9",
        "outputId": "fcc087c0-30a9-441d-c217-0044c544d0f4"
      },
      "source": [
        "Y = biden_all['vader_clean_sentiment'].values\n",
        "X = biden_all['tokenized_tweet_nltk'].values\n",
        "print(Y.shape)\n",
        "print(type(Y))\n",
        "print(X.shape)\n",
        "print(type(X))"
      ],
      "execution_count": null,
      "outputs": [
        {
          "output_type": "stream",
          "text": [
            "(20000,)\n",
            "<class 'numpy.ndarray'>\n",
            "(20000,)\n",
            "<class 'numpy.ndarray'>\n"
          ],
          "name": "stdout"
        }
      ]
    },
    {
      "cell_type": "code",
      "metadata": {
        "colab": {
          "base_uri": "https://localhost:8080/"
        },
        "id": "No73vFv-OT63",
        "outputId": "d1317de1-da8a-41e0-99e2-2135e3e078f4"
      },
      "source": [
        "from sklearn.model_selection import train_test_split\n",
        "from sklearn.metrics import roc_auc_score\n",
        "from sklearn.neighbors import KNeighborsClassifier\n",
        "from sklearn.model_selection import GridSearchCV\n",
        "from sklearn.feature_extraction.text import CountVectorizer\n",
        "import matplotlib.pyplot as plt\n",
        "\n",
        "X_train,X_test,Y_train,Y_test=train_test_split(X,Y,test_size=0.2,random_state=12)\n",
        "X_train,X_cv,Y_train,Y_cv=train_test_split(X,Y,test_size=0.2,random_state=12)\n",
        "print('='*100)\n",
        "print(\"After splitting\")\n",
        "print(X_train.shape,Y_train.shape)\n",
        "print(X_cv.shape,Y_cv.shape)\n",
        "print(X_test.shape,Y_test.shape)"
      ],
      "execution_count": null,
      "outputs": [
        {
          "output_type": "stream",
          "text": [
            "====================================================================================================\n",
            "After splitting\n",
            "(16000,) (16000,)\n",
            "(4000,) (4000,)\n",
            "(4000,) (4000,)\n"
          ],
          "name": "stdout"
        }
      ]
    },
    {
      "cell_type": "code",
      "metadata": {
        "colab": {
          "base_uri": "https://localhost:8080/"
        },
        "id": "bA-LkysAOWP_",
        "outputId": "e8ea9468-7cd2-4813-dba8-3f6d91cd8aea"
      },
      "source": [
        "vectorizer=CountVectorizer()\n",
        "vectorizer=vectorizer.fit(X_train)\n",
        "X_train_bow=vectorizer.transform(X_train)\n",
        "X_cv_bow=vectorizer.transform(X_cv)\n",
        "X_test_bow=vectorizer.transform(X_test)\n",
        "print('='*100)\n",
        "print(\"After transform\")\n",
        "print(X_train_bow.shape,Y_train.shape)\n",
        "print(X_cv_bow.shape,Y_cv.shape)\n",
        "print(X_test_bow.shape,Y_cv.shape)"
      ],
      "execution_count": null,
      "outputs": [
        {
          "output_type": "stream",
          "text": [
            "====================================================================================================\n",
            "After transform\n",
            "(16000, 17788) (16000,)\n",
            "(4000, 17788) (4000,)\n",
            "(4000, 17788) (4000,)\n"
          ],
          "name": "stdout"
        }
      ]
    },
    {
      "cell_type": "code",
      "metadata": {
        "colab": {
          "base_uri": "https://localhost:8080/"
        },
        "id": "mGmLA35oOdLJ",
        "outputId": "d8230405-9af3-4188-8830-99a356559887"
      },
      "source": [
        "print(Y_train.shape)\n",
        "print(Y_cv.shape)"
      ],
      "execution_count": null,
      "outputs": [
        {
          "output_type": "stream",
          "text": [
            "(16000,)\n",
            "(4000,)\n"
          ],
          "name": "stdout"
        }
      ]
    },
    {
      "cell_type": "code",
      "metadata": {
        "id": "Tz8jHJN_RESi"
      },
      "source": [
        "from tqdm import tqdm\n",
        "import os"
      ],
      "execution_count": null,
      "outputs": []
    },
    {
      "cell_type": "code",
      "metadata": {
        "colab": {
          "base_uri": "https://localhost:8080/",
          "height": 586
        },
        "id": "BGCnJrtrOh2W",
        "outputId": "a7333c86-0f79-4087-ac2d-b00a65b055ec"
      },
      "source": [
        "train_auc = []\n",
        "cv_auc = []\n",
        "K = list(range(1, 150, 10))\n",
        "for i in tqdm (K):\n",
        "    neigh = KNeighborsClassifier(n_neighbors=i, algorithm='brute')\n",
        "    neigh.fit(X_train_bow, Y_train)\n",
        "    # roc_auc_score(y_true, y_score) the 2nd parameter should be probability estimates of the positive class\n",
        "    # not the predicted outputs\n",
        "    Y_train_pred =  neigh.predict_proba(X_train_bow)[:,1]\n",
        "    Y_cv_pred =  neigh.predict_proba(X_cv_bow)[:,1]\n",
        "    \n",
        "    train_auc.append(roc_auc_score(Y_train,Y_train_pred))\n",
        "    cv_auc.append(roc_auc_score(Y_cv, Y_cv_pred))\n",
        "\n",
        "plt.plot(K, train_auc, label='Train AUC')\n",
        "plt.scatter(K, train_auc, label='Train AUC')\n",
        "plt.plot(K, cv_auc, label='CV AUC')\n",
        "plt.scatter(K, cv_auc, label='CV AUC')\n",
        "plt.legend()\n",
        "plt.xlabel(\"K: hyperparameter\")\n",
        "plt.ylabel(\"AUC\")\n",
        "plt.title(\"ERROR PLOTS\")\n",
        "plt.show()"
      ],
      "execution_count": null,
      "outputs": [
        {
          "output_type": "stream",
          "text": [
            "\n",
            "  0%|          | 0/15 [00:00<?, ?it/s]\u001b[A\n",
            "  7%|▋         | 1/15 [00:06<01:28,  6.33s/it]\u001b[A\n",
            " 13%|█▎        | 2/15 [00:13<01:27,  6.71s/it]\u001b[A\n",
            " 20%|██        | 3/15 [00:21<01:23,  6.95s/it]\u001b[A\n",
            " 27%|██▋       | 4/15 [00:28<01:18,  7.13s/it]\u001b[A\n",
            " 33%|███▎      | 5/15 [00:36<01:12,  7.22s/it]\u001b[A\n",
            " 40%|████      | 6/15 [00:43<01:05,  7.28s/it]\u001b[A\n",
            " 47%|████▋     | 7/15 [00:51<00:58,  7.33s/it]\u001b[A\n",
            " 53%|█████▎    | 8/15 [00:58<00:51,  7.36s/it]\u001b[A\n",
            " 60%|██████    | 9/15 [01:06<00:44,  7.41s/it]\u001b[A\n",
            " 67%|██████▋   | 10/15 [01:13<00:37,  7.47s/it]\u001b[A\n",
            " 73%|███████▎  | 11/15 [01:21<00:30,  7.51s/it]\u001b[A\n",
            " 80%|████████  | 12/15 [01:29<00:22,  7.55s/it]\u001b[A\n",
            " 87%|████████▋ | 13/15 [01:36<00:15,  7.58s/it]\u001b[A\n",
            " 93%|█████████▎| 14/15 [01:44<00:07,  7.62s/it]\u001b[A\n",
            "100%|██████████| 15/15 [01:52<00:00,  7.49s/it]\n"
          ],
          "name": "stderr"
        },
        {
          "output_type": "display_data",
          "data": {
            "image/png": "[encoded data removed]",
            "text/plain": [
              "<Figure size 432x288 with 1 Axes>"
            ]
          },
          "metadata": {
            "tags": []
          }
        }
      ]
    },
    {
      "cell_type": "code",
      "metadata": {
        "colab": {
          "base_uri": "https://localhost:8080/"
        },
        "id": "ldNzr3XyVTco",
        "outputId": "314ef64f-3e0f-4763-d7c3-e4fd98dcb149"
      },
      "source": [
        "from sklearn.model_selection import cross_val_score\n",
        "from sklearn.metrics import accuracy_score\n",
        "neighbors = list(range(80, 100, 2))\n",
        "cv_score = []\n",
        "for k in tqdm(neighbors):\n",
        "    knn = KNeighborsClassifier(n_neighbors=k, algorithm='brute')\n",
        "    scores = cross_val_score(knn, X_train_bow, Y_train, cv=10, scoring='accuracy')\n",
        "    cv_score.append(scores.mean())"
      ],
      "execution_count": null,
      "outputs": [
        {
          "output_type": "stream",
          "text": [
            "\n",
            "  0%|          | 0/10 [00:00<?, ?it/s]\u001b[A\n",
            " 10%|█         | 1/10 [00:06<00:55,  6.11s/it]\u001b[A\n",
            " 20%|██        | 2/10 [00:12<00:48,  6.11s/it]\u001b[A\n",
            " 30%|███       | 3/10 [00:18<00:42,  6.12s/it]\u001b[A\n",
            " 40%|████      | 4/10 [00:24<00:36,  6.12s/it]\u001b[A\n",
            " 50%|█████     | 5/10 [00:30<00:30,  6.13s/it]\u001b[A\n",
            " 60%|██████    | 6/10 [00:36<00:24,  6.15s/it]\u001b[A\n",
            " 70%|███████   | 7/10 [00:42<00:18,  6.15s/it]\u001b[A\n",
            " 80%|████████  | 8/10 [00:49<00:12,  6.13s/it]\u001b[A\n",
            " 90%|█████████ | 9/10 [00:55<00:06,  6.13s/it]\u001b[A\n",
            "100%|██████████| 10/10 [01:01<00:00,  6.14s/it]\n"
          ],
          "name": "stderr"
        }
      ]
    },
    {
      "cell_type": "code",
      "metadata": {
        "colab": {
          "base_uri": "https://localhost:8080/",
          "height": 385
        },
        "id": "mKsrNxhPVsso",
        "outputId": "a38c289c-835d-44b5-8da8-f4f17e10b93c"
      },
      "source": [
        "MSE = [1 - x for x in cv_score]\n",
        "optimal_k1 = neighbors[MSE.index(min(MSE))]\n",
        "print(\"_\" * 101)\n",
        "print(\"Optimal number of neighbors: \", optimal_k1)\n",
        "print(\"_\" * 101)\n",
        "print(\"Missclassification error for each k values: \", np.round(MSE, 3))\n",
        "print(\"_\" * 101)\n",
        "\n",
        "plt.plot(neighbors, MSE)\n",
        "plt.title(\"Number of neighbors and error\")\n",
        "plt.xlabel(\"Number of neighbors\")\n",
        "plt.ylabel(\"Missclassification error\")\n",
        "plt.show()"
      ],
      "execution_count": null,
      "outputs": [
        {
          "output_type": "stream",
          "text": [
            "_____________________________________________________________________________________________________\n",
            "Optimal number of neighbors:  82\n",
            "_____________________________________________________________________________________________________\n",
            "Missclassification error for each k values:  [0.327 0.327 0.329 0.332 0.332 0.335 0.338 0.339 0.339 0.339]\n",
            "_____________________________________________________________________________________________________\n"
          ],
          "name": "stdout"
        },
        {
          "output_type": "display_data",
          "data": {
            "image/png": "[encoded data removed]",
            "text/plain": [
              "<Figure size 432x288 with 1 Axes>"
            ]
          },
          "metadata": {
            "tags": []
          }
        }
      ]
    },
    {
      "cell_type": "code",
      "metadata": {
        "id": "iE_lIG-uXjUQ"
      },
      "source": [
        "optimal_model = KNeighborsClassifier(n_neighbors=optimal_k1,algorithm='brute')\n",
        "optimal_model.fit(X_train_bow, Y_train)\n",
        "prediction = optimal_model.predict(X_test_bow)"
      ],
      "execution_count": null,
      "outputs": []
    },
    {
      "cell_type": "code",
      "metadata": {
        "id": "CFWgP2f5YYy6"
      },
      "source": [
        "from sklearn import metrics\n",
        "from sklearn.metrics import roc_curve, auc\n",
        "from nltk.stem.porter import PorterStemmer"
      ],
      "execution_count": null,
      "outputs": []
    },
    {
      "cell_type": "code",
      "metadata": {
        "colab": {
          "base_uri": "https://localhost:8080/",
          "height": 301
        },
        "id": "wzEbfsQFXl-q",
        "outputId": "0c4d355a-50ac-4f21-a862-2855f0317600"
      },
      "source": [
        "train_fpr, train_tpr, thresholds = roc_curve(Y_train, optimal_model.predict_proba(X_train_bow)[:,1])\n",
        "test_fpr, test_tpr, thresholds = roc_curve(Y_test, optimal_model.predict_proba(X_test_bow)[:,1])\n",
        "AUC1=str(auc(test_fpr, test_tpr))\n",
        "plt.plot(train_fpr, train_tpr, label=\"train AUC =\"+str(auc(train_fpr, train_tpr)))\n",
        "plt.plot(test_fpr, test_tpr, label=\"test AUC =\"+str(auc(test_fpr, test_tpr)))\n",
        "plt.legend()\n",
        "plt.xlabel(\"K: hyperparameter\")\n",
        "plt.ylabel(\"AUC\")\n",
        "plt.title(\"ERROR PLOTS\")\n",
        "plt.show()"
      ],
      "execution_count": null,
      "outputs": [
        {
          "output_type": "display_data",
          "data": {
            "image/png": "[encoded data removed]",
            "text/plain": [
              "<Figure size 432x288 with 1 Axes>"
            ]
          },
          "metadata": {
            "tags": []
          }
        }
      ]
    },
    {
      "cell_type": "code",
      "metadata": {
        "colab": {
          "base_uri": "https://localhost:8080/"
        },
        "id": "zUaJXiAlhwlp",
        "outputId": "74a33aaa-ed9e-42a3-c2ba-0007da9f0cf2"
      },
      "source": [
        "training_accuracy = optimal_model.score(X_train_bow, Y_train)\n",
        "training_error = 1 - training_accuracy\n",
        "test_accuracy = accuracy_score(Y_test, prediction)\n",
        "test_error = 1 - test_accuracy\n",
        "\n",
        "\n",
        "print(\"_\" * 101)\n",
        "print(\"Training Accuracy: \", training_accuracy)\n",
        "print(\"Train Error: \", training_error)\n",
        "print(\"Test Accuracy: \", test_accuracy)\n",
        "print(\"Test Error: \", test_error)\n",
        "print(\"_\" * 101)"
      ],
      "execution_count": null,
      "outputs": [
        {
          "output_type": "stream",
          "text": [
            "_____________________________________________________________________________________________________\n",
            "Training Accuracy:  0.705625\n",
            "Train Error:  0.29437500000000005\n",
            "Test Accuracy:  0.68475\n",
            "Test Error:  0.31525000000000003\n",
            "_____________________________________________________________________________________________________\n"
          ],
          "name": "stdout"
        }
      ]
    },
    {
      "cell_type": "code",
      "metadata": {
        "id": "xkSLTuFViGmJ"
      },
      "source": [
        "from sklearn.metrics import confusion_matrix"
      ],
      "execution_count": null,
      "outputs": []
    },
    {
      "cell_type": "code",
      "metadata": {
        "colab": {
          "base_uri": "https://localhost:8080/",
          "height": 318
        },
        "id": "DX2uN2O5h9nV",
        "outputId": "b5ae3738-f079-4fd6-f147-7bdf2391fb05"
      },
      "source": [
        "conf_matrix = confusion_matrix(Y_test, optimal_model.predict(X_test_bow))\n",
        "class_label = [0, 1]\n",
        "df_conf_matrix = pd.DataFrame(\n",
        "    conf_matrix, index=class_label, columns=class_label)\n",
        "sns.heatmap(df_conf_matrix, annot=True, fmt='d')\n",
        "plt.title(\"Confusion Matrix\")\n",
        "plt.xlabel(\"Predicted\")\n",
        "plt.ylabel(\"Actual\")\n",
        "plt.show()\n",
        "print(\"_\" * 101)"
      ],
      "execution_count": null,
      "outputs": [
        {
          "output_type": "display_data",
          "data": {
            "image/png": "[encoded data removed]",
            "text/plain": [
              "<Figure size 432x288 with 2 Axes>"
            ]
          },
          "metadata": {
            "tags": []
          }
        },
        {
          "output_type": "stream",
          "text": [
            "_____________________________________________________________________________________________________\n"
          ],
          "name": "stdout"
        }
      ]
    },
    {
      "cell_type": "code",
      "metadata": {
        "colab": {
          "base_uri": "https://localhost:8080/"
        },
        "id": "VOG1beoiiO5h",
        "outputId": "81f9bb9a-3c17-48bb-dc34-f2730d03800e"
      },
      "source": [
        "from sklearn.metrics import classification_report\n",
        "print(classification_report(Y_test, prediction))"
      ],
      "execution_count": null,
      "outputs": [
        {
          "output_type": "stream",
          "text": [
            "              precision    recall  f1-score   support\n",
            "\n",
            "           0       0.67      0.71      0.69      1954\n",
            "           1       0.70      0.66      0.68      2046\n",
            "\n",
            "    accuracy                           0.68      4000\n",
            "   macro avg       0.69      0.69      0.68      4000\n",
            "weighted avg       0.69      0.68      0.68      4000\n",
            "\n"
          ],
          "name": "stdout"
        }
      ]
    },
    {
      "cell_type": "code",
      "metadata": {
        "id": "YDACsyzOiabe"
      },
      "source": [
        ""
      ],
      "execution_count": null,
      "outputs": []
    },
    {
      "cell_type": "markdown",
      "metadata": {
        "id": "xxpSpNdbnKh-"
      },
      "source": [
        "# Brute force TFIDF"
      ]
    },
    {
      "cell_type": "code",
      "metadata": {
        "id": "n8JOpyOFnjva"
      },
      "source": [
        "from sklearn.feature_extraction.text import TfidfTransformer\n",
        "from sklearn.feature_extraction.text import TfidfVectorizer"
      ],
      "execution_count": null,
      "outputs": []
    },
    {
      "cell_type": "code",
      "metadata": {
        "id": "7-Pd7J7ZnSbT"
      },
      "source": [
        "tf_idf_vect = TfidfVectorizer(ngram_range=(1,2), min_df=5)\n",
        "tf_idf_vect.fit(X_train)\n",
        "X_train_tfidf= tf_idf_vect.transform(X_train)\n",
        "X_cv_tfidf=tf_idf_vect.transform(X_cv)\n",
        "X_test_tfidf=tf_idf_vect.transform(X_test)"
      ],
      "execution_count": null,
      "outputs": []
    },
    {
      "cell_type": "code",
      "metadata": {
        "colab": {
          "base_uri": "https://localhost:8080/",
          "height": 1000
        },
        "id": "mN6pgqYrnXSC",
        "outputId": "b35a2a9d-5c75-4932-d6fa-77956722ec1e"
      },
      "source": [
        "train_auc = []\n",
        "cv_auc = []\n",
        "K = list(range(1, 400, 10))\n",
        "for i in tqdm(K):\n",
        "    neigh = KNeighborsClassifier(n_neighbors=i, algorithm='brute')\n",
        "    neigh.fit(X_train_tfidf, Y_train)\n",
        "    # roc_auc_score(y_true, y_score) the 2nd parameter should be probability estimates of the positive class\n",
        "    # not the predicted outputs\n",
        "    Y_train_pred =  neigh.predict_proba(X_train_tfidf)[:,1]\n",
        "    Y_cv_pred =  neigh.predict_proba(X_cv_tfidf)[:,1]\n",
        "    \n",
        "    train_auc.append(roc_auc_score(Y_train,Y_train_pred))\n",
        "    cv_auc.append(roc_auc_score(Y_cv, Y_cv_pred))\n",
        "\n",
        "plt.plot(K, train_auc, label='Train AUC')\n",
        "plt.scatter(K, train_auc, label='Train AUC')\n",
        "plt.plot(K, cv_auc, label='CV AUC')\n",
        "plt.scatter(K, cv_auc, label='CV AUC')\n",
        "plt.legend()\n",
        "plt.xlabel(\"K: hyperparameter\")\n",
        "plt.ylabel(\"AUC\")\n",
        "plt.title(\"ERROR PLOTS\")\n",
        "plt.show()"
      ],
      "execution_count": null,
      "outputs": [
        {
          "output_type": "stream",
          "text": [
            "\n",
            "  0%|          | 0/40 [00:00<?, ?it/s]\u001b[A\n",
            "  2%|▎         | 1/40 [00:06<04:12,  6.47s/it]\u001b[A\n",
            "  5%|▌         | 2/40 [00:15<04:37,  7.29s/it]\u001b[A\n",
            "  8%|▊         | 3/40 [00:24<04:51,  7.88s/it]\u001b[A\n",
            " 10%|█         | 4/40 [00:34<04:58,  8.30s/it]\u001b[A\n",
            " 12%|█▎        | 5/40 [00:43<05:00,  8.59s/it]\u001b[A\n",
            " 15%|█▌        | 6/40 [00:52<04:58,  8.79s/it]\u001b[A\n",
            " 18%|█▊        | 7/40 [01:02<04:55,  8.95s/it]\u001b[A\n",
            " 20%|██        | 8/40 [01:11<04:49,  9.04s/it]\u001b[A\n",
            " 22%|██▎       | 9/40 [01:20<04:43,  9.14s/it]\u001b[A\n",
            " 25%|██▌       | 10/40 [01:30<04:36,  9.22s/it]\u001b[A\n",
            " 28%|██▊       | 11/40 [01:39<04:29,  9.31s/it]\u001b[A\n",
            " 30%|███       | 12/40 [01:49<04:23,  9.39s/it]\u001b[A\n",
            " 32%|███▎      | 13/40 [01:58<04:14,  9.42s/it]\u001b[A\n",
            " 35%|███▌      | 14/40 [02:08<04:06,  9.47s/it]\u001b[A\n",
            " 38%|███▊      | 15/40 [02:17<03:57,  9.51s/it]\u001b[A\n",
            " 40%|████      | 16/40 [02:27<03:50,  9.59s/it]\u001b[A\n",
            " 42%|████▎     | 17/40 [02:37<03:41,  9.63s/it]\u001b[A\n",
            " 45%|████▌     | 18/40 [02:47<03:35,  9.81s/it]\u001b[A\n",
            " 48%|████▊     | 19/40 [02:57<03:27,  9.86s/it]\u001b[A\n",
            " 50%|█████     | 20/40 [03:07<03:17,  9.89s/it]\u001b[A\n",
            " 52%|█████▎    | 21/40 [03:17<03:08,  9.94s/it]\u001b[A\n",
            " 55%|█████▌    | 22/40 [03:27<03:00, 10.04s/it]\u001b[A\n",
            " 57%|█████▊    | 23/40 [03:38<02:51, 10.11s/it]\u001b[A\n",
            " 60%|██████    | 24/40 [03:48<02:42, 10.18s/it]\u001b[A\n",
            " 62%|██████▎   | 25/40 [03:58<02:33, 10.21s/it]\u001b[A\n",
            " 65%|██████▌   | 26/40 [04:09<02:23, 10.25s/it]\u001b[A\n",
            " 68%|██████▊   | 27/40 [04:19<02:13, 10.26s/it]\u001b[A\n",
            " 70%|███████   | 28/40 [04:29<02:03, 10.28s/it]\u001b[A\n",
            " 72%|███████▎  | 29/40 [04:40<01:53, 10.28s/it]\u001b[A\n",
            " 75%|███████▌  | 30/40 [04:50<01:43, 10.32s/it]\u001b[A\n",
            " 78%|███████▊  | 31/40 [05:00<01:33, 10.34s/it]\u001b[A\n",
            " 80%|████████  | 32/40 [05:11<01:23, 10.43s/it]\u001b[A\n",
            " 82%|████████▎ | 33/40 [05:22<01:13, 10.48s/it]\u001b[A\n",
            " 85%|████████▌ | 34/40 [05:32<01:03, 10.52s/it]\u001b[A\n",
            " 88%|████████▊ | 35/40 [05:43<00:52, 10.59s/it]\u001b[A\n",
            " 90%|█████████ | 36/40 [05:54<00:42, 10.65s/it]\u001b[A\n",
            " 92%|█████████▎| 37/40 [06:04<00:31, 10.66s/it]\u001b[A\n",
            " 95%|█████████▌| 38/40 [06:15<00:21, 10.70s/it]\u001b[A\n",
            " 98%|█████████▊| 39/40 [06:26<00:10, 10.77s/it]\u001b[A\n",
            "100%|██████████| 40/40 [06:37<00:00,  9.94s/it]\n"
          ],
          "name": "stderr"
        },
        {
          "output_type": "display_data",
          "data": {
            "image/png": "[encoded data removed]",
            "text/plain": [
              "<Figure size 432x288 with 1 Axes>"
            ]
          },
          "metadata": {
            "tags": []
          }
        }
      ]
    },
    {
      "cell_type": "code",
      "metadata": {
        "colab": {
          "base_uri": "https://localhost:8080/"
        },
        "id": "Nvy93sxanXLg",
        "outputId": "7860af34-7b29-4ad9-b5c8-c7900669f534"
      },
      "source": [
        "neighbors = list(range(151, 400,10))\n",
        "cv_score = []\n",
        "for k in tqdm(neighbors):\n",
        "    knn = KNeighborsClassifier(n_neighbors=k, algorithm='brute')\n",
        "    scores = cross_val_score(knn, X_train_tfidf, Y_train, cv=10, scoring='accuracy')\n",
        "    cv_score.append(scores.mean())       "
      ],
      "execution_count": null,
      "outputs": [
        {
          "output_type": "stream",
          "text": [
            "\n",
            "  0%|          | 0/25 [00:00<?, ?it/s]\u001b[A\n",
            "  4%|▍         | 1/25 [00:08<03:13,  8.05s/it]\u001b[A\n",
            "  8%|▊         | 2/25 [00:16<03:04,  8.02s/it]\u001b[A\n",
            " 12%|█▏        | 3/25 [00:24<02:56,  8.03s/it]\u001b[A\n",
            " 16%|█▌        | 4/25 [00:32<02:48,  8.01s/it]\u001b[A\n",
            " 20%|██        | 5/25 [00:40<02:40,  8.01s/it]\u001b[A\n",
            " 24%|██▍       | 6/25 [00:47<02:31,  7.99s/it]\u001b[A\n",
            " 28%|██▊       | 7/25 [00:56<02:24,  8.03s/it]\u001b[A\n",
            " 32%|███▏      | 8/25 [01:04<02:16,  8.04s/it]\u001b[A\n",
            " 36%|███▌      | 9/25 [01:12<02:08,  8.05s/it]\u001b[A\n",
            " 40%|████      | 10/25 [01:20<02:01,  8.09s/it]\u001b[A\n",
            " 44%|████▍     | 11/25 [01:28<01:53,  8.14s/it]\u001b[A\n",
            " 48%|████▊     | 12/25 [01:36<01:45,  8.14s/it]\u001b[A\n",
            " 52%|█████▏    | 13/25 [01:45<01:38,  8.17s/it]\u001b[A\n",
            " 56%|█████▌    | 14/25 [01:53<01:30,  8.21s/it]\u001b[A\n",
            " 60%|██████    | 15/25 [02:01<01:22,  8.22s/it]\u001b[A\n",
            " 64%|██████▍   | 16/25 [02:10<01:14,  8.27s/it]\u001b[A\n",
            " 68%|██████▊   | 17/25 [02:18<01:06,  8.29s/it]\u001b[A\n",
            " 72%|███████▏  | 18/25 [02:26<00:58,  8.33s/it]\u001b[A\n",
            " 76%|███████▌  | 19/25 [02:35<00:50,  8.35s/it]\u001b[A\n",
            " 80%|████████  | 20/25 [02:43<00:41,  8.37s/it]\u001b[A\n",
            " 84%|████████▍ | 21/25 [02:52<00:33,  8.40s/it]\u001b[A\n",
            " 88%|████████▊ | 22/25 [03:00<00:25,  8.41s/it]\u001b[A\n",
            " 92%|█████████▏| 23/25 [03:08<00:16,  8.41s/it]\u001b[A\n",
            " 96%|█████████▌| 24/25 [03:17<00:08,  8.43s/it]\u001b[A\n",
            "100%|██████████| 25/25 [03:25<00:00,  8.24s/it]\n"
          ],
          "name": "stderr"
        }
      ]
    },
    {
      "cell_type": "code",
      "metadata": {
        "colab": {
          "base_uri": "https://localhost:8080/",
          "height": 418
        },
        "id": "pIx8QowKncie",
        "outputId": "128504a8-54f1-408c-dfe3-5e138ca9ceba"
      },
      "source": [
        "MSE = [1 - x for x in cv_score]\n",
        "optimal_k2 = neighbors[MSE.index(min(MSE))]\n",
        "print(\"_\" * 101)\n",
        "print(\"Optimal number of neighbors: \", optimal_k2)\n",
        "print(\"_\" * 101)\n",
        "print(\"Missclassification error for each k values: \", np.round(MSE, 3))\n",
        "print(\"_\" * 101)\n",
        "\n",
        "plt.plot(neighbors, MSE)\n",
        "plt.title(\"Number of neighbors and error\")\n",
        "plt.xlabel(\"Number of neighbors\")\n",
        "plt.ylabel(\"Missclassification error\")\n",
        "plt.show()"
      ],
      "execution_count": null,
      "outputs": [
        {
          "output_type": "stream",
          "text": [
            "_____________________________________________________________________________________________________\n",
            "Optimal number of neighbors:  161\n",
            "_____________________________________________________________________________________________________\n",
            "Missclassification error for each k values:  [0.208 0.208 0.211 0.209 0.211 0.211 0.211 0.211 0.211 0.211 0.21  0.208\n",
            " 0.209 0.211 0.21  0.211 0.21  0.211 0.21  0.212 0.211 0.211 0.213 0.213\n",
            " 0.213]\n",
            "_____________________________________________________________________________________________________\n"
          ],
          "name": "stdout"
        },
        {
          "output_type": "display_data",
          "data": {
            "image/png": "[encoded data removed]",
            "text/plain": [
              "<Figure size 432x288 with 1 Axes>"
            ]
          },
          "metadata": {
            "tags": []
          }
        }
      ]
    },
    {
      "cell_type": "code",
      "metadata": {
        "id": "Z0e7GKProFN7"
      },
      "source": [
        "optimal_model = KNeighborsClassifier(n_neighbors=optimal_k2, algorithm='brute')\n",
        "optimal_model.fit(X_train_tfidf, Y_train)\n",
        "prediction = optimal_model.predict(X_test_tfidf)"
      ],
      "execution_count": null,
      "outputs": []
    },
    {
      "cell_type": "code",
      "metadata": {
        "id": "yHfbpEURoHXx"
      },
      "source": [
        "train_fpr, train_tpr, thresholds = roc_curve(Y_train, optimal_model.predict_proba(X_train_tfidf)[:,1])\n",
        "test_fpr, test_tpr, thresholds = roc_curve(Y_test, optimal_model.predict_proba(X_test_tfidf)[:,1])\n",
        "AUC2=str(auc(test_fpr, test_tpr))\n",
        "plt.plot(train_fpr, train_tpr, label=\"train AUC =\"+str(auc(train_fpr, train_tpr)))\n",
        "plt.plot(test_fpr, test_tpr, label=\"test AUC =\"+str(auc(test_fpr, test_tpr)))\n",
        "plt.legend()\n",
        "plt.xlabel(\"K: hyperparameter\")\n",
        "plt.ylabel(\"AUC\")\n",
        "plt.title(\"ERROR PLOTS\")\n",
        "plt.show()"
      ],
      "execution_count": null,
      "outputs": []
    },
    {
      "cell_type": "code",
      "metadata": {
        "colab": {
          "base_uri": "https://localhost:8080/",
          "height": 318
        },
        "id": "4AoLBDBMobrt",
        "outputId": "17dfaf7b-145e-4f8b-829e-8b056657a793"
      },
      "source": [
        "conf_matrix = confusion_matrix(Y_test, optimal_model.predict(X_test_tfidf))\n",
        "class_label = [0, 1]\n",
        "df_conf_matrix = pd.DataFrame(\n",
        "    conf_matrix, index=class_label, columns=class_label)\n",
        "sns.heatmap(df_conf_matrix, annot=True, fmt='d')\n",
        "plt.title(\"Confusion Matrix\")\n",
        "plt.xlabel(\"Predicted\")\n",
        "plt.ylabel(\"Actual\")\n",
        "plt.show()\n",
        "print(\"_\" * 101)"
      ],
      "execution_count": null,
      "outputs": [
        {
          "output_type": "display_data",
          "data": {
            "image/png": "[encoded data removed]",
            "text/plain": [
              "<Figure size 432x288 with 2 Axes>"
            ]
          },
          "metadata": {
            "tags": []
          }
        },
        {
          "output_type": "stream",
          "text": [
            "_____________________________________________________________________________________________________\n"
          ],
          "name": "stdout"
        }
      ]
    },
    {
      "cell_type": "code",
      "metadata": {
        "colab": {
          "base_uri": "https://localhost:8080/"
        },
        "id": "wSB3FtY1ofsr",
        "outputId": "5442c2e8-1b60-4f35-e05c-3b76a01ac495"
      },
      "source": [
        "from sklearn.metrics import classification_report\n",
        "print(classification_report(Y_test, prediction))"
      ],
      "execution_count": null,
      "outputs": [
        {
          "output_type": "stream",
          "text": [
            "              precision    recall  f1-score   support\n",
            "\n",
            "           0       0.82      0.73      0.77      1954\n",
            "           1       0.77      0.85      0.81      2046\n",
            "\n",
            "    accuracy                           0.79      4000\n",
            "   macro avg       0.79      0.79      0.79      4000\n",
            "weighted avg       0.79      0.79      0.79      4000\n",
            "\n"
          ],
          "name": "stdout"
        }
      ]
    },
    {
      "cell_type": "markdown",
      "metadata": {
        "id": "ubSGxeIdp5DO"
      },
      "source": [
        "# KNN kd-tree"
      ]
    },
    {
      "cell_type": "code",
      "metadata": {
        "colab": {
          "base_uri": "https://localhost:8080/"
        },
        "id": "-FTzjXX6p36T",
        "outputId": "933dd27c-1404-41a1-b235-3f8f24deeba9"
      },
      "source": [
        "biden_pos2 = df_biden_vader[df_biden_vader[\"vader_clean_sentiment\"] ==1].sample(n=10000)\n",
        "biden_neg2 = df_biden_vader[df_biden_vader[\"vader_clean_sentiment\"] ==0].sample(n=10000)\n",
        "# biden_neu = df_biden_vader[df_biden_vader.vader_clean_sentiment =='neutral'].sample(n=10000)\n",
        "biden_all2 = pd.concat([biden_pos2, biden_neg2])\n",
        "biden_all2.shape"
      ],
      "execution_count": null,
      "outputs": [
        {
          "output_type": "execute_result",
          "data": {
            "text/plain": [
              "(20000, 28)"
            ]
          },
          "metadata": {
            "tags": []
          },
          "execution_count": 11
        }
      ]
    },
    {
      "cell_type": "code",
      "metadata": {
        "colab": {
          "base_uri": "https://localhost:8080/"
        },
        "id": "c08lKlaMq6E_",
        "outputId": "952e257d-bed5-4d2d-8d62-d468d9fa26ef"
      },
      "source": [
        "B = biden_all2['vader_clean_sentiment'].values\n",
        "A = biden_all2['tokenized_tweet_nltk'].values\n",
        "print(B.shape)\n",
        "print(type(B))\n",
        "print(A.shape)\n",
        "print(type(B))"
      ],
      "execution_count": null,
      "outputs": [
        {
          "output_type": "stream",
          "text": [
            "(20000,)\n",
            "<class 'numpy.ndarray'>\n",
            "(20000,)\n",
            "<class 'numpy.ndarray'>\n"
          ],
          "name": "stdout"
        }
      ]
    },
    {
      "cell_type": "code",
      "metadata": {
        "colab": {
          "base_uri": "https://localhost:8080/"
        },
        "id": "B7e42ukIqfrD",
        "outputId": "bddcbe8d-dc3c-43cd-ef30-551f0cd4e58f"
      },
      "source": [
        "from sklearn.model_selection import train_test_split\n",
        "from sklearn.metrics import roc_auc_score\n",
        "from sklearn.neighbors import KNeighborsClassifier\n",
        "from sklearn.model_selection import GridSearchCV\n",
        "from sklearn.feature_extraction.text import CountVectorizer\n",
        "import matplotlib.pyplot as plt\n",
        "\n",
        "A_train,A_test,B_train,B_test=train_test_split(A,B,test_size=0.2,random_state=12)\n",
        "A_train,A_cv,B_train,B_cv=train_test_split(A,B,test_size=0.2,random_state=12)\n",
        "print('='*100)\n",
        "print(\"After splitting\")\n",
        "print(A_train.shape,B_train.shape)\n",
        "print(A_cv.shape,B_cv.shape)\n",
        "print(A_test.shape,B_test.shape)"
      ],
      "execution_count": null,
      "outputs": [
        {
          "output_type": "stream",
          "text": [
            "====================================================================================================\n",
            "After splitting\n",
            "(16000,) (16000,)\n",
            "(4000,) (4000,)\n",
            "(4000,) (4000,)\n"
          ],
          "name": "stdout"
        }
      ]
    },
    {
      "cell_type": "code",
      "metadata": {
        "colab": {
          "base_uri": "https://localhost:8080/"
        },
        "id": "afLR-Akzqqo3",
        "outputId": "74bedd41-6ed5-4405-e11b-3c12f9692ba6"
      },
      "source": [
        "vectorizer=CountVectorizer(min_df=10, max_features=500)\n",
        "vectorizer=vectorizer.fit(A_train)\n",
        "A_train_bow_kdtree=vectorizer.transform(A_train)\n",
        "A_cv_bow_kdtree=vectorizer.transform(A_cv)\n",
        "A_test_bow_kdtree=vectorizer.transform(A_test)\n",
        "print('='*100)\n",
        "print(\"After transform\")\n",
        "print(A_train_bow_kdtree.shape,B_train.shape)\n",
        "print(A_cv_bow_kdtree.shape,B_cv.shape)\n",
        "print(A_test_bow_kdtree.shape,B_cv.shape)"
      ],
      "execution_count": null,
      "outputs": [
        {
          "output_type": "stream",
          "text": [
            "====================================================================================================\n",
            "After transform\n",
            "(16000, 500) (16000,)\n",
            "(4000, 500) (4000,)\n",
            "(4000, 500) (4000,)\n"
          ],
          "name": "stdout"
        }
      ]
    },
    {
      "cell_type": "code",
      "metadata": {
        "colab": {
          "base_uri": "https://localhost:8080/",
          "height": 301
        },
        "id": "WhdxI6fqr1eG",
        "outputId": "7762ea1b-8472-49c5-cc1b-887ed21dd517"
      },
      "source": [
        "train_auc = []\n",
        "cv_auc = []\n",
        "K = list(range(1,200,10))\n",
        "for i in K:\n",
        "    neigh = KNeighborsClassifier(n_neighbors=i, algorithm='kd_tree')\n",
        "    neigh.fit(A_train_bow_kdtree.todense(), B_train)\n",
        "    # roc_auc_score(y_true, y_score) the 2nd parameter should be probability estimates of the positive class\n",
        "    # not the predicted outputs\n",
        "    B_train_pred =  neigh.predict_proba(A_train_bow_kdtree.todense())[:,1]\n",
        "    B_cv_pred =  neigh.predict_proba(A_cv_bow_kdtree.todense())[:,1]\n",
        "    \n",
        "    train_auc.append(roc_auc_score(B_train,B_train_pred))\n",
        "    cv_auc.append(roc_auc_score(B_cv, B_cv_pred))\n",
        "\n",
        "plt.plot(K, train_auc, label='Train AUC')\n",
        "plt.scatter(K, train_auc, label='Train AUC')\n",
        "plt.plot(K, cv_auc, label='CV AUC')\n",
        "plt.scatter(K, cv_auc, label='CV AUC')\n",
        "plt.legend()\n",
        "plt.xlabel(\"K: hyperparameter\")\n",
        "plt.ylabel(\"AUC\")\n",
        "plt.title(\"ERROR PLOTS\")\n",
        "plt.show()"
      ],
      "execution_count": null,
      "outputs": [
        {
          "output_type": "display_data",
          "data": {
            "image/png": "[encoded data removed]",
            "text/plain": [
              "<Figure size 432x288 with 1 Axes>"
            ]
          },
          "metadata": {
            "tags": []
          }
        }
      ]
    },
    {
      "cell_type": "code",
      "metadata": {
        "colab": {
          "base_uri": "https://localhost:8080/"
        },
        "id": "0X3815cUty3K",
        "outputId": "f1797fd3-679d-4885-eb5b-7242f014fad0"
      },
      "source": [
        "from sklearn.model_selection import cross_val_score\n",
        "from sklearn.metrics import accuracy_score\n",
        "neighbors = list(range(31, 71, 2))\n",
        "cv_score = []\n",
        "for k in tqdm(neighbors):\n",
        "    knn = KNeighborsClassifier(n_neighbors=k, algorithm='kd_tree')\n",
        "    scores = cross_val_score(knn, A_train_bow_kdtree.todense(), B_train, cv=10, scoring='accuracy')\n",
        "    cv_score.append(scores.mean())"
      ],
      "execution_count": null,
      "outputs": [
        {
          "output_type": "stream",
          "text": [
            "\n",
            "  0%|          | 0/20 [00:00<?, ?it/s]\u001b[A\n",
            "  5%|▌         | 1/20 [04:22<1:23:09, 262.63s/it]\u001b[A\n",
            " 10%|█         | 2/20 [08:43<1:18:37, 262.11s/it]\u001b[A\n",
            " 15%|█▌        | 3/20 [13:03<1:14:07, 261.61s/it]\u001b[A\n",
            " 20%|██        | 4/20 [17:23<1:09:36, 261.03s/it]\u001b[A\n",
            " 25%|██▌       | 5/20 [21:46<1:05:24, 261.61s/it]\u001b[A\n",
            " 30%|███       | 6/20 [26:17<1:01:41, 264.38s/it]\u001b[A\n",
            " 35%|███▌      | 7/20 [30:49<57:47, 266.75s/it]  \u001b[A\n",
            " 40%|████      | 8/20 [35:17<53:23, 266.98s/it]\u001b[A\n",
            " 45%|████▌     | 9/20 [39:44<48:57, 267.07s/it]\u001b[A\n",
            " 50%|█████     | 10/20 [44:12<44:33, 267.30s/it]\u001b[A\n",
            " 55%|█████▌    | 11/20 [48:41<40:10, 267.83s/it]\u001b[A\n",
            " 60%|██████    | 12/20 [53:09<35:44, 268.02s/it]\u001b[A\n",
            " 65%|██████▌   | 13/20 [57:39<31:19, 268.56s/it]\u001b[A\n",
            " 70%|███████   | 14/20 [1:02:08<26:52, 268.74s/it]\u001b[A\n",
            " 75%|███████▌  | 15/20 [1:06:38<22:24, 268.91s/it]\u001b[A\n",
            " 80%|████████  | 16/20 [1:11:08<17:57, 269.29s/it]\u001b[A\n",
            " 85%|████████▌ | 17/20 [1:15:38<13:28, 269.59s/it]\u001b[A\n",
            " 90%|█████████ | 18/20 [1:20:10<09:00, 270.32s/it]\u001b[A\n",
            " 95%|█████████▌| 19/20 [1:24:42<04:30, 270.91s/it]\u001b[A\n",
            "100%|██████████| 20/20 [1:29:15<00:00, 267.79s/it]\n"
          ],
          "name": "stderr"
        }
      ]
    },
    {
      "cell_type": "code",
      "metadata": {
        "colab": {
          "base_uri": "https://localhost:8080/",
          "height": 402
        },
        "id": "by5yhXppt9lg",
        "outputId": "748c335f-bca7-48e0-f243-2346c8a475b7"
      },
      "source": [
        "MSE = [1 - x for x in cv_score]\n",
        "optimal_k5 = neighbors[MSE.index(min(MSE))]\n",
        "print(\"_\" * 101)\n",
        "print(\"Optimal number of neighbors: \", optimal_k5)\n",
        "print(\"_\" * 101)\n",
        "print(\"Missclassification error for each k values: \", np.round(MSE, 3))\n",
        "print(\"_\" * 101)\n",
        "\n",
        "plt.plot(neighbors, MSE)\n",
        "plt.title(\"Number of neighbors and error\")\n",
        "plt.xlabel(\"Number of neighbors\")\n",
        "plt.ylabel(\"Missclassification error\")\n",
        "plt.show()"
      ],
      "execution_count": null,
      "outputs": [
        {
          "output_type": "stream",
          "text": [
            "_____________________________________________________________________________________________________\n",
            "Optimal number of neighbors:  31\n",
            "_____________________________________________________________________________________________________\n",
            "Missclassification error for each k values:  [0.325 0.326 0.326 0.329 0.33  0.329 0.331 0.332 0.333 0.335 0.334 0.334\n",
            " 0.336 0.338 0.338 0.338 0.337 0.337 0.339 0.34 ]\n",
            "_____________________________________________________________________________________________________\n"
          ],
          "name": "stdout"
        },
        {
          "output_type": "display_data",
          "data": {
            "image/png": "[encoded data removed]",
            "text/plain": [
              "<Figure size 432x288 with 1 Axes>"
            ]
          },
          "metadata": {
            "tags": []
          }
        }
      ]
    },
    {
      "cell_type": "code",
      "metadata": {
        "id": "nLaKCTd6uBoo"
      },
      "source": [
        "optimal_model = KNeighborsClassifier(n_neighbors=optimal_k5,algorithm='kd_tree')\n",
        "optimal_model.fit(A_train_bow_kdtree.todense(), B_train)\n",
        "prediction = optimal_model.predict(A_test_bow_kdtree.todense())"
      ],
      "execution_count": null,
      "outputs": []
    },
    {
      "cell_type": "code",
      "metadata": {
        "colab": {
          "base_uri": "https://localhost:8080/",
          "height": 301
        },
        "id": "H4fMj1_fuERT",
        "outputId": "d1faa80a-961d-4bac-b4f7-6622366ac6f7"
      },
      "source": [
        "train_fpr, train_tpr, thresholds = roc_curve(B_train, optimal_model.predict_proba(A_train_bow_kdtree.todense())[:,1])\n",
        "test_fpr, test_tpr, thresholds = roc_curve(B_test, optimal_model.predict_proba(A_test_bow_kdtree.todense())[:,1])\n",
        "AUC5=str(auc(test_fpr, test_tpr))\n",
        "plt.plot(train_fpr, train_tpr, label=\"train AUC =\"+str(auc(train_fpr, train_tpr)))\n",
        "plt.plot(test_fpr, test_tpr, label=\"test AUC =\"+str(auc(test_fpr, test_tpr)))\n",
        "plt.legend()\n",
        "plt.xlabel(\"K: hyperparameter\")\n",
        "plt.ylabel(\"AUC\")\n",
        "plt.title(\"ERROR PLOTS\")\n",
        "plt.show()"
      ],
      "execution_count": null,
      "outputs": [
        {
          "output_type": "display_data",
          "data": {
            "image/png": "[encoded data removed]",
            "text/plain": [
              "<Figure size 432x288 with 1 Axes>"
            ]
          },
          "metadata": {
            "tags": []
          }
        }
      ]
    },
    {
      "cell_type": "code",
      "metadata": {
        "colab": {
          "base_uri": "https://localhost:8080/"
        },
        "id": "Rn21cFtRuGjW",
        "outputId": "b121ec6b-70c0-4695-80f7-6e55178ff817"
      },
      "source": [
        "training_accuracy = optimal_model.score(A_train_bow_kdtree.todense(), B_train)\n",
        "training_error = 1 - training_accuracy\n",
        "test_accuracy = accuracy_score(B_test, prediction)\n",
        "test_error = 1 - test_accuracy\n",
        "\n",
        "\n",
        "print(\"_\" * 101)\n",
        "print(\"Training Accuracy: \", training_accuracy)\n",
        "print(\"Train Error: \", training_error)\n",
        "print(\"Test Accuracy: \", test_accuracy)\n",
        "print(\"Test Error: \", test_error)\n",
        "print(\"_\" * 101)"
      ],
      "execution_count": null,
      "outputs": [
        {
          "output_type": "stream",
          "text": [
            "_____________________________________________________________________________________________________\n",
            "Training Accuracy:  0.7120625\n",
            "Train Error:  0.28793749999999996\n",
            "Test Accuracy:  0.68575\n",
            "Test Error:  0.31425000000000003\n",
            "_____________________________________________________________________________________________________\n"
          ],
          "name": "stdout"
        }
      ]
    },
    {
      "cell_type": "code",
      "metadata": {
        "colab": {
          "base_uri": "https://localhost:8080/",
          "height": 318
        },
        "id": "D-_yeaZCuJQd",
        "outputId": "432069b8-4efb-4d1e-ad31-db36f5e0751b"
      },
      "source": [
        "conf_matrix = confusion_matrix(B_test, optimal_model.predict(A_test_bow_kdtree.todense()))\n",
        "class_label = [0, 1]\n",
        "df_conf_matrix = pd.DataFrame(\n",
        "    conf_matrix, index=class_label, columns=class_label)\n",
        "sns.heatmap(df_conf_matrix, annot=True, fmt='d')\n",
        "plt.title(\"Confusion Matrix\")\n",
        "plt.xlabel(\"Predicted\")\n",
        "plt.ylabel(\"Actual\")\n",
        "plt.show()\n",
        "print(\"_\" * 101)"
      ],
      "execution_count": null,
      "outputs": [
        {
          "output_type": "display_data",
          "data": {
            "image/png": "[encoded data removed]",
            "text/plain": [
              "<Figure size 432x288 with 2 Axes>"
            ]
          },
          "metadata": {
            "tags": []
          }
        },
        {
          "output_type": "stream",
          "text": [
            "_____________________________________________________________________________________________________\n"
          ],
          "name": "stdout"
        }
      ]
    },
    {
      "cell_type": "code",
      "metadata": {
        "colab": {
          "base_uri": "https://localhost:8080/"
        },
        "id": "1MbJokFEuNmK",
        "outputId": "0034abee-1c3f-4bec-b6b4-7a43992227f4"
      },
      "source": [
        "from sklearn.metrics import classification_report\n",
        "print(classification_report(B_test, prediction))"
      ],
      "execution_count": null,
      "outputs": [
        {
          "output_type": "stream",
          "text": [
            "              precision    recall  f1-score   support\n",
            "\n",
            "           0       0.64      0.82      0.72      1954\n",
            "           1       0.76      0.56      0.65      2046\n",
            "\n",
            "    accuracy                           0.69      4000\n",
            "   macro avg       0.70      0.69      0.68      4000\n",
            "weighted avg       0.70      0.69      0.68      4000\n",
            "\n"
          ],
          "name": "stdout"
        }
      ]
    },
    {
      "cell_type": "markdown",
      "metadata": {
        "id": "Six9v0Ofualy"
      },
      "source": [
        "# TIFDF - tree"
      ]
    },
    {
      "cell_type": "code",
      "metadata": {
        "id": "NWr6qvawBKRh"
      },
      "source": [
        "from sklearn.feature_extraction.text import TfidfTransformer\n",
        "from sklearn.feature_extraction.text import TfidfVectorizer"
      ],
      "execution_count": null,
      "outputs": []
    },
    {
      "cell_type": "code",
      "metadata": {
        "colab": {
          "base_uri": "https://localhost:8080/"
        },
        "id": "iDaXoBb2umfy",
        "outputId": "cd8a9aec-97b7-47b7-f959-6c8ee40bb008"
      },
      "source": [
        "tf_idf_vect = TfidfVectorizer(ngram_range=(1,2), min_df=5, max_df=100)\n",
        "tf_idf_vect.fit(A_train)\n",
        "A_train_tfidf =tf_idf_vect.transform(A_train)\n",
        "A_cv_tfidf=tf_idf_vect.transform(A_cv)\n",
        "A_test_tfidf=tf_idf_vect.transform(A_test)\n",
        "print(A_train_tfidf.shape)"
      ],
      "execution_count": null,
      "outputs": [
        {
          "output_type": "stream",
          "text": [
            "(16000, 7725)\n"
          ],
          "name": "stdout"
        }
      ]
    },
    {
      "cell_type": "code",
      "metadata": {
        "id": "-QQ_jIA8urO4"
      },
      "source": [
        "train_auc = []\n",
        "cv_auc = []\n",
        "K = list(range(1,200,10))\n",
        "for i in K:\n",
        "    neigh = KNeighborsClassifier(n_neighbors=i, algorithm='kd_tree')\n",
        "    neigh.fit(A_train_tfidf.todense(), B_train)\n",
        "    # roc_auc_score(y_true, y_score) the 2nd parameter should be probability estimates of the positive class\n",
        "    # not the predicted outputs\n",
        "    B_train_pred =  neigh.predict_proba(A_train_tfidf.todense())[:,1]\n",
        "    B_cv_pred =  neigh.predict_proba(A_cv_tfidf.todense())[:,1]\n",
        "    \n",
        "    train_auc.append(roc_auc_score(B_train,B_train_pred))\n",
        "    cv_auc.append(roc_auc_score(B_cv, B_cv_pred))\n",
        "\n",
        "plt.plot(K, train_auc, label='Train AUC')\n",
        "plt.scatter(K, train_auc, label='Train AUC')\n",
        "plt.plot(K, cv_auc, label='CV AUC')\n",
        "plt.scatter(K, cv_auc, label='CV AUC')\n",
        "plt.legend()\n",
        "plt.xlabel(\"K: hyperparameter\")\n",
        "plt.ylabel(\"AUC\")\n",
        "plt.title(\"ERROR PLOTS\")\n",
        "plt.show()"
      ],
      "execution_count": null,
      "outputs": []
    },
    {
      "cell_type": "code",
      "metadata": {
        "colab": {
          "base_uri": "https://localhost:8080/",
          "height": 229
        },
        "id": "J4rRM4itutc_",
        "outputId": "00fe3057-2a3f-4b76-db30-144d8fa3ea8b"
      },
      "source": [
        "from sklearn.metrics import accuracy_score\n",
        "neighbors = list(range(109,125,2))\n",
        "cv_score = []\n",
        "for k in tqdm(neighbors):\n",
        "    knn = KNeighborsClassifier(n_neighbors=k, algorithm='kd_tree')\n",
        "    scores = cross_val_score(knn, A_train_tfidf.todense(), B_train, cv=3, scoring='accuracy')\n",
        "    cv_score.append(scores.mean())"
      ],
      "execution_count": null,
      "outputs": [
        {
          "output_type": "error",
          "ename": "NameError",
          "evalue": "ignored",
          "traceback": [
            "\u001b[0;31m---------------------------------------------------------------------------\u001b[0m",
            "\u001b[0;31mNameError\u001b[0m                                 Traceback (most recent call last)",
            "\u001b[0;32m<ipython-input-1-dd4a07f1c396>\u001b[0m in \u001b[0;36m<module>\u001b[0;34m()\u001b[0m\n\u001b[1;32m      2\u001b[0m \u001b[0mneighbors\u001b[0m \u001b[0;34m=\u001b[0m \u001b[0mlist\u001b[0m\u001b[0;34m(\u001b[0m\u001b[0mrange\u001b[0m\u001b[0;34m(\u001b[0m\u001b[0;36m109\u001b[0m\u001b[0;34m,\u001b[0m\u001b[0;36m125\u001b[0m\u001b[0;34m,\u001b[0m\u001b[0;36m2\u001b[0m\u001b[0;34m)\u001b[0m\u001b[0;34m)\u001b[0m\u001b[0;34m\u001b[0m\u001b[0;34m\u001b[0m\u001b[0m\n\u001b[1;32m      3\u001b[0m \u001b[0mcv_score\u001b[0m \u001b[0;34m=\u001b[0m \u001b[0;34m[\u001b[0m\u001b[0;34m]\u001b[0m\u001b[0;34m\u001b[0m\u001b[0;34m\u001b[0m\u001b[0m\n\u001b[0;32m----> 4\u001b[0;31m \u001b[0;32mfor\u001b[0m \u001b[0mk\u001b[0m \u001b[0;32min\u001b[0m \u001b[0mtqdm\u001b[0m\u001b[0;34m(\u001b[0m\u001b[0mneighbors\u001b[0m\u001b[0;34m)\u001b[0m\u001b[0;34m:\u001b[0m\u001b[0;34m\u001b[0m\u001b[0;34m\u001b[0m\u001b[0m\n\u001b[0m\u001b[1;32m      5\u001b[0m     \u001b[0mknn\u001b[0m \u001b[0;34m=\u001b[0m \u001b[0mKNeighborsClassifier\u001b[0m\u001b[0;34m(\u001b[0m\u001b[0mn_neighbors\u001b[0m\u001b[0;34m=\u001b[0m\u001b[0mk\u001b[0m\u001b[0;34m,\u001b[0m \u001b[0malgorithm\u001b[0m\u001b[0;34m=\u001b[0m\u001b[0;34m'kd_tree'\u001b[0m\u001b[0;34m)\u001b[0m\u001b[0;34m\u001b[0m\u001b[0;34m\u001b[0m\u001b[0m\n\u001b[1;32m      6\u001b[0m     \u001b[0mscores\u001b[0m \u001b[0;34m=\u001b[0m \u001b[0mcross_val_score\u001b[0m\u001b[0;34m(\u001b[0m\u001b[0mknn\u001b[0m\u001b[0;34m,\u001b[0m \u001b[0mA_train_tfidf\u001b[0m\u001b[0;34m.\u001b[0m\u001b[0mtodense\u001b[0m\u001b[0;34m(\u001b[0m\u001b[0;34m)\u001b[0m\u001b[0;34m,\u001b[0m \u001b[0mB_train\u001b[0m\u001b[0;34m,\u001b[0m \u001b[0mcv\u001b[0m\u001b[0;34m=\u001b[0m\u001b[0;36m3\u001b[0m\u001b[0;34m,\u001b[0m \u001b[0mscoring\u001b[0m\u001b[0;34m=\u001b[0m\u001b[0;34m'accuracy'\u001b[0m\u001b[0;34m)\u001b[0m\u001b[0;34m\u001b[0m\u001b[0;34m\u001b[0m\u001b[0m\n",
            "\u001b[0;31mNameError\u001b[0m: name 'tqdm' is not defined"
          ]
        }
      ]
    },
    {
      "cell_type": "code",
      "metadata": {
        "id": "y8V2Papeuvdg"
      },
      "source": [
        "MSE = [1 - x for x in cv_score]\n",
        "optimal_k6 = neighbors[MSE.index(min(MSE))]\n",
        "print(\"_\" * 101)\n",
        "print(\"Optimal number of neighbors: \", optimal_k6)\n",
        "print(\"_\" * 101)\n",
        "print(\"Missclassification error for each k values: \", np.round(MSE, 3))\n",
        "print(\"_\" * 101)\n",
        "\n",
        "plt.plot(neighbors, MSE)\n",
        "plt.title(\"Number of neighbors and error\")\n",
        "plt.xlabel(\"Number of neighbors\")\n",
        "plt.ylabel(\"Missclassification error\")\n",
        "plt.show()"
      ],
      "execution_count": null,
      "outputs": []
    },
    {
      "cell_type": "code",
      "metadata": {
        "id": "uvs3uRosux7I"
      },
      "source": [
        "optimal_model = KNeighborsClassifier(n_neighbors=optimal_k6, algorithm='kd_tree')\n",
        "optimal_model.fit(A_train_tfidf.todense(), B_train)\n",
        "prediction = optimal_model.predict(A_test_tfidf.todense())"
      ],
      "execution_count": null,
      "outputs": []
    },
    {
      "cell_type": "code",
      "metadata": {
        "id": "Z4qLf7Zqu0mJ"
      },
      "source": [
        "train_fpr, train_tpr, thresholds = roc_curve(B_train, optimal_model.predict_proba(A_train_tfidf.todense())[:,1])\n",
        "test_fpr, test_tpr, thresholds = roc_curve(B_test, optimal_model.predict_proba(A_test_tfidf.todense())[:,1])\n",
        "AUC6=str(auc(test_fpr, test_tpr))\n",
        "plt.plot(train_fpr, train_tpr, label=\"train AUC =\"+str(auc(train_fpr, train_tpr)))\n",
        "plt.plot(test_fpr, test_tpr, label=\"test AUC =\"+str(auc(test_fpr, test_tpr)))\n",
        "plt.legend()\n",
        "plt.xlabel(\"K: hyperparameter\")\n",
        "plt.ylabel(\"AUC\")\n",
        "plt.title(\"ERROR PLOTS\")\n",
        "plt.show()"
      ],
      "execution_count": null,
      "outputs": []
    },
    {
      "cell_type": "code",
      "metadata": {
        "id": "oVo9ymnLu3RJ"
      },
      "source": [
        "training_accuracy = optimal_model.score(A_train_tfidf.todense(), B_train)\n",
        "training_error = 1 - training_accuracy\n",
        "test_accuracy = accuracy_score(B_test, prediction)\n",
        "test_error = 1 - test_accuracy\n",
        "\n",
        "\n",
        "print(\"_\" * 101)\n",
        "print(\"Training Accuracy: \", training_accuracy)\n",
        "print(\"Train Error: \", training_error)\n",
        "print(\"Test Accuracy: \", test_accuracy)\n",
        "print(\"Test Error: \", test_error)\n",
        "print(\"_\" * 101)"
      ],
      "execution_count": null,
      "outputs": []
    },
    {
      "cell_type": "code",
      "metadata": {
        "id": "rRcG2EN0u5dI"
      },
      "source": [
        "conf_matrix = confusion_matrix(B_test, optimal_model.predict(A_test_tfidf.todense()))\n",
        "class_label = [0, 1]\n",
        "df_conf_matrix = pd.DataFrame(\n",
        "    conf_matrix, index=class_label, columns=class_label)\n",
        "sns.heatmap(df_conf_matrix, annot=True, fmt='d')\n",
        "plt.title(\"Confusion Matrix\")\n",
        "plt.xlabel(\"Predicted\")\n",
        "plt.ylabel(\"Actual\")\n",
        "plt.show()\n",
        "print(\"_\" * 101)"
      ],
      "execution_count": null,
      "outputs": []
    },
    {
      "cell_type": "code",
      "metadata": {
        "id": "2PrCmHB2u96J"
      },
      "source": [
        "from sklearn.metrics import classification_report\n",
        "print(classification_report(B_test, prediction))"
      ],
      "execution_count": null,
      "outputs": []
    },
    {
      "cell_type": "code",
      "metadata": {
        "id": "TZPWUZgHvBbl"
      },
      "source": [
        "from prettytable import PrettyTable\n",
        "comparison = PrettyTable()\n",
        "comparison.field_names = [\"Vectorizer\", \"Model\", \"Hyperparameter\", \"AUC\"]\n",
        "comparison.add_row([\"BOW\", 'brute', optimal_k1, np.round(float(AUC1),3)])\n",
        "comparison.add_row([\"TFIDF\", 'brute', optimal_k2, np.round(float(AUC2),3)])\n",
        "\n",
        "comparison.add_row([\"BOW\", 'kd_tree', optimal_k5, np.round(float(AUC5),3)])\n",
        "comparison.add_row([\"TFIDF\", 'kd_tree', optimal_k6, np.round(float(AUC6),3)])\n",
        "\n",
        "print(comparison)"
      ],
      "execution_count": null,
      "outputs": []
    },
    {
      "cell_type": "markdown",
      "metadata": {
        "id": "a1NN_fN4NcLQ"
      },
      "source": [
        "# Insights"
      ]
    },
    {
      "cell_type": "code",
      "metadata": {
        "id": "vgioF51NMRnt"
      },
      "source": [
        "rel_senti = df_tweets_nltk[['state','vader_clean_polarity','ds']].groupby(['state','ds']).mean()\n",
        "rel_senti.reset_index(inplace = True)"
      ],
      "execution_count": null,
      "outputs": []
    },
    {
      "cell_type": "code",
      "metadata": {
        "colab": {
          "base_uri": "https://localhost:8080/",
          "height": 225
        },
        "id": "Qfhb9Zu6MUxJ",
        "outputId": "feadbf6d-daa2-4c61-ec58-670ebe91fcca"
      },
      "source": [
        "rel_senti.head(6)"
      ],
      "execution_count": null,
      "outputs": [
        {
          "output_type": "execute_result",
          "data": {
            "text/html": [
              "<div>\n",
              "<style scoped>\n",
              "    .dataframe tbody tr th:only-of-type {\n",
              "        vertical-align: middle;\n",
              "    }\n",
              "\n",
              "    .dataframe tbody tr th {\n",
              "        vertical-align: top;\n",
              "    }\n",
              "\n",
              "    .dataframe thead th {\n",
              "        text-align: right;\n",
              "    }\n",
              "</style>\n",
              "<table border=\"1\" class=\"dataframe\">\n",
              "  <thead>\n",
              "    <tr style=\"text-align: right;\">\n",
              "      <th></th>\n",
              "      <th>state</th>\n",
              "      <th>ds</th>\n",
              "      <th>vader_clean_polarity</th>\n",
              "    </tr>\n",
              "  </thead>\n",
              "  <tbody>\n",
              "    <tr>\n",
              "      <th>0</th>\n",
              "      <td>Alabama</td>\n",
              "      <td>biden</td>\n",
              "      <td>0.116889</td>\n",
              "    </tr>\n",
              "    <tr>\n",
              "      <th>1</th>\n",
              "      <td>Alabama</td>\n",
              "      <td>trump</td>\n",
              "      <td>-0.010295</td>\n",
              "    </tr>\n",
              "    <tr>\n",
              "      <th>2</th>\n",
              "      <td>Alaska</td>\n",
              "      <td>biden</td>\n",
              "      <td>0.162138</td>\n",
              "    </tr>\n",
              "    <tr>\n",
              "      <th>3</th>\n",
              "      <td>Alaska</td>\n",
              "      <td>trump</td>\n",
              "      <td>-0.064447</td>\n",
              "    </tr>\n",
              "    <tr>\n",
              "      <th>4</th>\n",
              "      <td>Arizona</td>\n",
              "      <td>biden</td>\n",
              "      <td>0.101238</td>\n",
              "    </tr>\n",
              "    <tr>\n",
              "      <th>5</th>\n",
              "      <td>Arizona</td>\n",
              "      <td>trump</td>\n",
              "      <td>-0.018416</td>\n",
              "    </tr>\n",
              "  </tbody>\n",
              "</table>\n",
              "</div>"
            ],
            "text/plain": [
              "     state     ds  vader_clean_polarity\n",
              "0  Alabama  biden              0.116889\n",
              "1  Alabama  trump             -0.010295\n",
              "2   Alaska  biden              0.162138\n",
              "3   Alaska  trump             -0.064447\n",
              "4  Arizona  biden              0.101238\n",
              "5  Arizona  trump             -0.018416"
            ]
          },
          "metadata": {
            "tags": []
          },
          "execution_count": 187
        }
      ]
    },
    {
      "cell_type": "code",
      "metadata": {
        "colab": {
          "base_uri": "https://localhost:8080/"
        },
        "id": "nAsKDArKNCAH",
        "outputId": "b5dd1e26-f33e-4a08-e20a-0f309525b16c"
      },
      "source": [
        "# checking to see if all 52 States per candidate are present; there should be a total of a 104\n",
        "rel_senti.shape"
      ],
      "execution_count": null,
      "outputs": [
        {
          "output_type": "execute_result",
          "data": {
            "text/plain": [
              "(103, 3)"
            ]
          },
          "metadata": {
            "tags": []
          },
          "execution_count": 188
        }
      ]
    },
    {
      "cell_type": "markdown",
      "metadata": {
        "id": "Dlp6GjtPbOAT"
      },
      "source": [
        "There is only a total of a 103 States which indicates that one State is missing; i.e. no one tweeted about the candidate from that State"
      ]
    },
    {
      "cell_type": "code",
      "metadata": {
        "colab": {
          "base_uri": "https://localhost:8080/",
          "height": 77
        },
        "id": "TftKUfJQONFx",
        "outputId": "e55bd011-06a1-4f43-f674-ed18341f6ecc"
      },
      "source": [
        "total_test = (rel_senti.state.value_counts()!=2).reset_index()\n",
        "total_test[total_test.state == True]"
      ],
      "execution_count": null,
      "outputs": [
        {
          "output_type": "execute_result",
          "data": {
            "text/html": [
              "<div>\n",
              "<style scoped>\n",
              "    .dataframe tbody tr th:only-of-type {\n",
              "        vertical-align: middle;\n",
              "    }\n",
              "\n",
              "    .dataframe tbody tr th {\n",
              "        vertical-align: top;\n",
              "    }\n",
              "\n",
              "    .dataframe thead th {\n",
              "        text-align: right;\n",
              "    }\n",
              "</style>\n",
              "<table border=\"1\" class=\"dataframe\">\n",
              "  <thead>\n",
              "    <tr style=\"text-align: right;\">\n",
              "      <th></th>\n",
              "      <th>index</th>\n",
              "      <th>state</th>\n",
              "    </tr>\n",
              "  </thead>\n",
              "  <tbody>\n",
              "    <tr>\n",
              "      <th>51</th>\n",
              "      <td>South Dakota</td>\n",
              "      <td>True</td>\n",
              "    </tr>\n",
              "  </tbody>\n",
              "</table>\n",
              "</div>"
            ],
            "text/plain": [
              "           index  state\n",
              "51  South Dakota   True"
            ]
          },
          "metadata": {
            "tags": []
          },
          "execution_count": 190
        }
      ]
    },
    {
      "cell_type": "code",
      "metadata": {
        "colab": {
          "base_uri": "https://localhost:8080/",
          "height": 77
        },
        "id": "majG0A2VO_E1",
        "outputId": "7c41bd3e-5703-42c4-b829-7fd26c334b88"
      },
      "source": [
        "rel_senti[rel_senti.state=='South Dakota']"
      ],
      "execution_count": null,
      "outputs": [
        {
          "output_type": "execute_result",
          "data": {
            "text/html": [
              "<div>\n",
              "<style scoped>\n",
              "    .dataframe tbody tr th:only-of-type {\n",
              "        vertical-align: middle;\n",
              "    }\n",
              "\n",
              "    .dataframe tbody tr th {\n",
              "        vertical-align: top;\n",
              "    }\n",
              "\n",
              "    .dataframe thead th {\n",
              "        text-align: right;\n",
              "    }\n",
              "</style>\n",
              "<table border=\"1\" class=\"dataframe\">\n",
              "  <thead>\n",
              "    <tr style=\"text-align: right;\">\n",
              "      <th></th>\n",
              "      <th>state</th>\n",
              "      <th>ds</th>\n",
              "      <th>vader_clean_polarity</th>\n",
              "    </tr>\n",
              "  </thead>\n",
              "  <tbody>\n",
              "    <tr>\n",
              "      <th>84</th>\n",
              "      <td>South Dakota</td>\n",
              "      <td>biden</td>\n",
              "      <td>0.15873</td>\n",
              "    </tr>\n",
              "  </tbody>\n",
              "</table>\n",
              "</div>"
            ],
            "text/plain": [
              "           state     ds  vader_clean_polarity\n",
              "84  South Dakota  biden               0.15873"
            ]
          },
          "metadata": {
            "tags": []
          },
          "execution_count": 144
        }
      ]
    },
    {
      "cell_type": "code",
      "metadata": {
        "colab": {
          "base_uri": "https://localhost:8080/",
          "height": 402
        },
        "id": "-RNpDXmtO-0o",
        "outputId": "410392ff-131e-4317-aaeb-6926311294b0"
      },
      "source": [
        "rel_senti = rel_senti.append({'state': 'South Dakota', 'ds':'trump', 'vader_clean_polarity':0}, ignore_index=True)\n",
        "rel_senti.sort_values('state', ascending=True, inplace=True)\n",
        "rel_senti.reset_index(drop=True)"
      ],
      "execution_count": null,
      "outputs": [
        {
          "output_type": "execute_result",
          "data": {
            "text/html": [
              "<div>\n",
              "<style scoped>\n",
              "    .dataframe tbody tr th:only-of-type {\n",
              "        vertical-align: middle;\n",
              "    }\n",
              "\n",
              "    .dataframe tbody tr th {\n",
              "        vertical-align: top;\n",
              "    }\n",
              "\n",
              "    .dataframe thead th {\n",
              "        text-align: right;\n",
              "    }\n",
              "</style>\n",
              "<table border=\"1\" class=\"dataframe\">\n",
              "  <thead>\n",
              "    <tr style=\"text-align: right;\">\n",
              "      <th></th>\n",
              "      <th>state</th>\n",
              "      <th>ds</th>\n",
              "      <th>vader_clean_polarity</th>\n",
              "    </tr>\n",
              "  </thead>\n",
              "  <tbody>\n",
              "    <tr>\n",
              "      <th>0</th>\n",
              "      <td>Alabama</td>\n",
              "      <td>biden</td>\n",
              "      <td>0.116889</td>\n",
              "    </tr>\n",
              "    <tr>\n",
              "      <th>1</th>\n",
              "      <td>Alabama</td>\n",
              "      <td>trump</td>\n",
              "      <td>-0.010295</td>\n",
              "    </tr>\n",
              "    <tr>\n",
              "      <th>2</th>\n",
              "      <td>Alaska</td>\n",
              "      <td>biden</td>\n",
              "      <td>0.162138</td>\n",
              "    </tr>\n",
              "    <tr>\n",
              "      <th>3</th>\n",
              "      <td>Alaska</td>\n",
              "      <td>trump</td>\n",
              "      <td>-0.064447</td>\n",
              "    </tr>\n",
              "    <tr>\n",
              "      <th>4</th>\n",
              "      <td>Arizona</td>\n",
              "      <td>biden</td>\n",
              "      <td>0.101238</td>\n",
              "    </tr>\n",
              "    <tr>\n",
              "      <th>...</th>\n",
              "      <td>...</td>\n",
              "      <td>...</td>\n",
              "      <td>...</td>\n",
              "    </tr>\n",
              "    <tr>\n",
              "      <th>99</th>\n",
              "      <td>West Virginia</td>\n",
              "      <td>trump</td>\n",
              "      <td>-0.055240</td>\n",
              "    </tr>\n",
              "    <tr>\n",
              "      <th>100</th>\n",
              "      <td>Wisconsin</td>\n",
              "      <td>biden</td>\n",
              "      <td>0.167222</td>\n",
              "    </tr>\n",
              "    <tr>\n",
              "      <th>101</th>\n",
              "      <td>Wisconsin</td>\n",
              "      <td>trump</td>\n",
              "      <td>-0.019822</td>\n",
              "    </tr>\n",
              "    <tr>\n",
              "      <th>102</th>\n",
              "      <td>Wyoming</td>\n",
              "      <td>biden</td>\n",
              "      <td>0.038167</td>\n",
              "    </tr>\n",
              "    <tr>\n",
              "      <th>103</th>\n",
              "      <td>Wyoming</td>\n",
              "      <td>trump</td>\n",
              "      <td>0.136129</td>\n",
              "    </tr>\n",
              "  </tbody>\n",
              "</table>\n",
              "<p>104 rows × 3 columns</p>\n",
              "</div>"
            ],
            "text/plain": [
              "             state     ds  vader_clean_polarity\n",
              "0          Alabama  biden              0.116889\n",
              "1          Alabama  trump             -0.010295\n",
              "2           Alaska  biden              0.162138\n",
              "3           Alaska  trump             -0.064447\n",
              "4          Arizona  biden              0.101238\n",
              "..             ...    ...                   ...\n",
              "99   West Virginia  trump             -0.055240\n",
              "100      Wisconsin  biden              0.167222\n",
              "101      Wisconsin  trump             -0.019822\n",
              "102        Wyoming  biden              0.038167\n",
              "103        Wyoming  trump              0.136129\n",
              "\n",
              "[104 rows x 3 columns]"
            ]
          },
          "metadata": {
            "tags": []
          },
          "execution_count": 145
        }
      ]
    },
    {
      "cell_type": "code",
      "metadata": {
        "id": "6S0sdAKWPLFh"
      },
      "source": [
        "rel_senti = rel_senti[['state','vader_clean_polarity']].groupby('state')\n",
        "rel_senti = rel_senti.diff(periods=-1)"
      ],
      "execution_count": null,
      "outputs": []
    },
    {
      "cell_type": "code",
      "metadata": {
        "colab": {
          "base_uri": "https://localhost:8080/",
          "height": 166
        },
        "id": "eQRhBIiaPLiB",
        "outputId": "3afce1cd-cdb2-4315-b184-3315bd2c5288"
      },
      "source": [
        "rel_senti.dropna(inplace=True)\n",
        "rel_senti.reset_index(inplace = True, drop=True)\n",
        "rel_senti.head(4)"
      ],
      "execution_count": null,
      "outputs": [
        {
          "output_type": "execute_result",
          "data": {
            "text/html": [
              "<div>\n",
              "<style scoped>\n",
              "    .dataframe tbody tr th:only-of-type {\n",
              "        vertical-align: middle;\n",
              "    }\n",
              "\n",
              "    .dataframe tbody tr th {\n",
              "        vertical-align: top;\n",
              "    }\n",
              "\n",
              "    .dataframe thead th {\n",
              "        text-align: right;\n",
              "    }\n",
              "</style>\n",
              "<table border=\"1\" class=\"dataframe\">\n",
              "  <thead>\n",
              "    <tr style=\"text-align: right;\">\n",
              "      <th></th>\n",
              "      <th>vader_clean_polarity</th>\n",
              "    </tr>\n",
              "  </thead>\n",
              "  <tbody>\n",
              "    <tr>\n",
              "      <th>0</th>\n",
              "      <td>0.127184</td>\n",
              "    </tr>\n",
              "    <tr>\n",
              "      <th>1</th>\n",
              "      <td>0.226585</td>\n",
              "    </tr>\n",
              "    <tr>\n",
              "      <th>2</th>\n",
              "      <td>0.119655</td>\n",
              "    </tr>\n",
              "    <tr>\n",
              "      <th>3</th>\n",
              "      <td>0.331824</td>\n",
              "    </tr>\n",
              "  </tbody>\n",
              "</table>\n",
              "</div>"
            ],
            "text/plain": [
              "   vader_clean_polarity\n",
              "0              0.127184\n",
              "1              0.226585\n",
              "2              0.119655\n",
              "3              0.331824"
            ]
          },
          "metadata": {
            "tags": []
          },
          "execution_count": 147
        }
      ]
    },
    {
      "cell_type": "code",
      "metadata": {
        "colab": {
          "base_uri": "https://localhost:8080/",
          "height": 136
        },
        "id": "H9zF5HAyPU-g",
        "outputId": "0c75a5f2-791d-4796-cf07-d316a48bfd13"
      },
      "source": [
        "states_df = pd.DataFrame(data=np.sort(df_tweets_nltk.state.unique()), columns=['state'])\n",
        "rel_senti = rel_senti.join(states_df)\n",
        "rel_senti.head(3)"
      ],
      "execution_count": null,
      "outputs": [
        {
          "output_type": "execute_result",
          "data": {
            "text/html": [
              "<div>\n",
              "<style scoped>\n",
              "    .dataframe tbody tr th:only-of-type {\n",
              "        vertical-align: middle;\n",
              "    }\n",
              "\n",
              "    .dataframe tbody tr th {\n",
              "        vertical-align: top;\n",
              "    }\n",
              "\n",
              "    .dataframe thead th {\n",
              "        text-align: right;\n",
              "    }\n",
              "</style>\n",
              "<table border=\"1\" class=\"dataframe\">\n",
              "  <thead>\n",
              "    <tr style=\"text-align: right;\">\n",
              "      <th></th>\n",
              "      <th>vader_clean_polarity</th>\n",
              "      <th>state</th>\n",
              "    </tr>\n",
              "  </thead>\n",
              "  <tbody>\n",
              "    <tr>\n",
              "      <th>0</th>\n",
              "      <td>0.127184</td>\n",
              "      <td>Alabama</td>\n",
              "    </tr>\n",
              "    <tr>\n",
              "      <th>1</th>\n",
              "      <td>0.226585</td>\n",
              "      <td>Alaska</td>\n",
              "    </tr>\n",
              "    <tr>\n",
              "      <th>2</th>\n",
              "      <td>0.119655</td>\n",
              "      <td>Arizona</td>\n",
              "    </tr>\n",
              "  </tbody>\n",
              "</table>\n",
              "</div>"
            ],
            "text/plain": [
              "   vader_clean_polarity    state\n",
              "0              0.127184  Alabama\n",
              "1              0.226585   Alaska\n",
              "2              0.119655  Arizona"
            ]
          },
          "metadata": {
            "tags": []
          },
          "execution_count": 148
        }
      ]
    },
    {
      "cell_type": "code",
      "metadata": {
        "id": "LykwuqtOndnq"
      },
      "source": [
        ""
      ],
      "execution_count": null,
      "outputs": []
    },
    {
      "cell_type": "code",
      "metadata": {
        "id": "kyQ3w_noP-LL"
      },
      "source": [
        "geo_usa_df = pd.read_json('../input/a-simple-geojson-file-for-us-state/geo_usa.json')\n",
        "geo_usa_df.head()"
      ],
      "execution_count": null,
      "outputs": []
    }
  ]
}